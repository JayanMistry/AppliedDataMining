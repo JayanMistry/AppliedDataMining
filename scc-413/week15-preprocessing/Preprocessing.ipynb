{
 "cells": [
  {
   "cell_type": "markdown",
   "metadata": {},
   "source": [
    "# Preprocessing"
   ]
  },
  {
   "cell_type": "markdown",
   "metadata": {},
   "source": [
    "## Character Encoding\n",
    "\n",
    "There are countless ways that text can be turned into binary data to be stored on disk, these are known as character encodings. Fortunately for us, more and more textual data is being standardised to UTF-8 (dominant Unicode character encoding), and the majority of web pages are now in UTF-8. An extra win is that Python 3 does everything in Unicode by default, and reads and writes to UTF-8 by default. This means a lot of the time you will not need to worry about character encoding, switching between them, and potentially corrupting text. "
   ]
  },
  {
   "cell_type": "markdown",
   "metadata": {},
   "source": [
    "Because ASCII is a subset of Unicode (first block), then if you are only dealing with ASCII characters, then you don't even need to know that you are using Unicode. However, if you want to use characters outside of ASCII, then Python makes this easy as everything is in Unicode. All 137,374 characters (as of [Unicode 11.0](http://www.unicode.org/versions/Unicode11.0.0/)) are available for you to use, so if you want a string with Jalapeño in it, you can go right ahead:"
   ]
  },
  {
   "cell_type": "code",
   "execution_count": 1,
   "metadata": {
    "scrolled": false
   },
   "outputs": [
    {
     "name": "stdout",
     "output_type": "stream",
     "text": [
      "This is a spicy jalapeño.\n"
     ]
    }
   ],
   "source": [
    "print(\"This is a spicy jalapeño.\")"
   ]
  },
  {
   "cell_type": "markdown",
   "metadata": {},
   "source": [
    "Because Python 3 is Unicode throughout, you can even use non-ASCII characters as variable names ([with some restrictions](https://docs.python.org/3/reference/lexical_analysis.html#identifiers)):"
   ]
  },
  {
   "cell_type": "code",
   "execution_count": 2,
   "metadata": {},
   "outputs": [
    {
     "name": "stdout",
     "output_type": "stream",
     "text": [
      "3.14\n"
     ]
    }
   ],
   "source": [
    "π = 3.14\n",
    "print(π)"
   ]
  },
  {
   "cell_type": "markdown",
   "metadata": {},
   "source": [
    "You can use the characters directly (as above) if you can get them on your keyboard, or pasted in from somewhere (e.g. [Unicode charts](https://unicode.org/charts/)). Alternatively, you can use special escape sequences:\n",
    "\n",
    "- \\xhh : char with 8-bit hex value (code points U+00 - U+FF (latin-1))\n",
    "- \\uhhhh : char with 16-bit hex value (code points U+0100 - U+FFFF)\n",
    "- \\Uhhhhhhhh : char with 32-bit hex value  (code points > U+10000)\n",
    "- \\N{name} : char with name from Unicode database: https://unicode.org/charts/"
   ]
  },
  {
   "cell_type": "code",
   "execution_count": 3,
   "metadata": {},
   "outputs": [
    {
     "name": "stdout",
     "output_type": "stream",
     "text": [
      "ñ π 🙃 ࠉ\n"
     ]
    }
   ],
   "source": [
    "a = \"\\xf1\"\n",
    "b = \"\\u03C0\"\n",
    "c = \"\\U0001F643\"\n",
    "d = \"\\N{SAMARITAN LETTER YUT}\"\n",
    "\n",
    "print(a,b,c,d)"
   ]
  },
  {
   "cell_type": "markdown",
   "metadata": {},
   "source": [
    "Whichever you use, these equate to the same Unicode codepoint within Python:"
   ]
  },
  {
   "cell_type": "code",
   "execution_count": 4,
   "metadata": {},
   "outputs": [
    {
     "name": "stdout",
     "output_type": "stream",
     "text": [
      "True\n"
     ]
    }
   ],
   "source": [
    "print(\"ñ\" == \"\\xf1\" == \"\\u00f1\" == \"\\U000000f1\" == \"\\N{LATIN SMALL LETTER N WITH TILDE}\")"
   ]
  },
  {
   "cell_type": "markdown",
   "metadata": {},
   "source": [
    "For I/O (e.g. reading/writing files), Python 3 uses UTF-8 by default. UTF-8, as described in the lecture, is a multi-byte character encoding capable of representing all possible Unicode characters. If we use Python's encode function to transform a string to a sequence of bytes, we can see this: "
   ]
  },
  {
   "cell_type": "code",
   "execution_count": 5,
   "metadata": {},
   "outputs": [
    {
     "name": "stdout",
     "output_type": "stream",
     "text": [
      "b'jalape\\xc3\\xb1o'\n"
     ]
    }
   ],
   "source": [
    "r = \"jalapeño\"\n",
    "print(r.encode(\"utf-8\"))"
   ]
  },
  {
   "cell_type": "markdown",
   "metadata": {},
   "source": [
    "Defining the encoding as \"utf-8\" is actually redundant as it is the default."
   ]
  },
  {
   "cell_type": "code",
   "execution_count": 8,
   "metadata": {},
   "outputs": [
    {
     "name": "stdout",
     "output_type": "stream",
     "text": [
      "b'jalape\\xc3\\xb1o'\n"
     ]
    }
   ],
   "source": [
    "print(r.encode())"
   ]
  },
  {
   "cell_type": "markdown",
   "metadata": {},
   "source": [
    "The b'...' signifies the sequence of bytes.\n",
    "\n",
    "In UTF-8, single byte characters are shown using their ASCII character (as for j, a, l, a, p, e, o). Multiple-byte characters are shown as hex values, so ñ is transformed to \\xc3\\xb1 (a two byte UTF-8 character). See the lecture for more detail on this."
   ]
  },
  {
   "cell_type": "markdown",
   "metadata": {},
   "source": [
    "We can encode (and output) to different character encodings, as long as it is possible to do so:"
   ]
  },
  {
   "cell_type": "code",
   "execution_count": 11,
   "metadata": {},
   "outputs": [
    {
     "ename": "UnicodeEncodeError",
     "evalue": "'ascii' codec can't encode character '\\xf1' in position 6: ordinal not in range(128)",
     "output_type": "error",
     "traceback": [
      "\u001b[0;31m---------------------------------------------------------------------------\u001b[0m",
      "\u001b[0;31mUnicodeEncodeError\u001b[0m                        Traceback (most recent call last)",
      "\u001b[0;32m<ipython-input-11-d230ba83d63d>\u001b[0m in \u001b[0;36m<module>\u001b[0;34m()\u001b[0m\n\u001b[1;32m      1\u001b[0m \u001b[0mr\u001b[0m\u001b[0;34m.\u001b[0m\u001b[0mencode\u001b[0m\u001b[0;34m(\u001b[0m\u001b[0;34m\"latin-1\"\u001b[0m\u001b[0;34m)\u001b[0m\u001b[0;34m\u001b[0m\u001b[0m\n\u001b[0;32m----> 2\u001b[0;31m \u001b[0mr\u001b[0m\u001b[0;34m.\u001b[0m\u001b[0mencode\u001b[0m\u001b[0;34m(\u001b[0m\u001b[0;34m\"ascii\"\u001b[0m\u001b[0;34m)\u001b[0m\u001b[0;34m\u001b[0m\u001b[0m\n\u001b[0m",
      "\u001b[0;31mUnicodeEncodeError\u001b[0m: 'ascii' codec can't encode character '\\xf1' in position 6: ordinal not in range(128)"
     ]
    }
   ],
   "source": [
    "r.encode(\"ascii\")"
   ]
  },
  {
   "cell_type": "markdown",
   "metadata": {},
   "source": [
    "- Check you understand why the above code produces an error?\n",
    "- Try encoding to \"latin-1\", and check you understand why that is valid?\n",
    "- Try encoding the string \"jalapeno\" (without the diacritic) as ASCII. Does this work?\n",
    "\n",
    "Fill in your answers below."
   ]
  },
  {
   "cell_type": "code",
   "execution_count": 17,
   "metadata": {},
   "outputs": [
    {
     "data": {
      "text/plain": [
       "[106, 97, 108, 97, 112, 101, 241, 111]"
      ]
     },
     "execution_count": 17,
     "metadata": {},
     "output_type": "execute_result"
    }
   ],
   "source": [
    "#Cannot encode as ascii as the tild above n does not have a valid encoding.\n",
    "r.encode(\"latin-1\")\n",
    "r = \"jalapeno\"\n",
    "r.encode('ascii')\n",
    "\n",
    "r = \"jalapeño\"\n",
    "# below converts to ascii numbers\n",
    "[ord(c) for c in r]"
   ]
  },
  {
   "cell_type": "markdown",
   "metadata": {},
   "source": []
  },
  {
   "cell_type": "markdown",
   "metadata": {},
   "source": [
    "If you write to a file, this will be done as UTF-8 by default. Try the below, and then open the file in Atom text editor. You will see that the unicode displays correctly when opened as UTF-8. Try changing the encoding (bottom right in Atom) and you'll see other characters appear as the bytes used for characters is different."
   ]
  },
  {
   "cell_type": "code",
   "execution_count": 4,
   "metadata": {},
   "outputs": [
    {
     "ename": "NameError",
     "evalue": "name 'r' is not defined",
     "output_type": "error",
     "traceback": [
      "\u001b[0;31m---------------------------------------------------------------------------\u001b[0m",
      "\u001b[0;31mNameError\u001b[0m                                 Traceback (most recent call last)",
      "\u001b[0;32m<ipython-input-4-bb08c03b164d>\u001b[0m in \u001b[0;36m<module>\u001b[0;34m()\u001b[0m\n\u001b[1;32m      1\u001b[0m \u001b[0;32mwith\u001b[0m \u001b[0mopen\u001b[0m \u001b[0;34m(\u001b[0m\u001b[0;34m\"test-file.txt\"\u001b[0m\u001b[0;34m,\u001b[0m \u001b[0;34m'w'\u001b[0m\u001b[0;34m)\u001b[0m \u001b[0;32mas\u001b[0m \u001b[0mf\u001b[0m\u001b[0;34m:\u001b[0m\u001b[0;34m\u001b[0m\u001b[0m\n\u001b[0;32m----> 2\u001b[0;31m     \u001b[0mf\u001b[0m\u001b[0;34m.\u001b[0m\u001b[0mwrite\u001b[0m\u001b[0;34m(\u001b[0m\u001b[0mr\u001b[0m\u001b[0;34m)\u001b[0m\u001b[0;34m\u001b[0m\u001b[0m\n\u001b[0m",
      "\u001b[0;31mNameError\u001b[0m: name 'r' is not defined"
     ]
    }
   ],
   "source": [
    "with open (\"test-file.txt\", 'w') as f:\n",
    "    f.write(r)"
   ]
  },
  {
   "cell_type": "markdown",
   "metadata": {},
   "source": [
    "When you open files, again this will be done as UTF-8 by default:"
   ]
  },
  {
   "cell_type": "code",
   "execution_count": 28,
   "metadata": {},
   "outputs": [
    {
     "name": "stdout",
     "output_type": "stream",
     "text": [
      "jalapeño\n"
     ]
    }
   ],
   "source": [
    "with open(\"test-file.txt\") as f:\n",
    "    print(f.read())"
   ]
  },
  {
   "cell_type": "markdown",
   "metadata": {},
   "source": [
    "You can explicitly set the encoding for both reading and writing files, as below."
   ]
  },
  {
   "cell_type": "code",
   "execution_count": 20,
   "metadata": {},
   "outputs": [
    {
     "name": "stdout",
     "output_type": "stream",
     "text": [
      "jalapeño\n"
     ]
    }
   ],
   "source": [
    "with open(\"test-file.txt\", encoding=\"utf-8\") as f:\n",
    "    print(f.read())"
   ]
  },
  {
   "cell_type": "markdown",
   "metadata": {},
   "source": [
    "Try changing the encoding to \"ascii\" and \"latin-1\". Check you understand what happens, and write it down below."
   ]
  },
  {
   "cell_type": "code",
   "execution_count": 34,
   "metadata": {},
   "outputs": [
    {
     "name": "stdout",
     "output_type": "stream",
     "text": [
      "Test\n",
      "Test\n"
     ]
    }
   ],
   "source": [
    "with open (\"test-file.txt\", 'w', encoding='ascii') as f:\n",
    "    f.write('Test')\n",
    "\n",
    "with open(\"test-file.txt\", 'r', encoding=\"ascii\") as f:\n",
    "    print(f.read())\n",
    "    \n",
    "\n",
    "with open (\"test-file.txt\", 'w', encoding='latin-1') as f:\n",
    "    f.write('Test')\n",
    "\n",
    "with open(\"test-file.txt\", 'r', encoding=\"latin-1\") as f:\n",
    "    print(f.read())\n"
   ]
  },
  {
   "cell_type": "markdown",
   "metadata": {},
   "source": []
  },
  {
   "cell_type": "markdown",
   "metadata": {},
   "source": [
    "Hopefully all of the text you deal with will be UTF-8, as this makes life easier with Python. If you do have text other than UTF-8, you will need to carefully check you know what the encoding is and read it as such. Switching between encodings can cause problems, and should be done with care. There's a good guide here: http://python-notes.curiousefficiency.org/en/latest/python3/text_file_processing.html\n",
    "\n",
    "Note: Even when using UTF-8 it is generally good practice to explicitly set the encoding in case somebody using your code has changed the default encoding to something other than UTF-8."
   ]
  },
  {
   "cell_type": "markdown",
   "metadata": {},
   "source": [
    "There is a good overview available if you want to read more on Unicode and how it is dealt with in Python 3: https://docs.python.org/3/howto/unicode.html."
   ]
  },
  {
   "cell_type": "markdown",
   "metadata": {},
   "source": [
    "### Character variation"
   ]
  },
  {
   "cell_type": "markdown",
   "metadata": {},
   "source": [
    "One issue to be aware of is that there are often multiple Unicode codepoints available to represent the same character, and sometimes it is impossible to visually distinguish between them. For example, [combining diacritical marks](https://www.unicode.org/charts/PDF/U0300.pdf) can be used after any character to add a diacritic to the preceding letter. So, `e` with an acute accent can be written as `é` (one codepoint) or `e` and ` ́` combined (2 codepoints). When different codepoints are used, strings will not be equal, and if a different number of codepoints are used, their lengths will not be equal. i.e.:"
   ]
  },
  {
   "cell_type": "code",
   "execution_count": 36,
   "metadata": {},
   "outputs": [
    {
     "name": "stdout",
     "output_type": "stream",
     "text": [
      "jalapeño jalapeño True\n",
      "jalapeño jalapeño False\n",
      "jalapeño 8 jalapeño 9\n"
     ]
    }
   ],
   "source": [
    "r = \"jalapeño\"\n",
    "s = \"jalape\\xf1o\"\n",
    "t = \"jalapen\\u0303o\" #combining n with  ̃: https://www.unicode.org/charts/PDF/U0300.pdf)\n",
    "\n",
    "print(r, s, r == s)\n",
    "print(s, t, s == t)\n",
    "print(s,len(s), t, len(t))"
   ]
  },
  {
   "cell_type": "markdown",
   "metadata": {},
   "source": [
    "Another example of this is quote marks. Many applications automatically \"smart quote\", replacing standard quotation marks with a fancier looking glyph. This can cause problems with tokenisation (for example) as the tokeniser is expecting one particular character to mean a quotation mark, and will miss the other varieties. Apostrophes can cause similar issues, and are also sometimes mixed up with quotation marks. The wide range of codepoints that can be used for quotemarks and apostrophes can be seen here: https://en.wikipedia.org/wiki/Quotation_mark#Unicode_code_point_table"
   ]
  },
  {
   "cell_type": "markdown",
   "metadata": {},
   "source": [
    "## Spelling variation\n"
   ]
  },
  {
   "cell_type": "markdown",
   "metadata": {},
   "source": [
    "With user-generated content, spelling variation can be a big issue, especially with the more informal language found on social networks and on internet forums. There are two main problems:\n",
    "\n",
    "1. It is difficult to assign part-of-speech tags and other annotations automatically as many of these techniques rely heavily on a lexicon lookup, which often fails when words are spelt inconsistently or incorrectly.\n",
    "\n",
    "2. When counting the occurrences of a particular word (or concept) the frequency is spread across the different variant spellings. If frequencies are incorrect it limits the reliability of statistics built upon these frequencies.\n",
    "\n",
    "We are not going to directly cover dealing with spelling variation in the courses, but if you wish, you may want to look at [PyEnchant](https://github.com/rfk/pyenchant) and [PyHunSpell](https://github.com/blatinier/pyhunspell) for Python spellchecking libraries, and [VARD](http://ucrel.lancs.ac.uk/vard/about/), a Java tool originally developed for dealing with historical spelling variation, but can be used for dealing with modern spelling variation. "
   ]
  },
  {
   "cell_type": "markdown",
   "metadata": {},
   "source": [
    "## Platform specific strings\n",
    "\n",
    "A common issue is that textual data from the web contains things that are not \"standard written language\"; for example, hashtags, usernames, URLs, email addresses, emoticons, emojis, etc. Traditionally, NLP tools have been built to deal with clean edited language which has little variation. Many of these tools will not know what to do with some of the strings coming from social networks and other online sources. The situation is improving, with many NLP tools now having facilities for dealing with such things. Depending on the analysis to be undertaken, and the NLP pipeline being employed, it is sometimes desirable to remove these \"troublesome\" strings so they do not \"break\" existing tools, or the string may not be of interest for the study, or indeed they might cause problems for the study. For example, usernames being present could cause privacy issues, or bias author prediction based on language style. On the other hand, we may want to keep such features as they are useful to the task in hand, e.g. hashtags for topic analysis, emoji use for authorship analysis."
   ]
  },
  {
   "cell_type": "markdown",
   "metadata": {},
   "source": [
    "## Text cleaning\n",
    "There are many ways of dealing with the above issues, and decisions will be made based on the data being used, and the analysis being undertaken. Sometimes, it is enough (or all that is possible) to be aware of the issues and the impact they may have."
   ]
  },
  {
   "cell_type": "markdown",
   "metadata": {},
   "source": [
    "### FTFY: Fix text for you\n",
    "One particularly good tool worth having in your arsenal to deal with some of the above issues is [ftfy: fix text for you](https://ftfy.readthedocs.io/en/latest/). It is particularly good for dealing with corrupted UTF-8 text, and the problem of \"mojibake\", whereby characters are nonsensical because of mistakes made when encoding/decoding Unicode. The tool also normalises character usage, including smart quotes, and will also replace HTML entities which shouldn't be needed in UTF-8 text for NLP analysis."
   ]
  },
  {
   "cell_type": "markdown",
   "metadata": {},
   "source": [
    "For most cases, running ftfy's `fix_text` method will fix all you need, for more specific options [check the documentation](https://ftfy.readthedocs.io/en/latest/). To demonstrate, we'll output some text to a file (in UTF-8, as default), and read the file back in with the wrong encoding, \"latin-1\""
   ]
  },
  {
   "cell_type": "code",
   "execution_count": 6,
   "metadata": {},
   "outputs": [
    {
     "name": "stdout",
     "output_type": "stream",
     "text": [
      "Requirement already satisfied: emoji in /home/jay/.local/lib/python3.7/site-packages (0.5.1)\n",
      "\u001b[33mYou are using pip version 10.0.1, however version 19.0.1 is available.\n",
      "You should consider upgrading via the 'pip install --upgrade pip' command.\u001b[0m\n"
     ]
    }
   ],
   "source": [
    "import sys\n",
    "import ftfy\n",
    "!{sys.executable} -m pip install emoji"
   ]
  },
  {
   "cell_type": "code",
   "execution_count": 11,
   "metadata": {},
   "outputs": [
    {
     "name": "stdout",
     "output_type": "stream",
     "text": [
      "Iâve got a spicy jalapeÃ±o.\n"
     ]
    }
   ],
   "source": [
    "with open (\"ftfy-test.txt\", 'w', encoding=\"utf-8\") as f:\n",
    "    f.write(\"I’ve got a spicy jalapeño.\")\n",
    "    \n",
    "with open (\"ftfy-test.txt\", encoding=\"latin-1\") as f:\n",
    "    garbled = f.read()\n",
    "    \n",
    "print(garbled)"
   ]
  },
  {
   "cell_type": "markdown",
   "metadata": {},
   "source": [
    "Notice the 'smart' apostrophe is misformed due to it being a different codepoint within latin-1, as well as `ñ`."
   ]
  },
  {
   "cell_type": "code",
   "execution_count": 12,
   "metadata": {},
   "outputs": [
    {
     "name": "stdout",
     "output_type": "stream",
     "text": [
      "I've got a spicy jalapeño.\n"
     ]
    }
   ],
   "source": [
    "fixed = ftfy.fix_text(garbled)\n",
    "print(fixed)"
   ]
  },
  {
   "cell_type": "markdown",
   "metadata": {},
   "source": [
    "The encoding issues are fixed, back to standard Unicode. Also, the 'smart' apostrophe is replaced with a normal run-of-the-mill ascii apostrophe. Much nicer, and easier to deal with when it comes to tokenisation."
   ]
  },
  {
   "cell_type": "markdown",
   "metadata": {},
   "source": [
    "### Filtering with regular expressions\n",
    "Filtering unwanted strings can sometimes be dealt with during tokenisation (i.e. ignoring those sequences, such as emojis), but more often pre-processing will take place whereby the strings are removed or replaced. It is important to take care when removing strings from running text, that inadvertent damage is avoided, e.g. by replacing other wanted text unknowingly, or disrupting the flow of the text, which may impact annotation and other NLP tasks, as well as human readability. It is important to carefully decide what to replace strings with; a marker (e.g. `#hashtag`), a space, or nothing? Again, the data, and what analysis and tools are to be used should influence this decision.\n",
    "\n",
    "Regular expressions are the obvious choice to replace such strings in most cases.\n",
    "\n",
    "To demonstrate this, a single tweet is provided below, along with code to replace hashtags with just `#`."
   ]
  },
  {
   "cell_type": "code",
   "execution_count": 13,
   "metadata": {},
   "outputs": [
    {
     "name": "stdout",
     "output_type": "stream",
     "text": [
      "This week we’re at a #careers event in #Blackpool @Pleasure_Beach, talking to students about #languages and language careers! Come have a go at some of our activities! 🌏#LoveLanguages #LoveLancaster @Lancaster_CI https://t.co/vQQWdrUuqh\n"
     ]
    }
   ],
   "source": [
    "tweet = \"This week we’re at a #careers event in #Blackpool @Pleasure_Beach, talking to students about #languages and language careers! Come have a go at some of our activities! 🌏#LoveLanguages #LoveLancaster @Lancaster_CI https://t.co/vQQWdrUuqh\"\n",
    "print(tweet)"
   ]
  },
  {
   "cell_type": "code",
   "execution_count": 14,
   "metadata": {},
   "outputs": [],
   "source": [
    "import re #regular expressions package"
   ]
  },
  {
   "cell_type": "code",
   "execution_count": 15,
   "metadata": {},
   "outputs": [
    {
     "name": "stdout",
     "output_type": "stream",
     "text": [
      "This week we’re at a # event in # @Pleasure_Beach, talking to students about # and language careers! Come have a go at some of our activities! 🌏# # @Lancaster_CI https://t.co/vQQWdrUuqh\n"
     ]
    }
   ],
   "source": [
    "#note we use r to denote a \"raw string\" for regular expression patterns, this is so we do not have to keep escaping \\.\n",
    "hashtag = re.compile(r'#\\w+') #compile the regular expression, good idea to do this in advance if used multiple times.\n",
    "cleaned = hashtag.sub(\"#\", tweet) #use compiled regex to substitute matches for replacement \"#\", in tweet.\n",
    "print(cleaned)"
   ]
  },
  {
   "cell_type": "markdown",
   "metadata": {},
   "source": [
    "You should be able to adapt the above code to replace usernames (@ mentions) with `@`. For both, try replacing with a space and removing completely. Can you process both in one regular expression?"
   ]
  },
  {
   "cell_type": "code",
   "execution_count": 24,
   "metadata": {},
   "outputs": [
    {
     "name": "stdout",
     "output_type": "stream",
     "text": [
      "This week we’re at a   event in    , talking to students about   and language careers! Come have a go at some of our activities! 🌏      https://t.co/vQQWdrUuqh\n"
     ]
    }
   ],
   "source": [
    "at = re.compile(r'(@|#)\\w+')\n",
    "cleaned = at.sub(\" \", tweet)\n",
    "print(cleaned)"
   ]
  },
  {
   "cell_type": "markdown",
   "metadata": {},
   "source": [
    "Review the resulting text each time, and judge the readability of the text. Does it change the text's meaning or nature? Make notes below."
   ]
  },
  {
   "cell_type": "markdown",
   "metadata": {},
   "source": [
    "Its more readable without the @ and the #... it does change the meaning when the hashtags and @'s are removed. "
   ]
  },
  {
   "cell_type": "markdown",
   "metadata": {},
   "source": [
    "**Advanced**: In one expression, can you replace `#hashtags` with `#` and `@mentions` with `@`, you'll need to use groupings and backreferences: https://docs.python.org/3/howto/regex.html"
   ]
  },
  {
   "cell_type": "code",
   "execution_count": null,
   "metadata": {},
   "outputs": [],
   "source": []
  },
  {
   "cell_type": "markdown",
   "metadata": {},
   "source": [
    "## Exercise\n",
    "Using text collected from last week's work, or the [provided text from mumsnet](mumsnet.txt), examine the text and note any potential issues in the text that may cause problems for later analysis. Then write code to pre-process the text. Justify and describe decisions made below. Items you could consider are:\n",
    "\n",
    "- user mentions\n",
    "- hashtags\n",
    "- urls\n",
    "- emojis and emoticons\n",
    "- smart quotes and apostrophes"
   ]
  },
  {
   "cell_type": "code",
   "execution_count": 7,
   "metadata": {},
   "outputs": [
    {
     "name": "stdout",
     "output_type": "stream",
     "text": [
      "My best friend has a month old and after years of her gleefully finding the biggest most annoying toys she could for my children I am desperate to get my own back What are the current most ear shattering noisy toys preferably plastic with flashing lights that you can buy now I remember vtech baby walkers were pretty appalling when mine were small Following with interest Im in a similar situation Might just be us Sjjr Im thinking the pink vtech walker looks horrific so might go for that Im bumping this as I refuse to believe we are the only vengeful people on here My month is currently playing on her Vtech bounce and spin frog Its very noisy I have the subtitles on TV The volume has settings though so she can always just switch it off Seems like vetch is the bestworst gift to give Lamaze Sunny Rabbit It doesnt have an off button The fisher price cookie jar is awful One of those that the song gets stuck in your head To be honestly theyre all horrendous after a while The worst we have is a flashing drum kit and keyboard combination Its so loud Ahhhh You need to speak to my father about this He relishes in finding the gifts parents dread and gives them to my children every year The highlight was when he bought them an indoor rollercoaster and an electric car the year I lived in a tiny two bed flat V tech is totally the way to go I still have the cookie jar songs in my head and all the vtech toot toot cars are appalling too Sometimes they go off in the middle of the night and I have a heart attack which is an added joy Also FWIW wait til the kid gets older Buy them a violin Its the ultimate way to win the game The Fisher Price laugh and learn puppy has the most irritating squeaky voice and haunts my nightmares Toot toot The stuff drives me insane Yes the spinny frog thing the pink walker was not too bad as it can be turned off Anything vetch did my head in Especially the toot toot vehicles which would suddenly start singing from the bottom of the toy box at random times for no reason Ive bought mine the cookie jar for Christmas I can still remember the song from when my year old had it at the same age I dont remember it being that bad oh dear This Really bloody annoying It's a V Tech by the way Or these Holy Mother of God the noise Did you go for the Pink VTec walker Its horrendous Welcome to our learning farm we have lots to show you is the most horrendous song My in laws FIL BIL SIL have all bought my year old the most horrendously noisy toys for her birthday a few weeks ago Leapfrog count along til with the worst song In the dairy aisle Im shopping along in the dairy aisle look what Ive found And not one but two Phonetics toys one shaped like an apple and another one which is like an orchastra and the letters sing their sound My daughter presses the hang up button over and over and over on her V Tech walker You know where the phone used to be as after minutes its lost anyway Thanks for calling sometimes not even being able to finish her sentence on a loop for minutes its delightful Deffo get the pink walker Oh also remembered this It plays the same couple of tunes and lights up Very noisy I got it for about ££ not dollars I just clicked the first link It changes for when the baby is standing so lasts a long time I had Vtech walkers for both of mine and never put batteries in either too lazy I feel like Ive missed out Anything v tech the walker the toot toot cars and buildings We also have this steering wheel to attach to a pram My DS loves pressing the same music button over and over and over and over and over and over again Early Learning Centre Figurines Lights and Sounds Buggy Driver Vtech little singing Alfie Bear that thing used to drive me completely insane Hello puppy ccalling do you want to play with me Let's have fun together while we learn our ABC fucking years ago years Allllllll of the toot toot Spin and bounce zebra And best worst of all peppa pig alphaphonic board it has no off switch and the slightest touch sets it off for ages Almost forgot this guy took me ages to find the off switch Vtech they hate parents or at least it seems that way I foolishly got ds the toot toot train oddly enough once the batteries ran out the shops never had the right sort Agree with VTech Alfie Bear It's been a few years since I gave ours away but just thinking about it has reminded me of his bloody song and it's now going round and round in my head The bloody vtech Walker Or the vtech activity table Baa baa sheep sheep have you any wool Fisher Price pop 'n' sing apple is awful but it appears to be out of stock online Agreed on Vtech singing Alfie The only toy weve deliberately lost and in under a week Vtech toot toot animals Im forever tripping over them and setting them off in the middle of the night Argh The vtech toot toot train My DS hasnt learnt how to turn the other toot toot cars or buildings on yet but he can easily turn the train on I hate it I am a little train lets start our journey Choo choo choo choo chug along with meeeeeeeee Mammatron I forgot about him too We still have him saved for my now week old his batteries arent getting replaced for a while So anything vtech is confirmed the way to go Im thinking that vetch walker she might realise you dont need batterys and that would ruin it Im going the toot toot trains I think as youd need batterys in them It needs to be as loud and as painful as possible Oooo Id forgotten about this My daughter had this when she was small it was AWFUL Anything vtech Toot toot cars exceptionally annoying bursting into spontaneous song every so often The vtech oven is equally noisey but our kids love it you just need a clean pair of pants when late at night it shouts \" now wash your hands\" Tomy pull along ducks I can still hear their quack song years later \"Hello Babyyyy I'm Coraaaa your cuddly friend who likes to SIIIIIIING Sing with me and let's have FUUUUNNNNNNN\" VTech Little Singing Cora Drives me nuts In fairness all of my DC have loved Cora though Beatbo MIL bought this for DS if you forget to switch it off it's set off by motion the amount of times the car had bloody set it off in the middle of the night it's flashes different colours and plays second bursts of really bad techno music Cat Ds is and I can still remember the hateful cookie jar song that was definitely the worst toy This has no off switch and even looking at it sets it off my son loves his Vtech walker I can't get annoyed by the songs when he's sat there dancing to them As an extra mini gift perhaps one of the Christmas music books from Aldi with the buttons that play tinny carols Preferably one of the ones that reset when the button is pressed and starts again You may have to press a few to find which ones Dc lines them up on the floor and presses all the buttons I never knew I could hate a book as much as I hate this Especially as DS loves pressing the button repeatedly so all I hear is the first ten seconds on a loop Thanks PIL if the child is old enough to press a button repeatedly I give you the quacking duck Toys that randomly set themselves off in the night Chad Valleys tablet A toy that sounds horrible when the batteries are getting low Leapfrogs Learning Lights remote Our yo is both autistic and deaf he stims but it is an auditory stim he has to be listening to a musicalnoisy toy as much as possible held to his better ear We have become immune to the Toot Toot songs to toys randomly singing in the night to the constant sound of toddler toys in our house I am actually putting this thread on my watch list to get ideas for new toys we can get for him maybe the maracas so keep those noisy toy ideas coming please I was going to say anything Vtech but that wheels On the bus musical book is awful Particularly when the batteries start to fail My sister bought my daughter a little giraffe thing from Asda last Christmas that doesnt have an off switch If you disturb the air near it it sets it off She also has a floor keyboard that was so goddamn loud it lasted two days before I folded it up and stuffed it at the bottom of the toy box I love vtech toys I actually seek them out Like eggy Im watching this thread for ideas My DS is blind so the noisier the better I love seeing his little face light up when he hears his favourite toys something like this Wooden puzzle that makes an noise when the correct piece is put in place My DCs had lots when they were little it took us a while to remember to check that the y were complete before we went up to bed Turn the light out and you end up with a complete zoo making noises if hte pieces arent in place Not noisy but the worst toy ever for when they are a little older Magic Sand Worse than play do for mess and frustration but mine loved it thanks to my DSis This is funny reading Just reading this has put the v tech singing cow song in my head Im a cow Come play with me Something something One Two THREE My girl is ten So thats a long time to remember that song We still have the cow and Alfie the singing bear Neither of us can bring ourselves to get rid of them We love them Wish we hadnt got a v tech singing phone though Not because its annoying its just because it lead to a decade long obsession with mobile phones Vtech toot toot cars Posted too soon we also recently got bought a metal toy pan and utensil set the noise of that on laminate floors is a delight The vtech trumpet Playing on my trumppet music to my eeeeeeeeeeaaaaaaaars I like to sing out LOUD AND PROUD Its a delight Vtech appears a lot but Im adding another one of theirs Nursery rhyme book it doesnt have an off switch and goes the end every time its closed which is more annoying than the songs To be fair to vtech toot toot they are super durable and my kids loved them There is a vtech boat Bath toy that is extremely difficultimpossible to get batteries out of When ours went on the blink it would randomly start firing up in the middle of the night My husband actually took an axe to it at am one morning tomy train The Yodelling Sound of Music Goat Kids love it Parents really really dont Pretty much anything vtech tbh Kids do love them though I've just looked up the toot toot vehicles as so many of you have mentioned them They're so expensive but so tiny Dont get them Especially not the cat or monkey ones You know whats more annoying than a toottoot vehicle or even a toottoot vehicle with low battery A toottoot vehicle purchased from Amazon that turns out to be the German variety Nothing against the German language or Germany just the fact that when DS plays with it Im listening hard to the song and googling to see if I can understand what it is saying What are these fisher price chairs like for noisyness When the kid is bigger justilou My parents got DS a Peppa Pig one of them for his first birthday NCP they do make noise but theyre not that annoying They make noise when the wee tv magazine page is turned and when you sit on the seat it sings the alphabet Does a few other things too but ours is mainly switched off Bluebelltulip our vtec nursery bookbhas an off switch but I agree its annoying Someone once bought my DD a peppy pig laptop for her first birthday and it didnt have an off switch it lasted one week NCP They never liked you did they I just saw a video on Facebook for this Made me think of this thread Its perfect Definitely the VTech Toot Toot things We have the elephant and Ive wanted to stomp the bugger that gave it to us many a time When its not singing about stomping here stomping there its laughing like Hyacinth sodding Bucket Absolutely the v tech walker Just seen this thread and we have a lot of these as dgs comes to us one and a half days a week Dd has mainly wooden quiet toys at her house she is not silly Dgs really loves them except for one toy which is a bowl that spins into which you put balls There are a number of buttons to press but he is scared stiff when we put it on Ive just bought my nieces the baby shark singing soft toys Vtech drum with shapes Its such a wanker its so bossy Also get an electric keyboard with a microphone in a couple of years Vtech crawl and learn ball We didnt buy it it was a gift DS loved it we hated it Bloody vtech The worse toy we have had has already been mentioned up thread We call it the annoying giraffe from Asda Its so needy press my belly your my best friend I actually like the cookie jar song shapes are in my cookie jar There are a pair of plastic maracas in mothercare One sings La Cucaracha continuously \"I'm a friendly light up bear I'll teach you one two three a sleepy happy hungry bear hey come and hug me\" I haven't heard that in nearly years and I still remember the bastard words It's the vtech Alfie bear\n"
     ]
    }
   ],
   "source": [
    "#exercise code here, read in text, process, and output text to a new file (can also print if not too long).\n",
    "import string \n",
    "import re\n",
    "import emoji\n",
    "\n",
    "text = []\n",
    "with open (\"mumsnet.txt\", encoding=\"latin-1\") as f:\n",
    "    text = f.read()\n",
    "\n",
    "#Remove links  \n",
    "result = re.sub(r'(www|http)\\S+', '', text)\n",
    "\n",
    "# Convert to lower case\n",
    "lower_text = result.lower()\n",
    "\n",
    "\n",
    "# Remove numbers\n",
    "result = re.sub(r'\\d+', \"\", result)\n",
    "\n",
    "#remove punctuation\n",
    "for punc in string.punctuation:\n",
    "    result = result.replace(punc,\"\")\n",
    "\n",
    "#Sort out any encoding issues\n",
    "result = ftfy.fix_text(result)\n",
    "    \n",
    "    \n",
    "#remove emojis\n",
    "def give_emoji_free_text(text):\n",
    "    characters = [str for str in text]\n",
    "    emoji_list = [c for c in characters if c in emoji.UNICODE_EMOJI]\n",
    "    clean_text = ' '.join([str for str in text.split() if not any(i in str for i in emoji_list)])\n",
    "    return clean_text\n",
    "\n",
    "result = give_emoji_free_text(result)\n",
    "\n",
    "print(result)\n"
   ]
  },
  {
   "cell_type": "markdown",
   "metadata": {},
   "source": [
    "#### Justify and describe decisions here\n",
    "\n"
   ]
  },
  {
   "cell_type": "code",
   "execution_count": null,
   "metadata": {},
   "outputs": [],
   "source": []
  }
 ],
 "metadata": {
  "kernelspec": {
   "display_name": "Python 3",
   "language": "python",
   "name": "python3"
  },
  "language_info": {
   "codemirror_mode": {
    "name": "ipython",
    "version": 3
   },
   "file_extension": ".py",
   "mimetype": "text/x-python",
   "name": "python",
   "nbconvert_exporter": "python",
   "pygments_lexer": "ipython3",
   "version": "3.7.0"
  }
 },
 "nbformat": 4,
 "nbformat_minor": 2
}
