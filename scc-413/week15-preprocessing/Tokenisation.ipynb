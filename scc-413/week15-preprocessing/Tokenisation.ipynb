{
 "cells": [
  {
   "cell_type": "markdown",
   "metadata": {},
   "source": [
    "# Tokenisation\n",
    "\n",
    "In this lab you will be honing your regular expression skills to perform the key task of tokenisation. The aim of tokenisation is to separate the text into meaningful components that are useful for future analysis (e.g. counting or annotating). Often the most logical token is a \"word\" (e.g. for \"bag-of-words\" based methods), but deciding what constitutes a word is not straight-forward. At other times, punctuation should be maintained (e.g. for part of speech annotation). You will see that choosing the wrong tokenisation can impact follow-on analysis of the text."
   ]
  },
  {
   "cell_type": "markdown",
   "metadata": {},
   "source": [
    "You will be trying different tokenisers. Four texts are provided for testing the tokenisers: [tweet.txt](tweet.txt) - a single tweet for testing, [mumsnet.txt](mumsnet.txt) - a collection of mumsnet forum posts as collected in last week's lab, and [mirrormirror.txt](mirrormirror.txt) & [charliex.txt](charliex.txt) - short plot summaries of Star Trek episodes from Wikipedia. You are also welcome to collect and use your own data, utilising techniques from last week's lab. [tweet.txt](tweet.txt) will be used primarily below, but feel free to swap any text throughout to aid your understanding."
   ]
  },
  {
   "cell_type": "markdown",
   "metadata": {},
   "source": [
    "If you prefer, [tokeniser.py](tokeniser.py) provides skeleton code for what is presented below. It simply runs the tokenisation method provided in `tokenise(text)` over the text file provided on the command line, printing out the tokens 1 per line (as is standard for tokenisation), and a total count of tokens found. To run the tokeniser over a file simply run:\n",
    "\n",
    "```\n",
    "$ python3 tokeniser.py infile.txt\n",
    "```\n",
    "\n",
    "You can redirect the printed output to a file if you wish, simply add `> outfile.txt` to the end of the command."
   ]
  },
  {
   "cell_type": "markdown",
   "metadata": {},
   "source": [
    "Functions will be used in this lab to define regularly used code.\n",
    "\n",
    "First to open a file, tokenise it with a provided tokeniser method, and return a list of tokens:"
   ]
  },
  {
   "cell_type": "code",
   "execution_count": 1,
   "metadata": {},
   "outputs": [],
   "source": [
    "# takes file and tokeniser function, reads line by line, and returns list of tokens.\n",
    "def tokenise_file(textfile, tokenise):\n",
    "    with open(textfile, encoding=\"utf-8\") as f:\n",
    "        tokens = []\n",
    "        lines = f.readlines()\n",
    "        for line in lines:\n",
    "            line_tokens = tokenise(line.strip())\n",
    "            tokens.extend(line_tokens)\n",
    "    return tokens"
   ]
  },
  {
   "cell_type": "markdown",
   "metadata": {},
   "source": [
    "To print a list of tokens and the number of tokens present, and to a file:"
   ]
  },
  {
   "cell_type": "code",
   "execution_count": 2,
   "metadata": {},
   "outputs": [],
   "source": [
    "def print_tokens(tokens):\n",
    "    for token in tokens: #iterate tokens and print one per line.\n",
    "        print(token)\n",
    "    print(f\"Total: {len(tokens)} tokens\")"
   ]
  },
  {
   "cell_type": "code",
   "execution_count": 3,
   "metadata": {},
   "outputs": [],
   "source": [
    "def save_tokens(tokens, outfile):\n",
    "    with open(outfile, 'w', encoding=\"utf-8\") as f:\n",
    "        for token in tokens: #iterate tokens and output to file.\n",
    "            f.write(token + '\\n')\n",
    "        f.write(f\"Total: {len(tokens)} tokens\")"
   ]
  },
  {
   "cell_type": "markdown",
   "metadata": {},
   "source": [
    "and we'll definitely need the regular expressions package."
   ]
  },
  {
   "cell_type": "code",
   "execution_count": 4,
   "metadata": {},
   "outputs": [],
   "source": [
    "import re"
   ]
  },
  {
   "cell_type": "code",
   "execution_count": 5,
   "metadata": {},
   "outputs": [
    {
     "name": "stdout",
     "output_type": "stream",
     "text": [
      "This week we’re at a #careers event in #Blackpool @Pleasure_Beach, talking to students about #languages and language careers! Come have a go at some of our activities! 🌏#LoveLanguages #LoveLancaster @Lancaster_CI https://t.co/vQQWdrUuqh\n"
     ]
    }
   ],
   "source": [
    "# for reference\n",
    "with open(\"tweet.txt\", encoding=\"utf-8\") as f:\n",
    "    tweet = f.read()\n",
    "print(tweet)"
   ]
  },
  {
   "cell_type": "markdown",
   "metadata": {},
   "source": [
    "The simplest method of tokenisation is to just split the text on whitespace. The tokeniser below does just this, using Python's split function, simply on a space character."
   ]
  },
  {
   "cell_type": "code",
   "execution_count": 6,
   "metadata": {},
   "outputs": [],
   "source": [
    "def whitespace_tokenise(text):\n",
    "    return text.split(\" \")"
   ]
  },
  {
   "cell_type": "code",
   "execution_count": 7,
   "metadata": {},
   "outputs": [
    {
     "name": "stdout",
     "output_type": "stream",
     "text": [
      "This week we’re at a #careers event in #Blackpool @Pleasure_Beach, talking to students about #languages and language careers! Come have a go at some of our activities! 🌏#LoveLanguages #LoveLancaster @Lancaster_CI https://t.co/vQQWdrUuqh\n",
      "\n",
      "This\n",
      "week\n",
      "we’re\n",
      "at\n",
      "a\n",
      "#careers\n",
      "event\n",
      "in\n",
      "#Blackpool\n",
      "@Pleasure_Beach,\n",
      "talking\n",
      "to\n",
      "students\n",
      "about\n",
      "#languages\n",
      "and\n",
      "language\n",
      "careers!\n",
      "Come\n",
      "have\n",
      "a\n",
      "go\n",
      "at\n",
      "some\n",
      "of\n",
      "our\n",
      "activities!\n",
      "🌏#LoveLanguages\n",
      "#LoveLancaster\n",
      "@Lancaster_CI\n",
      "https://t.co/vQQWdrUuqh\n",
      "Total: 31 tokens\n"
     ]
    }
   ],
   "source": [
    "#The whitespace_tokenise function has been defined, so can be passed as a callable object to the tokenise_file function.\n",
    "tokens = tokenise_file(\"tweet.txt\", whitespace_tokenise)\n",
    "print(tweet)\n",
    "print()\n",
    "print_tokens(tokens)"
   ]
  },
  {
   "cell_type": "markdown",
   "metadata": {},
   "source": [
    "Observe the output, what potential issues can you observe? Are any characters missing from the original input? Can you improve it?\n",
    "\n",
    "- **Optional:** Can you think of a better white space tokeniser, e.g. that splits on multiple spaces, or other white space characters using a regular expression?\n",
    "\n",
    "- **Optional:** Can you come up with an alternative than using split, and instead using findall with a regular expression to do the same? (See simple tokeniser below)"
   ]
  },
  {
   "cell_type": "markdown",
   "metadata": {},
   "source": []
  },
  {
   "cell_type": "markdown",
   "metadata": {},
   "source": [
    "Next we can try a very simple tokeniser that instead of finding the space between tokens, looks for patterns that match words. We use a basic regular expression for this."
   ]
  },
  {
   "cell_type": "code",
   "execution_count": 8,
   "metadata": {},
   "outputs": [],
   "source": [
    "def simple_match_tokenise(text):\n",
    "    p = re.compile(r\"[a-zA-Z]+\")\n",
    "    return p.findall(text)"
   ]
  },
  {
   "cell_type": "code",
   "execution_count": 9,
   "metadata": {},
   "outputs": [
    {
     "name": "stdout",
     "output_type": "stream",
     "text": [
      "This week we’re at a #careers event in #Blackpool @Pleasure_Beach, talking to students about #languages and language careers! Come have a go at some of our activities! 🌏#LoveLanguages #LoveLancaster @Lancaster_CI https://t.co/vQQWdrUuqh\n",
      "\n",
      "This\n",
      "week\n",
      "we\n",
      "re\n",
      "at\n",
      "a\n",
      "careers\n",
      "event\n",
      "in\n",
      "Blackpool\n",
      "Pleasure\n",
      "Beach\n",
      "talking\n",
      "to\n",
      "students\n",
      "about\n",
      "languages\n",
      "and\n",
      "language\n",
      "careers\n",
      "Come\n",
      "have\n",
      "a\n",
      "go\n",
      "at\n",
      "some\n",
      "of\n",
      "our\n",
      "activities\n",
      "LoveLanguages\n",
      "LoveLancaster\n",
      "Lancaster\n",
      "CI\n",
      "https\n",
      "t\n",
      "co\n",
      "vQQWdrUuqh\n",
      "Total: 37 tokens\n"
     ]
    }
   ],
   "source": [
    "tokens = tokenise_file(\"tweet.txt\", simple_match_tokenise)\n",
    "print(tweet)\n",
    "print()\n",
    "print_tokens(tokens)"
   ]
  },
  {
   "cell_type": "markdown",
   "metadata": {},
   "source": [
    "Again, observe the output. What potential issues do you see? Why do you have more tokens? Are any characters missing from the original input?\n",
    "- **Optional**: Can you invert the function to use split instead?"
   ]
  },
  {
   "cell_type": "markdown",
   "metadata": {},
   "source": []
  },
  {
   "cell_type": "markdown",
   "metadata": {},
   "source": [
    "The main task of this lab is to write your own tokeniser to list tokens useful for different purposes and different texts. You have a template for this in `custom_tokenise`. Here, a list of regular expression patterns are used to search for different types of tokens in turn, utilising *alternation* in one large compiled regular expression. You are provided with patterns for URLs, and simple words. Try this out on the tweet, the URLs should be tokenised separately."
   ]
  },
  {
   "cell_type": "code",
   "execution_count": 10,
   "metadata": {},
   "outputs": [],
   "source": [
    "def custom_tokenise(text):\n",
    "    URL = '(?:https?://)?(?:[-\\w]+\\.)+[a-zA-Z]{2,9}[-\\w/#~:;.?+=&%@~]*' #this is one possible URL pattern, more complicated patterns that catch different URLs are possible.\n",
    "    word = '\\w+'\n",
    "    patterns = (URL, word)\n",
    "    joint_patterns = '|'.join(patterns) #the patterns are split with | for alternation.\n",
    "    p = re.compile(r'(?:{})'.format(joint_patterns)) # format is used to build the pattern, surrounding with (?:...) for non-captured grouping for alternation.\n",
    "    return p.findall(text)"
   ]
  },
  {
   "cell_type": "code",
   "execution_count": 11,
   "metadata": {},
   "outputs": [
    {
     "name": "stdout",
     "output_type": "stream",
     "text": [
      "This week we’re at a #careers event in #Blackpool @Pleasure_Beach, talking to students about #languages and language careers! Come have a go at some of our activities! 🌏#LoveLanguages #LoveLancaster @Lancaster_CI https://t.co/vQQWdrUuqh\n",
      "\n",
      "This\n",
      "week\n",
      "we\n",
      "re\n",
      "at\n",
      "a\n",
      "careers\n",
      "event\n",
      "in\n",
      "Blackpool\n",
      "Pleasure_Beach\n",
      "talking\n",
      "to\n",
      "students\n",
      "about\n",
      "languages\n",
      "and\n",
      "language\n",
      "careers\n",
      "Come\n",
      "have\n",
      "a\n",
      "go\n",
      "at\n",
      "some\n",
      "of\n",
      "our\n",
      "activities\n",
      "LoveLanguages\n",
      "LoveLancaster\n",
      "Lancaster_CI\n",
      "https://t.co/vQQWdrUuqh\n",
      "Total: 32 tokens\n"
     ]
    }
   ],
   "source": [
    "tokens = tokenise_file(\"tweet.txt\", custom_tokenise)\n",
    "print(tweet)\n",
    "print()\n",
    "print_tokens(tokens)"
   ]
  },
  {
   "cell_type": "markdown",
   "metadata": {},
   "source": [
    "A point to be aware of here is the ordering of the pattern sequence. Regular expressions in Python (and most other languages) process alternation options in order (left to right). This means a longer match (i.e. greedy) may be ignored if an earlier option leads to a successful match (regular expression finds will not overlap). It is therefore important to consider the order of the regular expressions, as a more general pattern may match some text before a more specific pattern has chance to see it. You can see this in action by swapping the URL and word patterns (`patterns = (word,URL)`) and tokenising the tweet again, now the URL will not be tokenised separately as the word pattern hits first and consumes the start of the URLs."
   ]
  },
  {
   "cell_type": "markdown",
   "metadata": {},
   "source": [
    "In order to aid understanding, a tokeniser is provided below specialised for the tokenising the [mirrormirror.txt](mirrormirror.txt). Here the following tokenisation rules have been applied:\n",
    "- all punctuation is separated as individual tokens\n",
    "- titles and initials are single tokens (e.g. `Dr.` and `T.`)\n",
    "- hyphenated words are a single token (e.g. `mirror-universe`\n",
    "- cases of possessive s (`'s`) are separated, e.g. `Kirk` & `'s` are separate tokens."
   ]
  },
  {
   "cell_type": "code",
   "execution_count": 12,
   "metadata": {},
   "outputs": [],
   "source": [
    "import string\n",
    "def custom_tokenise_mirror(text):\n",
    "    title = \"[A-Z][a-z]?\\.\"\n",
    "    word = \"[-\\w]+\"\n",
    "    apos = \"\\'[a-z]*\"\n",
    "    other_chars = \"[^\\w\\s]\"\n",
    "    leftover = \"\\S+\" #Having a final catch all of \"non-white-space\" will pick up anything not explicity looked for earlier.\n",
    "    patterns = (title, apos, other_chars, word, leftover) #leftover not actually needed here, as all caught in other chars.\n",
    "    joint_patterns = '|'.join(patterns)\n",
    "    p = re.compile(r'(?:{})'.format(joint_patterns))\n",
    "    \n",
    "    result = p.findall(text)\n",
    "    \n",
    "    result = [x for x in result if x not in string.punctuation]\n",
    "            \n",
    "    return result"
   ]
  },
  {
   "cell_type": "code",
   "execution_count": 13,
   "metadata": {},
   "outputs": [
    {
     "name": "stdout",
     "output_type": "stream",
     "text": [
      "['After', 'failing', 'to', 'persuade', 'the', 'Halkan', 'Council', 'to', 'allow', 'the', 'Federation', 'to', 'mine', 'dilithium', 'crystals', 'on', 'their', 'planet', 'Captain', 'James', 'T.', 'Kirk', 'along', 'with', 'Chief', 'Medical', 'Officer', 'Dr.', 'McCoy', 'Chief', 'Engineer', 'Scott', 'and', 'Communications', 'Officer', 'Uhura', 'attempt', 'to', 'beam', 'back', 'to', 'the', 'Enterprise', 'during', 'an', 'ion', 'storm', 'and', 'find', 'themselves', 'on', 'an', 'Enterprise', 'that', 'has', 'drastically', 'changed', 'First', 'Officer', 'Spock', 'now', 'has', 'a', 'mustache', 'and', 'goatee', 'uniforms', 'are', 'more', 'revealing', 'sidearms', 'are', 'standard', 'issue', 'as', 'well', 'as', 'daggers', 'for', 'officers', 'and', 'the', 'Federation', 'has', 'become', 'an', 'Empire', 'After', 'inquiring', 'about', 'the', 'status', 'of', 'the', 'misssion', 'Spock', 'orders', 'the', 'bridge', 'crew', 'to', 'prepare', 'a', 'phaser', 'barrage', 'on', 'the', 'Halkans', 'for', 'their', 'refusal', 'to', 'cooperate', 'then', 'uses', 'an', 'agonizer', 'to', 'punish', 'the', 'transporter', 'operator', 'for', 'an', 'error', 'Kirk', 'orders', 'the', 'landing', 'party', 'to', 'sick', 'bay', 'so', 'that', 'they', 'can', 'assess', 'their', 'predicament', 'in', 'private', 'He', 'deduces', 'that', 'the', 'ion', 'storm', 'must', 'have', 'opened', 'a', 'barrier', 'between', 'parallel', 'universes', 'causing', 'the', 'landing', 'parties', 'in', 'each', 'universe', 'to', 'switch', 'places', 'They', 'decide', 'to', 'impersonate', 'their', 'counterparts', 'until', 'they', 'can', 'find', 'a', 'way', 'home', 'while', 'Scott', 'sabotages', 'the', 'ship', \"'s\", 'phasers', 'to', 'buy', 'time', 'for', 'the', 'Halkans', 'Uhura', 'ascertains', 'that', 'Starfleet', 'has', 'ordered', 'the', 'Halkans', 'destruction', 'unless', 'the', 'comply', 'Kirk', 'orders', 'a', 'twelve-hour', 'delay', 'which', 'Spock', 'reports', 'to', 'Starfleet', 'Kirk', 'heads', 'for', 'his', 'quarters', 'and', 'is', 'nearly', 'assassinated', 'by', 'Chekov', 'and', 'his', 'henchmen', 'one', 'of', 'whom', 'betrays', 'Chekov', 'and', 'saves', 'Kirk', \"'s\", 'life', 'Kirk', \"'s\", 'bodyguards', 'arrive', 'and', 'take', 'Chekov', 'to', 'the', 'booth', 'for', 'punishment', 'When', 'Scott', 'and', 'McCoy', 'join', 'him', 'in', 'his', 'quarters', 'the', 'computer', 'confirms', 'Kirk', \"'s\", 'hypothesis', 'and', 'provides', 'a', 'procedure', 'to', 'reproduce', 'the', 'transporter', 'accident', 'and', 'return', 'them', 'to', 'their', 'home', 'universe', 'Kirk', 'also', 'learns', 'that', 'in', 'this', 'universe', 'his', 'counterpart', 'took', 'command', 'of', 'the', 'ISS', 'Enterprise', 'by', 'assassinating', 'Captain', 'Christopher', 'Pike', 'and', 'has', 'since', 'committed', 'numerous', 'atrocities', 'Meanwhile', 'aboard', 'the', 'USS', 'Enterprise', 'Spock', 'places', 'their', 'mirror-universe', 'counterparts', 'in', 'confinement', 'but', 'has', 'not', 'yet', 'determined', 'how', 'to', 'send', 'them', 'home', 'On', 'the', 'ISS', 'Enterprise', 'Scott', 'and', 'McCoy', 'secretly', 'begin', 'work', 'on', 'the', 'engines', 'and', 'transporter', 'Spock', 'warns', 'Kirk', 'that', 'despite', 'their', 'relationship', 'he', 'cannot', 'support', 'Kirk', \"'s\", 'aberrant', 'behavior', 'Kirk', 'defies', 'the', 'warning', 'releases', 'Chekov', 'from', 'what', 'has', 'been', 'revealed', 'to', 'be', 'the', 'agony', 'booth', 'and', 'returns', 'to', 'his', 'quarters', 'There', 'he', 'finds', 'a', 'female', 'officer', 'Marlena', 'stretched', 'out', 'on', 'his', 'bed', 'During', 'their', 'conversation', 'he', 'learns', 'that', 'she', 'is', 'the', 'captain', \"'s\", 'woman', 'that', 'she', 'assumes', 'his', 'unusual', 'behavior', 'is', 'part', 'of', 'a', 'plot', 'and', 'that', 'their', 'relationship', 'has', 'been', 'cooling', 'lately', 'Then', 'Spock', 'interrupts', 'to', 'inform', 'Kirk', 'that', 'he', 'been', 'ordered', 'to', 'kill', 'Kirk', 'and', 'take', 'command', 'unless', 'Kirk', 'carries', 'out', 'their', 'mission', 'within', 'four', 'hours', 'Marlena', 'suggests', 'using', 'the', 'Tantalus', 'Field', 'a', 'weapon', 'concealed', 'in', 'Kirk', \"'s\", 'quarters', 'She', 'focuses', 'the', 'device', 'on', 'Mr.', 'Spock', 'lamenting', 'his', 'imminent', 'demise', 'but', 'Kirk', 'prevents', 'her', 'from', 'activating', 'it', 'He', 'reassures', 'her', 'that', 'she', 'is', 'still', 'the', 'captain', \"'s\", 'woman', 'as', 'he', 'leaves', 'In', 'his', 'own', 'quarters', 'Spock', 'already', 'suspicious', 'of', 'the', 'landing', 'party', 'queries', 'the', 'computer', 'about', 'the', 'classified', 'research', 'being', 'conducted', 'in', 'Engineering', 'and', 'decides', 'to', 'confront', 'Kirk', 'again', 'On', 'the', 'bridge', 'Uhura', 'distracts', 'Sulu', 'the', 'security', 'chief', 'from', 'his', 'security', 'board', 'when', 'it', 'signals', 'Scott', \"'s\", 'connection', 'of', 'warp', 'power', 'to', 'the', 'transporter', 'Spock', 'intercepts', 'Kirk', 'in', 'the', 'transporter', 'room', 'and', 'leads', 'him', 'at', 'phaser-point', 'to', 'Sickbay', 'where', 'Scott', 'McCoy', 'and', 'Uhura', 'have', 'been', 'waiting', 'A', 'fight', 'ensues', 'in', 'which', 'Spock', 'is', 'knocked', 'out', 'by', 'Kirk', 'McCoy', 'insists', 'on', 'treating', 'Spock', 'and', 'before', 'they', 'can', 'leave', 'Sulu', 'arrives', 'with', 'three', 'security', 'guards', 'Sulu', 'tells', 'them', 'he', 'intends', 'to', 'assassinate', 'Kirk', 'and', 'make', 'it', 'look', 'like', 'Kirk', 'and', 'Spock', 'killed', 'each', 'other', 'but', 'Marlena', 'intervenes', 'from', 'Kirk', \"'s\", 'quarters', 'using', 'the', 'Tantalus', 'Field', 'to', 'vaporize', 'Sulu', \"'s\", 'henchmen', 'Kirk', 'renders', 'Sulu', 'unconscious', 'and', 'Uhura', 'Kirk', 'and', 'Scott', 'head', 'for', 'the', 'transporter', 'room', 'leaving', 'McCoy', 'to', 'follow', 'after', 'tending', 'to', 'Spock', 'Spock', 'suddenly', 'awakens', 'and', 'forces', 'McCoy', 'into', 'a', 'Vulcan', 'mind', 'meld', 'to', 'learn', 'why', 'the', 'captain', 'spared', 'his', 'life', 'Kirk', 'Scott', 'and', 'Uhura', 'reach', 'the', 'transporter', 'room', 'to', 'find', 'Marlena', 'waiting', 'She', 'asks', 'Kirk', 'to', 'take', 'her', 'with', 'them', 'but', 'Kirk', 'explains', 'that', 'the', 'transporter', 'is', 'set', 'for', 'four', 'people', 'Marlena', 'points', 'a', 'phaser', 'at', 'Kirk', 'but', 'Uhura', 'disarms', 'her', 'They', 'discover', 'power', 'to', 'the', 'transporter', 'is', 'cut', 'and', 'Scott', 'can', 'only', 'reset', 'the', 'controls', 'to', 'allow', 'manual', 'operation', 'requiring', 'one', 'of', 'them', 'to', 'stay', 'behind', 'Spock', 'arrives', 'and', 'announces', 'he', 'will', 'operate', 'the', 'controls', 'Kirk', 'takes', 'a', 'moment', 'to', 'argue', 'for', 'the', 'overthrow', 'of', 'the', 'Empire', 'which', 'Spock', 'agrees', 'is', 'inevitable', 'He', 'urges', 'Spock', 'to', 'take', 'command', 'and', 'find', 'a', 'way', 'to', 'save', 'the', 'Halkans', 'When', 'Spock', 'reminds', 'him', 'of', 'the', 'necessity', 'of', 'power', 'Kirk', 'reveals', 'the', 'existence', 'of', 'the', 'Tantalus', 'Field', 'Kirk', 'McCoy', 'Scott', 'and', 'Uhura', 'beam', 'out', 'and', 'find', 'themselves', 'at', 'home', 'in', 'the', 'Federation', 'universe', 'Spock', 'reports', 'he', 'found', 'the', 'ruthless', 'attitude', 'of', 'their', 'counterparts', 'refreshing', 'calling', 'them', 'the', 'very', 'flower', 'of', 'humanity', 'Kirk', 'is', 'startled', 'by', 'the', 'appearance', 'of', 'one', 'Lieutenant', 'Marlena', 'Moreau', 'a', 'recent', 'transfer', 'to', 'the', 'Enterprise', 'with', 'a', 'report', 'for', 'his', 'signature', 'In', 'answer', 'to', 'Spock', \"'s\", 'inquiry', 'Kirk', 'says', 'only', 'that', 'Moreau', 'seems', 'like', 'a', 'nice', 'likable', 'girl', 'and', 'that', 'perhaps', 'they', 'could', 'become', 'friends']\n"
     ]
    }
   ],
   "source": [
    "tokens = tokenise_file(\"mirrormirror.txt\", custom_tokenise_mirror)\n",
    "print(tokens)\n",
    "save_tokens(tokens,\"mirrormirror_tok.txt\")"
   ]
  },
  {
   "cell_type": "markdown",
   "metadata": {},
   "source": [
    "Observe the output in [mirrormirror_tok.txt](mirrormirror_tok.txt). Check you understand which patterns are catching which tokens.\n",
    "\n",
    "Can you edit the tokeniser so that punctuation tokens aren't included, but the tokens above (titles and initials) with punctuation are still present?"
   ]
  },
  {
   "cell_type": "markdown",
   "metadata": {},
   "source": [
    "**Advanced**: Try running your tokeniser on [charliex.txt](charliex.txt) too. This is very similar to mirrormirror.txt, but it also contains contractions (e.g. `don't`). How are these dealt with by the above tokeniser? Ideally, `n't` should be a separate token, to represent `not`. Consider me impressed if you can achieve this in your tokeniser (without breaking other parts), especially if you can do it without adding pre- or post-processing. Let Alistair know if you manage this, or if you would like a hint."
   ]
  },
  {
   "cell_type": "code",
   "execution_count": null,
   "metadata": {},
   "outputs": [],
   "source": []
  },
  {
   "cell_type": "markdown",
   "metadata": {},
   "source": [
    "All NLP toolkits, and many NLP tools themselves have built in tokenisers. [NLTK](http://www.nltk.org) is one of the best known ones and has a specialsed tokeniser for online text, and specifically Twitter data. Running the tokenisers is straight-forward, with methods provided below, `nltk_tokenise`: default, and `nltk_twitter_tokenise`: for Twitter. Note the \"Twitter\" tokeniser will be applicable to other online text too, e.g. forum data. Run these tokenisers over the texts and compare the results."
   ]
  },
  {
   "cell_type": "code",
   "execution_count": 14,
   "metadata": {},
   "outputs": [
    {
     "name": "stdout",
     "output_type": "stream",
     "text": [
      "[nltk_data] Downloading package punkt to /home/jay/nltk_data...\n",
      "[nltk_data]   Package punkt is already up-to-date!\n"
     ]
    },
    {
     "data": {
      "text/plain": [
       "True"
      ]
     },
     "execution_count": 14,
     "metadata": {},
     "output_type": "execute_result"
    }
   ],
   "source": [
    "import nltk\n",
    "nltk.download('punkt') #download tokeniser models, will download first time, and find on second run. You can remove this line once installed"
   ]
  },
  {
   "cell_type": "code",
   "execution_count": 15,
   "metadata": {},
   "outputs": [],
   "source": [
    "def nltk_tokenise(text):\n",
    "    return nltk.word_tokenize(text)"
   ]
  },
  {
   "cell_type": "code",
   "execution_count": 16,
   "metadata": {},
   "outputs": [],
   "source": [
    "def nltk_twitter_tokenise(text):\n",
    "    twtok = nltk.tokenize.TweetTokenizer()\n",
    "    return twtok.tokenize(text)"
   ]
  },
  {
   "cell_type": "code",
   "execution_count": 17,
   "metadata": {},
   "outputs": [
    {
     "name": "stdout",
     "output_type": "stream",
     "text": [
      "This week we’re at a #careers event in #Blackpool @Pleasure_Beach, talking to students about #languages and language careers! Come have a go at some of our activities! 🌏#LoveLanguages #LoveLancaster @Lancaster_CI https://t.co/vQQWdrUuqh\n",
      "\n",
      "This\n",
      "week\n",
      "we\n",
      "’\n",
      "re\n",
      "at\n",
      "a\n",
      "#\n",
      "careers\n",
      "event\n",
      "in\n",
      "#\n",
      "Blackpool\n",
      "@\n",
      "Pleasure_Beach\n",
      ",\n",
      "talking\n",
      "to\n",
      "students\n",
      "about\n",
      "#\n",
      "languages\n",
      "and\n",
      "language\n",
      "careers\n",
      "!\n",
      "Come\n",
      "have\n",
      "a\n",
      "go\n",
      "at\n",
      "some\n",
      "of\n",
      "our\n",
      "activities\n",
      "!\n",
      "🌏\n",
      "#\n",
      "LoveLanguages\n",
      "#\n",
      "LoveLancaster\n",
      "@\n",
      "Lancaster_CI\n",
      "https\n",
      ":\n",
      "//t.co/vQQWdrUuqh\n",
      "Total: 46 tokens\n"
     ]
    }
   ],
   "source": [
    "tokens = tokenise_file(\"tweet.txt\", nltk_tokenise)\n",
    "print(tweet)\n",
    "print()\n",
    "print_tokens(tokens)"
   ]
  },
  {
   "cell_type": "code",
   "execution_count": 18,
   "metadata": {},
   "outputs": [
    {
     "name": "stdout",
     "output_type": "stream",
     "text": [
      "This week we’re at a #careers event in #Blackpool @Pleasure_Beach, talking to students about #languages and language careers! Come have a go at some of our activities! 🌏#LoveLanguages #LoveLancaster @Lancaster_CI https://t.co/vQQWdrUuqh\n",
      "\n",
      "This\n",
      "week\n",
      "we\n",
      "’\n",
      "re\n",
      "at\n",
      "a\n",
      "#careers\n",
      "event\n",
      "in\n",
      "#Blackpool\n",
      "@Pleasure_Beach\n",
      ",\n",
      "talking\n",
      "to\n",
      "students\n",
      "about\n",
      "#languages\n",
      "and\n",
      "language\n",
      "careers\n",
      "!\n",
      "Come\n",
      "have\n",
      "a\n",
      "go\n",
      "at\n",
      "some\n",
      "of\n",
      "our\n",
      "activities\n",
      "!\n",
      "🌏\n",
      "#LoveLanguages\n",
      "#LoveLancaster\n",
      "@Lancaster_CI\n",
      "https://t.co/vQQWdrUuqh\n",
      "Total: 37 tokens\n"
     ]
    }
   ],
   "source": [
    "tokens = tokenise_file(\"tweet.txt\", nltk_twitter_tokenise)\n",
    "print(tweet)\n",
    "print()\n",
    "print_tokens(tokens)"
   ]
  },
  {
   "cell_type": "markdown",
   "metadata": {},
   "source": [
    "What is dealt with better by NLTK? Any issues that you were able to overcome with a manual tokeniser?"
   ]
  },
  {
   "cell_type": "markdown",
   "metadata": {},
   "source": [
    "More customisation. NLTK is quicker. "
   ]
  },
  {
   "cell_type": "markdown",
   "metadata": {},
   "source": [
    "## Frequency analysis\n",
    "Once we have text tokenised we can start to count words, and do some analysis. We will start in earnest with this next week. For now, we will do a simple counting of tokens and producing a frequency list and plot.\n",
    "\n",
    "The `frequency_analysis` method takes a list of tokens (outputted from the various tokenise methods) and counts the frequency of each token. The list of tokens is printed alongside the frequency of each, in descending frequency order. A frequency plot is also produced, with the top 20 tokens as default.\n",
    "\n",
    "Examining the frequency list (and token streams) can help to find common tokenisation issues.\n",
    "\n",
    "You can try this on different texts. Increase the number of items in the plot, given enough text you should start to see a nice [Zipfian curve](https://en.wikipedia.org/wiki/Zipf\\%27s_law). Try `cumulative=True`."
   ]
  },
  {
   "cell_type": "code",
   "execution_count": 19,
   "metadata": {},
   "outputs": [],
   "source": [
    "%matplotlib inline\n",
    "\n",
    "def frequency_analysis(tokens):\n",
    "    freq = nltk.FreqDist(tokens)\n",
    "    for key,val in freq.most_common(20):\n",
    "        print(key,val,sep=\"\\t\")\n",
    "\n",
    "    freq.plot(20, cumulative=False)"
   ]
  },
  {
   "cell_type": "code",
   "execution_count": 20,
   "metadata": {},
   "outputs": [
    {
     "name": "stdout",
     "output_type": "stream",
     "text": [
      "the\t55\n",
      "to\t39\n",
      "Kirk\t33\n",
      "and\t33\n",
      "Spock\t20\n",
      "a\t16\n",
      "that\t14\n",
      "of\t14\n",
      "'s\t12\n",
      "his\t12\n",
      "their\t11\n",
      "Scott\t10\n",
      "for\t10\n",
      "in\t10\n",
      "transporter\t9\n",
      "is\t9\n",
      "McCoy\t8\n",
      "Uhura\t8\n",
      "has\t8\n",
      "he\t8\n"
     ]
    },
    {
     "data": {
      "image/png": "[encoded data removed]",
      "text/plain": [
       "<Figure size 432x288 with 1 Axes>"
      ]
     },
     "metadata": {
      "needs_background": "light"
     },
     "output_type": "display_data"
    }
   ],
   "source": [
    "tokens = tokenise_file(\"mirrormirror.txt\", custom_tokenise_mirror)\n",
    "frequency_analysis(tokens)"
   ]
  },
  {
   "cell_type": "markdown",
   "metadata": {},
   "source": [
    "## Exercise\n",
    "\n",
    "Build a tokeniser for the mumsnet forum data ([mumsnet.txt](mumsnet.txt) (feel free to use your own collected data too) by building on the `custom_tokenise` method. Tokenise the text with the following rules:\n",
    "- all punctuation separated as individual tokens, unless sequences of punctuation (e.g. `!!!`), which should be combined to a single token.\n",
    "- URLs, hashtags, and mentions as separate tokens\n",
    "- hyphenated words as a single token\n",
    "- words with apostrophes to mark concatenation and possessive s should be a single token (e.g. `don't`, `I'm` and `1940's`)\n",
    "- **Advanced/Extra**: Emoticons separated as separate tokens (e.g. `:-)`)\n",
    "- **Advanced/Extra**: You will find other sequences in the text that should be single tokens, deal with as many of these as possible for as clean a tokenisation as possible ready for creating a frequency list.\n",
    "\n",
    "You may want to consider pre-processing (i.e. cleaning/normalising) the text to make tokenisation easier."
   ]
  },
  {
   "cell_type": "code",
   "execution_count": 57,
   "metadata": {},
   "outputs": [],
   "source": [
    "def custom_tokenise_forum(text):\n",
    "    \n",
    "    #words with apostrophes to mark concatenation and possessive s should be a single token (e.g. don't, I'm and 1940's)\n",
    "    #result = re.findall(r\"[\\w']+|[.,!?;]\", text)\n",
    "    \n",
    "    #idx = result.index(\"-\")\n",
    "    #indices = [i for i, x in enumerate(result) if x == \"-\"]\n",
    "    \n",
    "    #index = indices[0]\n",
    "    \n",
    "    #concatenated = ''.join(result[index-1:index+1])\n",
    "    #print('concated is:', concatenated)\n",
    "    \n",
    "    title = \"[A-Z][a-z]?\\.\"\n",
    "    word = \"[-'\\w]+\"\n",
    "    apos = \"\\'[a-z]*\"\n",
    "    other_chars = \"[^!#$%&\\'()*+,-./:;<=>?@[\\\\]^_`{|}~\\w\\s]\"\n",
    "    leftover = \"\\S+\" #Having a final catch all of \"non-white-space\" will pick up anything not explicity looked for earlier.\n",
    "    punc = \"[!!]\"\n",
    "    patterns = (title, apos, other_chars, word, leftover) #leftover not actually needed here, as all caught in other chars.\n",
    "    joint_patterns = '|'.join(patterns)\n",
    "    p = re.compile(r'(?:{})'.format(joint_patterns))\n",
    "    \n",
    "    result = p.findall(text)\n",
    "    \n",
    "    #result = [x for x in result if x not in string.punctuation]\n",
    "    \n",
    "    \n",
    "    return result"
   ]
  },
  {
   "cell_type": "code",
   "execution_count": null,
   "metadata": {},
   "outputs": [],
   "source": []
  },
  {
   "cell_type": "code",
   "execution_count": 58,
   "metadata": {},
   "outputs": [
    {
     "name": "stdout",
     "output_type": "stream",
     "text": [
      "['My', 'best', 'friend', 'has', 'a', '6', 'month', 'old', 'and', 'after', '14', 'years', 'of', 'her', 'gleefully', 'finding', 'the', 'biggest', 'most', 'annoying', 'toys', 'she', 'could', 'for', 'my', 'children', 'I', 'am', 'desperate', 'to', 'get', 'my', 'own', 'back', '.', 'What', 'are', 'the', 'current', 'most', 'ear', 'shattering', 'noisy', 'toys', '(', 'preferably', 'plastic', 'with', 'flashing', 'lights', ')', 'that', 'you', 'can', 'buy', 'now', '.', 'I', 'remember', 'vtech', 'baby', 'walkers', 'were', 'pretty', 'appalling', 'when', 'mine', 'were', 'small', '.', 'Following', 'with', 'interest', ',', \"I'm\", 'in', 'a', 'similar', 'situation', 'Might', 'just', 'be', 'us', '@Sjjr23', \"I'm\", 'thinking', 'the', 'pink', 'vtech', 'walker', 'looks', 'horrific', 'so', 'might', 'go', 'for', 'that', \"I'm\", 'bumping', 'this', 'as', 'I', 'refuse', 'to', 'believe', 'we', 'are', 'the', 'only', '2', 'vengeful', 'people', 'on', 'here', 'My', '18', 'month', 'is', 'currently', 'playing', 'on', 'her', 'Vtech', 'bounce', 'and', 'spin', 'frog', '.', \"It's\", 'very', 'noisy', 'I', 'have', 'the', 'subtitles', 'on', 'TV', '.', 'The', 'volume', 'has', '2', 'settings', 'though', 'so', 'she', 'can', 'always', 'just', 'switch', 'it', 'off', 'Seems', 'like', 'vetch', 'is', 'the', 'best', '/worst', 'gift', 'to', 'give', 'Lamaze', 'Sunny', 'Rabbit', '.', 'It', \"doesn't\", 'have', 'an', 'off', 'button', '😡', 'The', 'fisher', 'price', 'cookie', 'jar', 'is', 'awful', '!', 'One', 'of', 'those', 'that', 'the', 'song', 'gets', 'stuck', 'in', 'your', 'head', '.', 'To', 'be', 'honestly', \"they're\", 'all', 'horrendous', 'after', 'a', 'while', '.', 'The', 'worst', 'we', 'have', 'is', 'a', 'flashing', 'drum', 'kit', 'and', 'keyboard', 'combination', '.', \"It's\", 'so', 'loud', '🙉', 'Ahhhh', '.', 'You', 'need', 'to', 'speak', 'to', 'my', 'father', 'about', 'this', '.', 'He', 'relishes', 'in', 'finding', 'the', 'gifts', 'parents', 'dread', 'and', 'gives', 'them', 'to', 'my', 'children', 'every', 'year', '.', 'The', 'highlight', 'was', 'when', 'he', 'bought', 'them', 'an', 'indoor', 'rollercoaster', 'and', 'an', 'electric', 'car', 'the', 'year', 'I', 'lived', 'in', 'a', 'tiny', 'two', 'bed', 'flat', '.', 'V', 'tech', 'is', 'totally', 'the', 'way', 'to', 'go', '.', 'I', 'still', 'have', 'the', 'cookie', 'jar', 'songs', 'in', 'my', 'head', ',', 'and', 'all', 'the', 'vtech', 'toot', 'toot', 'cars', 'are', 'appalling', 'too', '.', 'Sometimes', 'they', 'go', 'off', 'in', 'the', 'middle', 'of', 'the', 'night', 'and', 'I', 'have', 'a', 'heart', 'attack', ',', 'which', 'is', 'an', 'added', 'joy', '.', 'Also', ',', 'FWIW', ',', 'wait', 'til', 'the', 'kid', 'gets', 'older', '.', 'Buy', 'them', 'a', 'violin', '.', \"It's\", 'the', 'ultimate', 'way', 'to', 'win', 'the', 'game', '.', 'The', 'Fisher', 'Price', 'laugh', 'and', 'learn', 'puppy', 'has', 'the', 'most', 'irritating', 'squeaky', 'voice', 'and', 'haunts', 'my', 'nightmares', 'Toot', 'toot', '!!', 'The', 'stuff', 'drives', 'me', 'insane', '...', 'Yes', 'the', 'spinny', 'frog', 'thing', '..', 'the', 'pink', 'walker', 'was', 'not', 'too', 'bad', 'as', 'it', 'can', 'be', 'turned', 'off', '.', 'Anything', 'vetch', 'did', 'my', 'head', 'in', '!', 'Especially', 'the', 'toot', 'toot', 'vehicles', 'which', 'would', 'suddenly', 'start', 'singing', 'from', 'the', 'bottom', 'of', 'the', 'toy', 'box', 'at', 'random', 'times', 'for', 'no', 'reason', '.', \"I've\", 'bought', 'mine', 'the', 'cookie', 'jar', 'for', 'Christmas', '.', 'I', 'can', 'still', 'remember', 'the', 'song', 'from', 'when', 'my', '7', 'year', 'old', 'had', 'it', 'at', 'the', 'same', 'age', '.', 'I', \"don't\", 'remember', 'it', 'being', 'that', 'bad', 'oh', 'dear', 'This', '!', 'Really', 'bloody', 'annoying', '.', 'It', '’', 's', 'a', 'V', 'Tech', ',', 'by', 'the', 'way', '.', 'www', '.amazon.co.uk/Early-Learning-Centre-Singing-Maracas/dp/B07F41Z5FK?tag=mumsnetforum-21', 'Or', 'these', ',', 'Holy', 'Mother', 'of', 'God', ',', 'the', 'noise', '.', 'Did', 'you', 'go', 'for', 'the', 'Pink', 'VTec', 'walker', '?', \"It's\", 'horrendous', '\"', 'Welcome', 'to', 'our', 'learning', 'farm', 'we', 'have', 'lots', 'to', 'show', 'you', '\"', 'is', 'the', 'most', 'horrendous', 'song', '.', 'My', 'in', 'laws', '(FIL,', 'BIL', '&', 'SIL', ')', 'have', 'all', 'bought', 'my', '2', 'year', 'old', 'the', 'most', 'horrendously', 'noisy', 'toys', 'for', 'her', 'birthday', 'a', 'few', 'weeks', 'ago', 'Leapfrog', 'count', 'along', 'til', 'with', 'the', 'worst', 'song', '\"', 'In', 'the', 'dairy', 'aisle', \"I'm\", 'shopping', 'along', 'in', 'the', 'dairy', 'aisle', ',', 'look', 'what', \"I've\", 'found', '\"', 'And', 'not', 'one', 'but', 'two', 'Phonetics', 'toys', ',', 'one', 'shaped', 'like', 'an', 'apple', 'and', 'another', 'one', 'which', 'is', 'like', 'an', 'orchastra', 'and', 'the', 'letters', 'sing', 'their', 'sound', 'My', 'daughter', 'presses', 'the', \"'hang\", \"up'\", 'button', 'over', 'and', 'over', 'and', 'over', 'on', 'her', 'V', 'Tech', 'walker', '...', '(You', 'know', 'where', 'the', 'phone', 'used', 'to', 'be', 'as', 'after', '5', 'minutes', \"it's\", 'lost', 'anyway', '.)', '\"', 'Thanks', 'for', 'calling', '\"', 'sometimes', 'not', 'even', 'being', 'able', 'to', 'finish', 'her', 'sentence', '...', 'on', 'a', 'loop', 'for', '15', 'minutes', ',', \"it's\", 'delightful', '.', 'Deffo', 'get', 'the', 'pink', 'walker', '￼', 'Oh', 'also', 'remembered', 'this', '.', 'It', 'plays', 'the', 'same', 'couple', 'of', 'tunes', 'and', 'lights', 'up', '.', 'Very', 'noisy', '.', 'I', 'got', 'it', 'for', 'about', '£', '20', '/£30', 'not', '$99.00', 'dollars', 'I', 'just', 'clicked', 'the', 'first', 'link', '.', 'It', 'changes', 'for', 'when', 'the', 'baby', 'is', 'standing', 'so', 'lasts', 'a', 'long', 'time', '.', 'www', '.lamkins.com.sg/fisher-price-grow-with-gym-p-5128.html', 'I', 'had', 'Vtech', 'walkers', 'for', 'both', 'of', 'mine', 'and', 'never', 'put', 'batteries', 'in', 'either', 'too', 'lazy', '.', 'I', 'feel', 'like', \"I've\", 'missed', 'out', 'Anything', 'v', 'tech', ',', 'the', 'walker', ',', 'the', 'toot', 'toot', 'cars', 'and', 'buildings', '.', 'We', 'also', 'have', 'this', 'steering', 'wheel', 'to', 'attach', 'to', 'a', 'pram', '.', 'My', 'DS', 'loves', 'pressing', 'the', 'same', 'music', 'button', 'over', 'and', 'over', 'and', 'over', 'and', 'over', 'and', 'over', 'and', 'over', 'again', '.', 'Early', 'Learning', 'Centre', 'Figurines', '(Lights', 'and', 'Sounds', 'Buggy', 'Driver', ')', 'https', '://www.amazon.co.uk/dp/B0063DEIQK/ref=cmsww_rcpp_api_4wi6BbQP06S31', 'Vtech', 'little', 'singing', 'Alfie', 'Bear', '-', 'that', 'thing', 'used', 'to', 'drive', 'me', 'completely', 'insane', '!', 'Hello', 'puppy', 'c-calling', 'do', 'you', 'want', 'to', 'play', 'with', 'me', 'Let', '’', 's', 'have', 'fun', 'together', 'while', 'we', 'learn', 'our', 'ABC', '8', 'fucking', 'years', 'ago', '.', '8', 'years', '.', 'Allllllll', 'of', 'the', 'toot', 'toot', 'Spin', 'and', 'bounce', 'zebra', 'And', 'best', '(worst!)', 'of', 'all', '...', 'peppa', 'pig', 'alphaphonic', 'board-', 'it', 'has', 'no', 'off', 'switch', 'and', 'the', 'slightest', 'touch', 'sets', 'it', 'off', 'for', 'ages', '...', 'Almost', 'forgot', 'this', 'guy', ',', 'took', 'me', 'ages', 'to', 'find', 'the', 'off', 'switch', '!', 'Vtech', ',', 'they', 'hate', 'parents', 'or', 'at', 'least', 'it', 'seems', 'that', 'way', '.', 'I', 'foolishly', 'got', 'ds', 'the', 'toot', 'toot', 'train', ',', 'oddly', 'enough', 'once', 'the', 'batteries', 'ran', 'out', 'the', 'shops', 'never', 'had', 'the', 'right', 'sort', 'Agree', 'with', 'VTech', 'Alfie', 'Bear', '.', 'It', '’', 's', 'been', 'a', 'few', 'years', 'since', 'I', 'gave', 'ours', 'away', 'but', 'just', 'thinking', 'about', 'it', 'has', 'reminded', 'me', 'of', 'his', 'bloody', 'song', 'and', 'it', '’', 's', 'now', 'going', 'round', 'and', 'round', 'in', 'my', 'head', '...', 'The', 'bloody', 'vtech', 'Walker', '!', 'Or', 'the', 'vtech', 'activity', 'table', '.', '\"', 'Baa', 'baa', 'sheep', 'sheep', 'have', 'you', 'any', 'wool', '\"', 'Fisher', 'Price', 'pop', '‘', 'n', '’', 'sing', 'apple', 'is', 'awful', 'but', 'it', 'appears', 'to', 'be', 'out', 'of', 'stock', 'online', 'Agreed', 'on', 'Vtech', 'singing', 'Alfie', '.', 'The', 'only', 'toy', \"we've\", 'deliberately', \"'lost\", \"'\", ',', 'and', 'in', 'under', 'a', 'week', '.', 'V-tech', 'toot', 'toot', 'animals', '!', \"I'm\", 'forever', 'tripping', 'over', 'them', 'and', 'setting', 'them', 'off', 'in', 'the', 'middle', 'of', 'the', 'night', '!', 'Argh', '!', 'The', 'vtech', 'toot', 'toot', 'train', '!', 'My', 'DS', \"hasn't\", 'learnt', 'how', 'to', 'turn', 'the', 'other', 'toot', 'toot', 'cars', 'or', 'buildings', 'on', 'yet', ',', 'but', 'he', 'can', 'easily', 'turn', 'the', 'train', 'on', '.', 'I', 'hate', 'it', '!', '\"', 'I', 'am', 'a', 'little', 'train', ',', \"let's\", 'start', 'our', 'journey', '.', 'Choo', 'choo', ',', 'choo', 'choo', ',', 'chug', 'along', 'with', 'meeeeeeeee', '!\"', '😱', '@Mammatron', 'I', 'forgot', 'about', 'him', 'too', '!', 'We', 'still', 'have', 'him', '(saved', 'for', 'my', 'now', '7', 'week', 'old', ')', 'his', 'batteries', \"aren't\", 'getting', 'replaced', 'for', 'a', 'while', '😂', 'So', 'anything', 'vtech', 'is', 'confirmed', 'the', 'way', 'to', 'go', '.', \"I'm\", 'thinking', 'that', 'vetch', 'walker', 'she', 'might', 'realise', 'you', \"don't\", 'need', \"battery's\", 'and', 'that', 'would', 'ruin', 'it', '.', \"I'm\", 'going', 'the', 'toot', 'toot', 'trains', 'I', 'think', 'as', \"you'd\", 'need', \"battery's\", 'in', 'them', '.', 'It', 'needs', 'to', 'be', 'as', 'loud', 'and', 'as', 'painful', 'as', 'possible', '.', 'Oooo', \"I'd\", 'forgotten', 'about', 'this', '.', 'My', 'daughter', 'had', 'this', 'when', 'she', 'was', 'small', 'it', 'was', 'AWFUL', '.', 'Anything', 'vtech', '.', 'Toot', 'toot', 'cars', 'exceptionally', 'annoying', ',', 'bursting', 'into', 'spontaneous', 'song', 'every', 'so', 'often', '.', 'The', 'vtech', 'oven', 'is', 'equally', 'noisey', 'but', 'our', 'kids', 'love', 'it', ',', 'you', 'just', 'need', 'a', 'clean', 'pair', 'of', 'pants', 'when', 'late', 'at', 'night', 'it', 'shouts', ',', '“', 'now', 'wash', 'your', 'hands', '”', 'Tomy', 'pull', 'along', 'ducks', '...', 'I', 'can', 'still', 'hear', 'their', 'quack', 'song', '17', 'years', 'later', '....', '😱', '“', 'Hello', 'Babyyyy', ',', 'I', '’', 'm', 'Coraaaa', ',', 'your', 'cuddly', 'friend', ',', 'who', 'likes', 'to', 'SIIIIIIING', '!', 'Sing', 'with', 'me', 'and', 'let', '’', 's', 'have', 'FUUUUNNNNNNN', '!”', 'VTech', 'Little', 'Singing', 'Cora', '.', 'Drives', 'me', 'nuts', '.', 'In', 'fairness', 'all', 'of', 'my', 'DC', 'have', 'loved', 'Cora', 'though', '!', 'Beatbo', '😤', 'www', '.smythstoys.com/uk/en-gb/toys/pre-school-and-electronic-learning/fisher-price/fisher-price-dance-and-move-beatbo-baby-robot/p/145688?gclid=CjwKCAiA5qTfBRAoEiwAwQy-6fLMzkHmt_VOe6IjniX2C7EUB-yBMgXHt0xshxeSm29PzolcXvDCexoClscQAvD_BwE', 'MIL', 'bought', 'this', 'for', 'DS', ',', 'if', 'you', 'forget', 'to', 'switch', 'it', 'off', 'it', '’', 's', 'set', 'off', 'by', 'motion', ',', 'the', 'amount', 'of', 'times', 'the', 'car', 'had', 'bloody', 'set', 'it', 'off', 'in', 'the', 'middle', 'of', 'the', 'night', '😡', 'it', '’', 's', 'flashes', 'different', 'colours', 'and', 'plays', '10', 'second', 'bursts', 'of', 'really', 'bad', 'techno', 'music', '!', 'Cat', '*', 'Ds', 'is', '10', 'and', 'I', 'can', 'still', 'remember', 'the', 'hateful', 'cookie', 'jar', 'song', ',', 'that', 'was', 'definitely', 'the', 'worst', 'toy', '!', 'This', '-', 'has', 'no', 'off', 'switch', 'and', 'even', 'looking', 'at', 'it', 'sets', 'it', 'off', '.', 'www', '.debenhams.com/webapp/wcs/stores/servlet/prod_10701_10001_171040419299?brand=Early-Learning-Centre&cat1;=Toys&cat2;=Educational-%26-science-toys&cat3;=Music-toys&CMP;=SSH_3501728133_1337154430_57208237327&&CMP;=SSH_3501728133_1337154430_57208237327&gclid;=CjwKCAiA5qTfBRAoEiwAwQy-6UCPvEPaokKVaoCr8-jdSL5fq9xXSAx4w0PavBbUeqRCo7bZTRTN8xoCFfcQAvD_BwE&gclsrc;=aw.ds', 'my', 'son', 'loves', 'his', 'Vtech', 'walker', '.', 'I', 'can', '’', 't', 'get', 'annoyed', 'by', 'the', 'songs', 'when', 'he', '’', 's', 'sat', 'there', 'dancing', 'to', 'them', '❤', '️', 'As', 'an', 'extra', 'mini', 'gift', ',', 'perhaps', 'one', 'of', 'the', 'Christmas', 'music', 'books', 'from', 'Aldi', 'with', 'the', 'buttons', 'that', 'play', 'tinny', 'carols', '.', 'Preferably', 'one', 'of', 'the', 'ones', 'that', 'reset', 'when', 'the', 'button', 'is', 'pressed', 'and', 'starts', 'again', '.', 'You', 'may', 'have', 'to', 'press', 'a', 'few', 'to', 'find', 'which', 'ones', '.', 'Dc1', 'lines', 'them', 'up', 'on', 'the', 'floor', 'and', 'presses', 'all', 'the', 'buttons', 'I', 'never', 'knew', 'I', 'could', 'hate', 'a', 'book', 'as', 'much', 'as', 'I', 'hate', 'this', '.', 'Especially', 'as', 'DS', 'loves', 'pressing', 'the', 'button', 'repeatedly', 'so', 'all', 'I', 'hear', 'is', 'the', 'first', 'ten', 'seconds', 'on', 'a', 'loop', '.', 'Thanks', 'PIL', '!', 'if', 'the', 'child', 'is', 'old', 'enough', 'to', 'press', 'a', 'button', 'repeatedly', '-', 'I', 'give', 'you', 'the', 'quacking', 'duck', ':', 'www', '.thebookpeople.co.uk/webapp/wcs/stores/servlet/qs_product_tbp?productId=647094&catalogId;=10051', 'Toys', 'that', 'randomly', 'set', 'themselves', 'off', 'in', 'the', 'night', '?', 'Chad', \"Valley's\", 'tablet', 'www', '.argos.co.uk/product/2574376', 'A', 'toy', 'that', 'sounds', 'horrible', 'when', 'the', 'batteries', 'are', 'getting', 'low', '?', \"Leapfrog's\", 'Learning', 'Lights', 'remote', 'www', '.argos.co.uk/product/8194554', 'Our', '9yo', 'is', 'both', 'autistic', 'and', 'deaf', ',', 'he', 'stims', 'but', 'it', 'is', 'an', 'auditory', 'stim', '-', 'he', 'has', 'to', 'be', 'listening', 'to', 'a', 'musical', '/noisy', 'toy', 'as', 'much', 'as', 'possible', ',', 'held', 'to', 'his', 'better', 'ear', '.', 'We', 'have', 'become', 'immune', 'to', 'the', 'Toot', 'Toot', 'songs', ',', 'to', 'toys', 'randomly', 'singing', 'in', 'the', 'night', ',', 'to', 'the', 'constant', 'sound', 'of', 'toddler', 'toys', 'in', 'our', 'house', '.', 'I', 'am', 'actually', 'putting', 'this', 'thread', 'on', 'my', 'watch', 'list', 'to', 'get', 'ideas', 'for', 'new', 'toys', 'we', 'can', 'get', 'for', 'him', '(maybe', 'the', 'maracas', ')', 'so', 'keep', 'those', 'noisy', 'toy', 'ideas', 'coming', 'please', '!', 'I', 'was', 'going', 'to', 'say', 'anything', 'Vtech', 'but', 'that', 'wheels', 'On', 'the', 'bus', 'musical', 'book', 'is', 'awful', '.', 'Particularly', 'when', 'the', 'batteries', 'start', 'to', 'fail', '🤣', '🤣', '🤣', 'My', 'sister', 'bought', 'my', 'daughter', 'a', 'little', 'giraffe', 'thing', 'from', 'Asda', 'last', 'Christmas', 'that', \"doesn't\", 'have', 'an', 'off', 'switch', '.', 'If', 'you', 'disturb', 'the', 'air', 'near', 'it', 'it', 'sets', 'it', 'off', '.', 'She', 'also', 'has', 'a', 'floor', 'keyboard', 'that', 'was', 'so', 'goddamn', 'loud', 'it', 'lasted', 'two', 'days', 'before', 'I', 'folded', 'it', 'up', 'and', 'stuffed', 'it', 'at', 'the', 'bottom', 'of', 'the', 'toy', 'box', '.', 'I', 'love', 'vtech', 'toys', '!', 'I', 'actually', 'seek', 'them', 'out', '.', 'Like', 'eggy', \"I'm\", 'watching', 'this', 'thread', 'for', 'ideas', '.', 'My', 'DS', 'is', 'blind', 'so', 'the', 'noisier', 'the', 'better', '.', 'I', 'love', 'seeing', 'his', 'little', 'face', 'light', 'up', 'when', 'he', 'hears', 'his', 'favourite', 'toys', '.', 'something', 'like', 'this', 'Wooden', 'puzzle', 'that', 'makes', 'an', 'noise', 'when', 'the', 'correct', 'piece', 'is', 'put', 'in', 'place', '.', 'My', 'DCs', 'had', 'lots', 'when', 'they', 'were', 'little', '-', 'it', 'took', 'us', 'a', 'while', 'to', 'remember', 'to', 'check', 'that', 'the', 'y', 'were', 'complete', 'before', 'we', 'went', 'up', 'to', 'bed', '.', 'Turn', 'the', 'light', 'out', 'and', 'you', 'end', 'up', 'with', 'a', 'complete', 'zoo', 'making', 'noises', 'if', 'hte', 'pieces', \"aren't\", 'in', 'place', '!', 'Not', 'noisy', '-', 'but', 'the', 'worst', 'toy', 'ever', 'for', 'when', 'they', 'are', 'a', 'little', 'older', '-', 'Magic', 'Sand', '.', 'Worse', 'than', 'play', 'do', 'for', 'mess', ',', 'and', 'frustration', ',', 'but', 'mine', 'loved', 'it', '(thanks', 'to', 'my', 'DSis', ').', 'This', 'is', 'funny', 'reading', '.', 'Just', 'reading', 'this', 'has', 'put', 'the', 'v', 'tech', 'singing', 'cow', 'song', 'in', 'my', 'head', '...', '\"', \"I'm\", 'a', 'cow', '.', 'Come', 'play', 'with', 'me', '.', 'Something', 'something', '.', 'One', '.', 'Two', '.', 'THREE', '\"', '.', 'My', 'girl', 'is', 'ten', '.', 'So', \"that's\", 'a', 'long', 'time', 'to', 'remember', 'that', 'song', '.', 'We', 'still', 'have', 'the', 'cow', 'and', 'Alfie', 'the', 'singing', 'bear', '.', 'Neither', 'of', 'us', 'can', 'bring', 'ourselves', 'to', 'get', 'rid', 'of', 'them', '.', 'We', 'love', 'them', '.', 'Wish', 'we', \"hadn't\", 'got', 'a', 'v', 'tech', 'singing', 'phone', 'though', '.', 'Not', 'because', \"it's\", 'annoying', \"it's\", 'just', 'because', 'it', 'lead', 'to', 'a', 'decade', 'long', 'obsession', 'with', 'mobile', 'phones', '.', 'Vtech', 'toot', 'toot', 'cars', 'Posted', 'too', 'soon', '..', 'we', 'also', 'recently', 'got', 'bought', 'a', 'metal', 'toy', 'pan', 'and', 'utensil', 'set', 'the', 'noise', 'of', 'that', 'on', 'laminate', 'floors', 'is', 'a', 'delight', 'The', 'vtech', 'trumpet', '.', '\"', 'Playing', 'on', 'my', 'trump-pet', ',', 'music', 'to', 'my', 'eeeeeeeeee-aaaaaaaars', '.', 'I', 'like', 'to', 'sing', 'out', 'LOUD', 'AND', 'PROUD', '\"', '.', \"It's\", 'a', 'delight', '.', 'Vtech', 'appears', 'a', 'lot', 'but', \"I'm\", 'adding', 'another', 'one', 'of', 'theirs', '.', 'Nursery', 'rhyme', 'book', ',', 'it', \"doesn't\", 'have', 'an', 'off', 'switch', 'and', 'goes', \"'the\", \"end'\", 'every', 'time', \"it's\", 'closed', 'which', 'is', 'more', 'annoying', 'than', 'the', 'songs', '.', 'To', 'be', 'fair', 'to', 'vtech', 'toot', 'toot', 'they', 'are', 'super', 'durable', 'and', 'my', 'kids', 'loved', 'them', '.', 'There', 'is', 'a', 'vtech', 'boat', '(Bath', 'toy', ')', 'that', 'is', 'extremely', 'difficult', '/impossible', 'to', 'get', 'batteries', 'out', 'of', '.', 'When', 'ours', 'went', 'on', 'the', 'blink', 'it', 'would', 'randomly', 'start', 'firing', 'up', 'in', 'the', 'middle', 'of', 'the', 'night', '.', 'My', 'husband', 'actually', 'took', 'an', 'axe', 'to', 'it', 'at', '3am', 'one', 'morning', '.', 'tomy', 'train', 'The', 'Yodelling', 'Sound', 'of', 'Music', 'Goat', '-', 'Kids', 'love', 'it', '.', 'Parents', 'really', ',', 'really', \"don't\", '.https://www.youtube.com/watch?v=bs_b9ZIjuZA', 'Pretty', 'much', 'anything', 'vtech', 'tbh', '.', 'Kids', 'do', 'love', 'them', 'though', '!', 'I', '’', 've', 'just', 'looked', 'up', 'the', 'toot', 'toot', 'vehicles', 'as', 'so', 'many', 'of', 'you', 'have', 'mentioned', 'them', '.', 'They', '’', 're', 'so', 'expensive', 'but', 'so', 'tiny', '!', \"Don't\", 'get', 'them', '.', 'Especially', 'not', 'the', 'cat', 'or', 'monkey', 'ones', '.', 'You', 'know', \"what's\", 'more', 'annoying', 'than', 'a', 'toot-toot', 'vehicle', ',', 'or', 'even', 'a', 'toot-toot', 'vehicle', 'with', 'low', 'battery', '?', 'A', 'toot-toot', 'vehicle', 'purchased', 'from', 'Amazon', 'that', 'turns', 'out', 'to', 'be', 'the', 'German', 'variety', '.', 'Nothing', 'against', 'the', 'German', 'language', 'or', 'Germany', ',', 'just', 'the', 'fact', 'that', 'when', 'DS', 'plays', 'with', 'it', ',', \"I'm\", 'listening', 'hard', 'to', 'the', 'song', 'and', 'googling', 'to', 'see', 'if', 'I', 'can', 'understand', 'what', 'it', 'is', 'saying', '!', 'What', 'are', 'these', 'fisher', 'price', 'chairs', 'like', 'for', 'noisy-ness', '?', 'When', 'the', 'kid', 'is', 'bigger', 'justilou1', 'My', 'parents', 'got', 'DS', 'a', 'Peppa', 'Pig', 'one', 'of', 'them', 'for', 'his', 'first', 'birthday', '!!', '@NCP81', 'they', 'do', 'make', 'noise', 'but', \"they're\", 'not', 'that', 'annoying', '.', 'They', 'make', 'noise', 'when', 'the', 'wee', 'tv', 'magazine', 'page', 'is', 'turned', 'and', 'when', 'you', 'sit', 'on', 'the', 'seat', 'it', 'sings', 'the', 'alphabet', '.', 'Does', 'a', 'few', 'other', 'things', 'too', 'but', 'ours', 'is', 'mainly', 'switched', 'off', '🙈', '@Bluebelltulip', 'our', 'vtec', 'nursery', 'bookbhas', 'an', 'off', 'switch', 'but', 'I', 'agree', \"it's\", 'annoying', '.', 'Someone', 'once', 'bought', 'my', 'DD', 'a', 'peppy', 'pig', '\"', 'laptop', '\"', 'for', 'her', 'first', 'birthday', 'and', 'it', \"didn't\", 'have', 'an', 'off', 'switch', ',', 'it', 'lasted', 'one', 'week', '😂', '@NCP81', '-', 'They', 'never', 'liked', 'you', ',', 'did', 'they', '?', 'www', '.very.co.uk/fisher-price-bright-beats-dance-and-move-beatbo/1461105702.prd?utm_campaign=content&awc;=3090_1542308923_d54e0af041b5b5eefed5a57e306c538f&aff;=awin&affsrc;=239089&cm;_mmc=awin-_-239089-_-Social+Content-_-0_0&utm;_source=awin&utm;_medium=affiliate&utm;_term=http%3A%2F%2Fwww%2Esalesync%2Eco%2Euk%2F_239089&utm;_content=na', 'I', 'just', 'saw', 'a', 'video', 'on', 'Facebook', 'for', 'this', '.', 'Made', 'me', 'think', 'of', 'this', 'thread', '.', \"It's\", 'perfect', 'Definitely', 'the', 'VTech', 'Toot', 'Toot', 'things', '.', 'We', 'have', 'the', 'elephant', 'and', \"I've\", 'wanted', 'to', 'stomp', 'the', 'bugger', 'that', 'gave', 'it', 'to', 'us', 'many', 'a', 'time', '.', 'When', \"it's\", 'not', 'singing', 'about', 'stomping', 'here', ',', 'stomping', 'there', ',', \"it's\", 'laughing', 'like', 'Hyacinth', 'sodding', 'Bucket', '.', 'Absolutely', 'the', 'v', 'tech', 'walker', '!', 'Just', 'seen', 'this', 'thread', 'and', 'we', 'have', 'a', 'lot', 'of', 'these', 'as', 'dgs', 'comes', 'to', 'us', 'one', 'and', 'a', 'half', 'days', 'a', 'week', '.', 'Dd', 'has', 'mainly', 'wooden', 'quiet', 'toys', 'at', 'her', 'house', '-', 'she', 'is', 'not', 'silly', '.', 'Dgs', 'really', 'loves', 'them', 'except', 'for', 'one', 'toy', 'which', 'is', 'a', 'bowl', 'that', 'spins', 'into', 'which', 'you', 'put', 'balls', '.', 'There', 'are', 'a', 'number', 'of', 'buttons', 'to', 'press', 'but', 'he', 'is', 'scared', 'stiff', 'when', 'we', 'put', 'it', 'on', '.', \"I've\", 'just', 'bought', 'my', 'nieces', 'the', 'baby', 'shark', 'singing', 'soft', 'toys', 'Vtech', 'drum', 'with', 'shapes', '.', \"It's\", 'such', 'a', 'wanker', \"it's\", 'so', 'bossy', '.', 'Also', 'get', 'an', 'electric', 'keyboard', 'with', 'a', 'microphone', 'in', 'a', 'couple', 'of', 'years', 'Vtech', 'crawl', 'and', 'learn', 'ball', 'We', \"didn't\", 'buy', 'it', ',', 'it', 'was', 'a', 'gift', '-', 'DS', 'loved', 'it', ',', 'we', 'hated', 'it', '.', 'Bloody', 'vtech', '!', 'The', 'worse', 'toy', 'we', 'have', 'had', 'has', 'already', 'been', 'mentioned', 'up', 'thread', '.', 'We', 'call', 'it', 'the', 'annoying', 'giraffe', 'from', 'Asda', '.', \"It's\", 'so', 'needy', '\"', 'press', 'my', 'belly', '\"', '\"', 'your', 'my', 'best', 'friend', '.\"', 'I', 'actually', 'like', 'the', 'cookie', 'jar', 'song', '...,', '\"', 'shapes', 'are', 'in', 'my', 'cookie', 'jar', '...\"', 'There', 'are', 'a', 'pair', 'of', 'plastic', 'maracas', 'in', 'mothercare', '.', 'One', 'sings', 'La', 'Cucaracha', 'continuously', '.....', '😠', '“', 'I', '’', 'm', 'a', 'friendly', 'light', 'up', 'bear', ',', 'I', '’', 'll', 'teach', 'you', ',', 'one', 'two', 'three', ',', 'a', 'sleepy', 'happy', 'hungry', 'bear', ',', 'hey', 'come', 'and', 'hug', 'me', '”', 'I', 'haven', '’', 't', 'heard', 'that', 'in', 'nearly', '6', 'years', 'and', 'I', 'still', 'remember', 'the', 'bastard', 'words', 'It', '’', 's', 'the', 'vtech', 'Alfie', 'bear']\n",
      ".\t124\n",
      "the\t119\n",
      "a\t55\n",
      "to\t55\n",
      "and\t53\n",
      ",\t53\n",
      "it\t48\n",
      "I\t44\n",
      "of\t35\n",
      "is\t34\n",
      "that\t27\n",
      "in\t26\n",
      "toot\t26\n",
      "for\t25\n",
      "my\t25\n",
      "!\t25\n",
      "have\t23\n",
      "off\t20\n",
      "\"\t19\n",
      "when\t18\n"
     ]
    },
    {
     "data": {
      "image/png": "[encoded data removed]",
      "text/plain": [
       "<Figure size 432x288 with 1 Axes>"
      ]
     },
     "metadata": {
      "needs_background": "light"
     },
     "output_type": "display_data"
    }
   ],
   "source": [
    "tokens = tokenise_file(\"mumsnet.txt\", custom_tokenise_forum)\n",
    "print(tokens)\n",
    "save_tokens(tokens,\"mumsnet_tok.txt\")\n",
    "frequency_analysis(tokens)"
   ]
  },
  {
   "cell_type": "markdown",
   "metadata": {},
   "source": [
    "### note any findings or decisions made here:\n",
    "\n"
   ]
  },
  {
   "cell_type": "code",
   "execution_count": null,
   "metadata": {},
   "outputs": [],
   "source": []
  }
 ],
 "metadata": {
  "kernelspec": {
   "display_name": "Python 3",
   "language": "python",
   "name": "python3"
  },
  "language_info": {
   "codemirror_mode": {
    "name": "ipython",
    "version": 3
   },
   "file_extension": ".py",
   "mimetype": "text/x-python",
   "name": "python",
   "nbconvert_exporter": "python",
   "pygments_lexer": "ipython3",
   "version": "3.7.0"
  }
 },
 "nbformat": 4,
 "nbformat_minor": 2
}
