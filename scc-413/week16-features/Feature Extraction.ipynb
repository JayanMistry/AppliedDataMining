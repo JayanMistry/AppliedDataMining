{
 "cells": [
  {
   "cell_type": "markdown",
   "metadata": {},
   "source": [
    "**Note: if running on vagrant VM, make sure you have installed fonts-noto and fonts-emojione:\n",
    "\n",
    "`sudo apt install fonts-noto fonts-emojione`\n",
    "\n",
    "Also make sure packages are installed as usual, with:\n",
    "\n",
    "`sudo pip install -r requirements.txt`"
   ]
  },
  {
   "cell_type": "markdown",
   "metadata": {},
   "source": [
    "# Feature Extraction"
   ]
  },
  {
   "cell_type": "markdown",
   "metadata": {},
   "source": [
    "In previous weeks we have collected data, and then preprocessed it, including tokenisation to split the text into meaningful units (\"words\"). Given usable text and a token list, next we will look to extract features by counting occurrences of different elements and calculating other features over the text, tokens, and other features."
   ]
  },
  {
   "cell_type": "markdown",
   "metadata": {},
   "source": [
    "* [Preamble](#preamble)\n",
    "* [Bag of Words](#bow)\n",
    "    - [Filtered List](#filtered)\n",
    "    - [Word N-grams](#wordn)\n",
    "* [Characters](#chars)\n",
    "    - [Char N-grams](#charn)\n",
    "* [Annotation](#ann)\n",
    "* [Other features](#other)\n",
    "* [Documents](#docs)\n",
    "* [Corpus analysis](#corpus)\n",
    "* [TF-IDF](#tfidf)\n",
    "* [Exercise](#ex)"
   ]
  },
  {
   "cell_type": "markdown",
   "metadata": {},
   "source": [
    "<a id=\"preamble\"></a>\n",
    "## Preamble\n",
    "We can use code from last week to preprocess our text, a method is defined below to do some basic preprocessing, please check your understanding. You may see fit to edit the preprocessing to suit your needs later."
   ]
  },
  {
   "cell_type": "code",
   "execution_count": 1,
   "metadata": {},
   "outputs": [],
   "source": [
    "import ftfy\n",
    "import re\n",
    "\n",
    "hashtag_re = re.compile(r\"#\\w+\")\n",
    "mention_re = re.compile(r\"@\\w+\")\n",
    "url_re = re.compile(r\"(?:https?://)?(?:[-\\w]+\\.)+[a-zA-Z]{2,9}[-\\w/#~:;.?+=&%@~]*\")\n",
    "\n",
    "def preprocess(text):\n",
    "    p_text = hashtag_re.sub(\"[hashtag]\",text)\n",
    "    p_text = mention_re.sub(\"[mention]\",p_text)\n",
    "    p_text = url_re.sub(\"[url]\",p_text)\n",
    "    p_text = ftfy.fix_text(p_text)\n",
    "    return p_text"
   ]
  },
  {
   "cell_type": "markdown",
   "metadata": {},
   "source": [
    "To demonstrate the feature extraction, we're going to start by working with a single tweet:"
   ]
  },
  {
   "cell_type": "code",
   "execution_count": 2,
   "metadata": {},
   "outputs": [],
   "source": [
    "tweet = \"This week we’re at a #careers event in #Blackpool @Pleasure_Beach, talking to students about #languages and language careers! Come have a go at some of our activities! 🌏#LoveLanguages #LoveLancaster @Lancaster_CI https://t.co/vQQWdrUuqh\""
   ]
  },
  {
   "cell_type": "code",
   "execution_count": 3,
   "metadata": {},
   "outputs": [
    {
     "name": "stdout",
     "output_type": "stream",
     "text": [
      "This week we're at a [hashtag] event in [hashtag] [mention], talking to students about [hashtag] and language careers! Come have a go at some of our activities! 🌏[hashtag] [hashtag] [mention] [url]\n"
     ]
    }
   ],
   "source": [
    "p_tweet = preprocess(tweet)\n",
    "print(p_tweet)"
   ]
  },
  {
   "cell_type": "markdown",
   "metadata": {},
   "source": [
    "For tokenisation, we have a basic custom tokeniser. This is equivalent to the custom tokenisers created last week, but with a pre-compiled regular expression. Alternation is used to separate patterns. Again, you may see fit to edit to suit your needs later."
   ]
  },
  {
   "cell_type": "code",
   "execution_count": 4,
   "metadata": {},
   "outputs": [],
   "source": [
    "tokenise_re = re.compile(r\"(\\[[^\\]]+\\]|[-'\\w]+|[^\\s\\w\\[']+)\") #([]|words|other non-space)\n",
    "def custom_tokenise(text):\n",
    "    return tokenise_re.findall(text)"
   ]
  },
  {
   "cell_type": "markdown",
   "metadata": {},
   "source": [
    "Utility methods for displaying/saving tokens list. Can be used for any list."
   ]
  },
  {
   "cell_type": "code",
   "execution_count": 5,
   "metadata": {},
   "outputs": [],
   "source": [
    "def print_tokens(tokens):\n",
    "    for token in tokens: #iterate tokens and print one per line.\n",
    "        print(token)\n",
    "    print(f\"Total: {len(tokens)} tokens\")"
   ]
  },
  {
   "cell_type": "code",
   "execution_count": 6,
   "metadata": {},
   "outputs": [],
   "source": [
    "def save_tokens(tokens, outfile):\n",
    "    with open(outfile, 'w', encoding=\"utf-8\") as f:\n",
    "        for token in tokens: #iterate tokens and output to file.\n",
    "            f.write(token + '\\n')\n",
    "        f.write(f\"Total: {len(tokens)} tokens\")"
   ]
  },
  {
   "cell_type": "markdown",
   "metadata": {},
   "source": [
    "<a id=\"bow\"></a>\n",
    "## Bag of words"
   ]
  },
  {
   "cell_type": "markdown",
   "metadata": {},
   "source": [
    "Probably the most common NLP feature set, traditionally, is the \"bag of words\". This is a count of each word in the text, disregarding context. Whilst limited, due to the lack of context, a simple bag of words can achieve reasonable results for simple classification tasks, and is often used as a baseline."
   ]
  },
  {
   "cell_type": "markdown",
   "metadata": {},
   "source": [
    "First we need to tokenise the text. The tokenisation used will determine what is considered a \"word\", although post processing of the token list could be undertaken, e.g. to filter."
   ]
  },
  {
   "cell_type": "code",
   "execution_count": 7,
   "metadata": {
    "scrolled": true
   },
   "outputs": [],
   "source": [
    "tokens = custom_tokenise(p_tweet)"
   ]
  },
  {
   "cell_type": "code",
   "execution_count": 8,
   "metadata": {},
   "outputs": [
    {
     "name": "stdout",
     "output_type": "stream",
     "text": [
      "This\n",
      "week\n",
      "we're\n",
      "at\n",
      "a\n",
      "[hashtag]\n",
      "event\n",
      "in\n",
      "[hashtag]\n",
      "[mention]\n",
      ",\n",
      "talking\n",
      "to\n",
      "students\n",
      "about\n",
      "[hashtag]\n",
      "and\n",
      "language\n",
      "careers\n",
      "!\n",
      "Come\n",
      "have\n",
      "a\n",
      "go\n",
      "at\n",
      "some\n",
      "of\n",
      "our\n",
      "activities\n",
      "!\n",
      "🌏\n",
      "[hashtag]\n",
      "[hashtag]\n",
      "[mention]\n",
      "[url]\n",
      "Total: 35 tokens\n"
     ]
    }
   ],
   "source": [
    "print_tokens(tokens)"
   ]
  },
  {
   "cell_type": "markdown",
   "metadata": {},
   "source": [
    "For simple bag of words, it often makes sense to make the token list all lowercase, so the same word with different casings are merged (e.g. if a word is at the beginning of a sentence)."
   ]
  },
  {
   "cell_type": "code",
   "execution_count": 208,
   "metadata": {},
   "outputs": [
    {
     "name": "stdout",
     "output_type": "stream",
     "text": [
      "this\n",
      "week\n",
      "we're\n",
      "at\n",
      "a\n",
      "[hashtag]\n",
      "event\n",
      "in\n",
      "[hashtag]\n",
      "[mention]\n",
      ",\n",
      "talking\n",
      "to\n",
      "students\n",
      "about\n",
      "[hashtag]\n",
      "and\n",
      "language\n",
      "careers\n",
      "!\n",
      "come\n",
      "have\n",
      "a\n",
      "go\n",
      "at\n",
      "some\n",
      "of\n",
      "our\n",
      "activities\n",
      "!\n",
      "🌏\n",
      "[hashtag]\n",
      "[hashtag]\n",
      "[mention]\n",
      "[url]\n",
      "Total: 35 tokens\n"
     ]
    }
   ],
   "source": [
    "lower_tokens = [t.lower() for t in tokens] #list comprehension\n",
    "print_tokens(lower_tokens)"
   ]
  },
  {
   "cell_type": "markdown",
   "metadata": {},
   "source": [
    "Note that Python's `lower()` method is Unicode aware, and will lowercase letters with diacritics and from non-Latin alphabets."
   ]
  },
  {
   "cell_type": "code",
   "execution_count": 10,
   "metadata": {},
   "outputs": [
    {
     "data": {
      "text/plain": [
       "'åéîñçλф'"
      ]
     },
     "execution_count": 10,
     "metadata": {},
     "output_type": "execute_result"
    }
   ],
   "source": [
    "\"ÅÉÎÑÇΛФ\".lower()"
   ]
  },
  {
   "cell_type": "markdown",
   "metadata": {},
   "source": [
    "To make a frequency list, we simply place the token list in a [`Counter`](https://docs.python.org/3.7/library/collections.html#counter-objects) object, which extends `dict`, mapping items to frequencies. [NLTK's FreqDist](http://www.nltk.org/_modules/nltk/probability.html#FreqDist), which extends `Counter`, could also be used."
   ]
  },
  {
   "cell_type": "code",
   "execution_count": 209,
   "metadata": {},
   "outputs": [],
   "source": [
    "from collections import Counter\n",
    "\n",
    "tokens_fql = Counter(lower_tokens)"
   ]
  },
  {
   "cell_type": "code",
   "execution_count": 12,
   "metadata": {},
   "outputs": [
    {
     "data": {
      "text/plain": [
       "[('[hashtag]', 5),\n",
       " ('at', 2),\n",
       " ('a', 2),\n",
       " ('[mention]', 2),\n",
       " ('!', 2),\n",
       " ('this', 1),\n",
       " ('week', 1),\n",
       " (\"we're\", 1),\n",
       " ('event', 1),\n",
       " ('in', 1),\n",
       " (',', 1),\n",
       " ('talking', 1),\n",
       " ('to', 1),\n",
       " ('students', 1),\n",
       " ('about', 1),\n",
       " ('and', 1),\n",
       " ('language', 1),\n",
       " ('careers', 1),\n",
       " ('come', 1),\n",
       " ('have', 1),\n",
       " ('go', 1),\n",
       " ('some', 1),\n",
       " ('of', 1),\n",
       " ('our', 1),\n",
       " ('activities', 1),\n",
       " ('🌏', 1),\n",
       " ('[url]', 1)]"
      ]
     },
     "execution_count": 12,
     "metadata": {},
     "output_type": "execute_result"
    }
   ],
   "source": [
    "tokens_fql.most_common() #displays frequency list in descending frequency order."
   ]
  },
  {
   "cell_type": "markdown",
   "metadata": {},
   "source": [
    "<a id=\"filtered\"></a>\n",
    "### Filtered list"
   ]
  },
  {
   "cell_type": "markdown",
   "metadata": {},
   "source": [
    "At some point we will need to filter the bag of words, e.g. to some top-500 or top-1000 words, as it rarely makes sense to have a feature vector containing all words.\n",
    "\n",
    "The method below uses word frequencies to create a new frequency list containing all in the predefined lists. Including 0s for words not found (dense vector). The vector can be made sparse (remove 0s) by with `+counter`."
   ]
  },
  {
   "cell_type": "code",
   "execution_count": 13,
   "metadata": {},
   "outputs": [],
   "source": [
    "def filter_fql(fql, predefined_list):\n",
    "    return Counter({t: fql[t] for t in predefined_list}) #dict comprehension, t: fql[t] is token: freq."
   ]
  },
  {
   "cell_type": "markdown",
   "metadata": {},
   "source": [
    "A common feature set (especially for authorship analysis) is function words (aka stop words). Here we use the function word list taken from https://ieeexplore.ieee.org/abstract/document/6234420."
   ]
  },
  {
   "cell_type": "code",
   "execution_count": 14,
   "metadata": {},
   "outputs": [],
   "source": [
    "def read_list(file):\n",
    "    with open(file) as f:\n",
    "        items = []\n",
    "        lines = f.readlines()\n",
    "        for line in lines:\n",
    "            items.append(line.strip())\n",
    "    return items"
   ]
  },
  {
   "cell_type": "code",
   "execution_count": 15,
   "metadata": {},
   "outputs": [],
   "source": [
    "fws = read_list(\"functionwords.txt\")"
   ]
  },
  {
   "cell_type": "code",
   "execution_count": 16,
   "metadata": {},
   "outputs": [
    {
     "data": {
      "text/plain": [
       "[('a', 2),\n",
       " ('at', 2),\n",
       " ('about', 1),\n",
       " ('and', 1),\n",
       " ('have', 1),\n",
       " ('in', 1),\n",
       " ('of', 1),\n",
       " ('our', 1),\n",
       " ('some', 1),\n",
       " ('this', 1),\n",
       " ('to', 1),\n",
       " ('able', 0),\n",
       " ('aboard', 0),\n",
       " ('above', 0),\n",
       " ('absent', 0),\n",
       " ('according', 0),\n",
       " ('accordingly', 0),\n",
       " ('across', 0),\n",
       " ('after', 0),\n",
       " ('against', 0),\n",
       " ('ahead', 0),\n",
       " ('albeit', 0),\n",
       " ('all', 0),\n",
       " ('along', 0),\n",
       " ('alongside', 0),\n",
       " ('although', 0),\n",
       " ('am', 0),\n",
       " ('amid', 0),\n",
       " ('amidst', 0),\n",
       " ('among', 0),\n",
       " ('amongst', 0),\n",
       " ('amount', 0),\n",
       " ('an', 0),\n",
       " ('another', 0),\n",
       " ('anti', 0),\n",
       " ('any', 0),\n",
       " ('anybody', 0),\n",
       " ('anyone', 0),\n",
       " ('anything', 0),\n",
       " ('are', 0),\n",
       " ('around', 0),\n",
       " ('as', 0),\n",
       " ('aside', 0),\n",
       " ('astraddle', 0),\n",
       " ('astride', 0),\n",
       " ('away', 0),\n",
       " ('bar', 0),\n",
       " ('barring', 0),\n",
       " ('be', 0),\n",
       " ('because', 0),\n",
       " ('been', 0),\n",
       " ('before', 0),\n",
       " ('behind', 0),\n",
       " ('being', 0),\n",
       " ('below', 0),\n",
       " ('beneath', 0),\n",
       " ('beside', 0),\n",
       " ('besides', 0),\n",
       " ('better', 0),\n",
       " ('between', 0),\n",
       " ('beyond', 0),\n",
       " ('bit', 0),\n",
       " ('both', 0),\n",
       " ('but', 0),\n",
       " ('by', 0),\n",
       " ('can', 0),\n",
       " ('certain', 0),\n",
       " ('circa', 0),\n",
       " ('close', 0),\n",
       " ('concerning', 0),\n",
       " ('consequently', 0),\n",
       " ('considering', 0),\n",
       " ('could', 0),\n",
       " ('couple', 0),\n",
       " ('dare', 0),\n",
       " ('deal', 0),\n",
       " ('despite', 0),\n",
       " ('down', 0),\n",
       " ('due', 0),\n",
       " ('during', 0),\n",
       " ('each', 0),\n",
       " ('eight', 0),\n",
       " ('eighth', 0),\n",
       " ('either', 0),\n",
       " ('enough', 0),\n",
       " ('every', 0),\n",
       " ('everybody', 0),\n",
       " ('everyone', 0),\n",
       " ('everything', 0),\n",
       " ('except', 0),\n",
       " ('excepting', 0),\n",
       " ('excluding', 0),\n",
       " ('failing', 0),\n",
       " ('few', 0),\n",
       " ('fewer', 0),\n",
       " ('fifth', 0),\n",
       " ('first', 0),\n",
       " ('five', 0),\n",
       " ('following', 0),\n",
       " ('for', 0),\n",
       " ('four', 0),\n",
       " ('fourth', 0),\n",
       " ('from', 0),\n",
       " ('front', 0),\n",
       " ('given', 0),\n",
       " ('good', 0),\n",
       " ('great', 0),\n",
       " ('had', 0),\n",
       " ('half', 0),\n",
       " ('he', 0),\n",
       " ('heaps', 0),\n",
       " ('hence', 0),\n",
       " ('her', 0),\n",
       " ('hers', 0),\n",
       " ('herself', 0),\n",
       " ('him', 0),\n",
       " ('himself', 0),\n",
       " ('his', 0),\n",
       " ('however', 0),\n",
       " ('i', 0),\n",
       " ('if', 0),\n",
       " ('including', 0),\n",
       " ('inside', 0),\n",
       " ('instead', 0),\n",
       " ('into', 0),\n",
       " ('is', 0),\n",
       " ('it', 0),\n",
       " ('its', 0),\n",
       " ('itself', 0),\n",
       " ('keeping', 0),\n",
       " ('lack', 0),\n",
       " ('less', 0),\n",
       " ('like', 0),\n",
       " ('little', 0),\n",
       " ('loads', 0),\n",
       " ('lots', 0),\n",
       " ('majority', 0),\n",
       " ('many', 0),\n",
       " ('masses', 0),\n",
       " ('may', 0),\n",
       " ('me', 0),\n",
       " ('might', 0),\n",
       " ('mine', 0),\n",
       " ('minority', 0),\n",
       " ('minus', 0),\n",
       " ('more', 0),\n",
       " ('most', 0),\n",
       " ('much', 0),\n",
       " ('must', 0),\n",
       " ('my', 0),\n",
       " ('myself', 0),\n",
       " ('near', 0),\n",
       " ('need', 0),\n",
       " ('neither', 0),\n",
       " ('nevertheless', 0),\n",
       " ('next', 0),\n",
       " ('nine', 0),\n",
       " ('ninth', 0),\n",
       " ('no', 0),\n",
       " ('nobody', 0),\n",
       " ('none', 0),\n",
       " ('nor', 0),\n",
       " ('nothing', 0),\n",
       " ('notwithstanding', 0),\n",
       " ('number', 0),\n",
       " ('numbers', 0),\n",
       " ('off', 0),\n",
       " ('on', 0),\n",
       " ('once', 0),\n",
       " ('one', 0),\n",
       " ('onto', 0),\n",
       " ('opposite', 0),\n",
       " ('or', 0),\n",
       " ('other', 0),\n",
       " ('ought', 0),\n",
       " ('ours', 0),\n",
       " ('ourselves', 0),\n",
       " ('out', 0),\n",
       " ('outside', 0),\n",
       " ('over', 0),\n",
       " ('part', 0),\n",
       " ('past', 0),\n",
       " ('pending', 0),\n",
       " ('per', 0),\n",
       " ('pertaining', 0),\n",
       " ('place', 0),\n",
       " ('plenty', 0),\n",
       " ('plethora', 0),\n",
       " ('plus', 0),\n",
       " ('quantities', 0),\n",
       " ('quantity', 0),\n",
       " ('quarter', 0),\n",
       " ('regarding', 0),\n",
       " ('remainder', 0),\n",
       " ('respecting', 0),\n",
       " ('rest', 0),\n",
       " ('round', 0),\n",
       " ('save', 0),\n",
       " ('saving', 0),\n",
       " ('second', 0),\n",
       " ('seven', 0),\n",
       " ('seventh', 0),\n",
       " ('several', 0),\n",
       " ('shall', 0),\n",
       " ('she', 0),\n",
       " ('should', 0),\n",
       " ('similar', 0),\n",
       " ('since', 0),\n",
       " ('six', 0),\n",
       " ('sixth', 0),\n",
       " ('so', 0),\n",
       " ('somebody', 0),\n",
       " ('someone', 0),\n",
       " ('something', 0),\n",
       " ('spite', 0),\n",
       " ('such', 0),\n",
       " ('ten', 0),\n",
       " ('tenth', 0),\n",
       " ('than', 0),\n",
       " ('thanks', 0),\n",
       " ('that', 0),\n",
       " ('the', 0),\n",
       " ('their', 0),\n",
       " ('theirs', 0),\n",
       " ('them', 0),\n",
       " ('themselves', 0),\n",
       " ('then', 0),\n",
       " ('thence', 0),\n",
       " ('therefore', 0),\n",
       " ('these', 0),\n",
       " ('they', 0),\n",
       " ('third', 0),\n",
       " ('those', 0),\n",
       " ('though', 0),\n",
       " ('three', 0),\n",
       " ('through', 0),\n",
       " ('throughout', 0),\n",
       " ('thru', 0),\n",
       " ('thus', 0),\n",
       " ('till', 0),\n",
       " ('time', 0),\n",
       " ('tons', 0),\n",
       " ('top', 0),\n",
       " ('toward', 0),\n",
       " ('towards', 0),\n",
       " ('two', 0),\n",
       " ('under', 0),\n",
       " ('underneath', 0),\n",
       " ('unless', 0),\n",
       " ('unlike', 0),\n",
       " ('until', 0),\n",
       " ('unto', 0),\n",
       " ('up', 0),\n",
       " ('upon', 0),\n",
       " ('us', 0),\n",
       " ('used', 0),\n",
       " ('various', 0),\n",
       " ('versus', 0),\n",
       " ('via', 0),\n",
       " ('view', 0),\n",
       " ('wanting', 0),\n",
       " ('was', 0),\n",
       " ('we', 0),\n",
       " ('were', 0),\n",
       " ('what', 0),\n",
       " ('whatever', 0),\n",
       " ('when', 0),\n",
       " ('whenever', 0),\n",
       " ('where', 0),\n",
       " ('whereas', 0),\n",
       " ('wherever', 0),\n",
       " ('whether', 0),\n",
       " ('which', 0),\n",
       " ('whichever', 0),\n",
       " ('while', 0),\n",
       " ('whilst', 0),\n",
       " ('who', 0),\n",
       " ('whoever', 0),\n",
       " ('whole', 0),\n",
       " ('whom', 0),\n",
       " ('whomever', 0),\n",
       " ('whose', 0),\n",
       " ('will', 0),\n",
       " ('with', 0),\n",
       " ('within', 0),\n",
       " ('without', 0),\n",
       " ('would', 0),\n",
       " ('yet', 0),\n",
       " ('you', 0),\n",
       " ('your', 0),\n",
       " ('yours', 0),\n",
       " ('yourself', 0),\n",
       " ('yourselves', 0)]"
      ]
     },
     "execution_count": 16,
     "metadata": {},
     "output_type": "execute_result"
    }
   ],
   "source": [
    "fws_fql = filter_fql(tokens_fql, fws)\n",
    "fws_fql.most_common()"
   ]
  },
  {
   "cell_type": "markdown",
   "metadata": {},
   "source": [
    "Remove 0s, and make into sparse vector: "
   ]
  },
  {
   "cell_type": "code",
   "execution_count": 17,
   "metadata": {},
   "outputs": [
    {
     "data": {
      "text/plain": [
       "Counter({'a': 2,\n",
       "         'about': 1,\n",
       "         'and': 1,\n",
       "         'at': 2,\n",
       "         'have': 1,\n",
       "         'in': 1,\n",
       "         'of': 1,\n",
       "         'our': 1,\n",
       "         'some': 1,\n",
       "         'this': 1,\n",
       "         'to': 1})"
      ]
     },
     "execution_count": 17,
     "metadata": {},
     "output_type": "execute_result"
    }
   ],
   "source": [
    "+fws_fql"
   ]
  },
  {
   "cell_type": "markdown",
   "metadata": {},
   "source": [
    "Note you need to be careful that the tokenisation matches what is in the function word / stopword list.\n",
    "\n",
    "You could also use NLTK's stopword list."
   ]
  },
  {
   "cell_type": "code",
   "execution_count": 18,
   "metadata": {},
   "outputs": [
    {
     "name": "stdout",
     "output_type": "stream",
     "text": [
      "[nltk_data] Downloading package stopwords to /home/jay/nltk_data...\n",
      "[nltk_data]   Package stopwords is already up-to-date!\n",
      "['i', 'me', 'my', 'myself', 'we', 'our', 'ours', 'ourselves', 'you', \"you're\", \"you've\", \"you'll\", \"you'd\", 'your', 'yours', 'yourself', 'yourselves', 'he', 'him', 'his', 'himself', 'she', \"she's\", 'her', 'hers', 'herself', 'it', \"it's\", 'its', 'itself', 'they', 'them', 'their', 'theirs', 'themselves', 'what', 'which', 'who', 'whom', 'this', 'that', \"that'll\", 'these', 'those', 'am', 'is', 'are', 'was', 'were', 'be', 'been', 'being', 'have', 'has', 'had', 'having', 'do', 'does', 'did', 'doing', 'a', 'an', 'the', 'and', 'but', 'if', 'or', 'because', 'as', 'until', 'while', 'of', 'at', 'by', 'for', 'with', 'about', 'against', 'between', 'into', 'through', 'during', 'before', 'after', 'above', 'below', 'to', 'from', 'up', 'down', 'in', 'out', 'on', 'off', 'over', 'under', 'again', 'further', 'then', 'once', 'here', 'there', 'when', 'where', 'why', 'how', 'all', 'any', 'both', 'each', 'few', 'more', 'most', 'other', 'some', 'such', 'no', 'nor', 'not', 'only', 'own', 'same', 'so', 'than', 'too', 'very', 's', 't', 'can', 'will', 'just', 'don', \"don't\", 'should', \"should've\", 'now', 'd', 'll', 'm', 'o', 're', 've', 'y', 'ain', 'aren', \"aren't\", 'couldn', \"couldn't\", 'didn', \"didn't\", 'doesn', \"doesn't\", 'hadn', \"hadn't\", 'hasn', \"hasn't\", 'haven', \"haven't\", 'isn', \"isn't\", 'ma', 'mightn', \"mightn't\", 'mustn', \"mustn't\", 'needn', \"needn't\", 'shan', \"shan't\", 'shouldn', \"shouldn't\", 'wasn', \"wasn't\", 'weren', \"weren't\", 'won', \"won't\", 'wouldn', \"wouldn't\"]\n"
     ]
    }
   ],
   "source": [
    "import nltk\n",
    "from nltk.corpus import stopwords\n",
    "nltk.download('stopwords')\n",
    "stoplist = stopwords.words('english')\n",
    "print(stoplist)"
   ]
  },
  {
   "cell_type": "markdown",
   "metadata": {},
   "source": [
    "We can remove words from a list (e.g. a stopword list) by iterating the list of words to remove, and 'popping off' ([dict.pop(key,None)](https://docs.python.org/3/library/stdtypes.html?highlight=pop#dict.pop)) each word if present. "
   ]
  },
  {
   "cell_type": "code",
   "execution_count": 19,
   "metadata": {},
   "outputs": [
    {
     "name": "stdout",
     "output_type": "stream",
     "text": [
      "Counter({'[hashtag]': 5, '[mention]': 2, '!': 2, 'week': 1, \"we're\": 1, 'event': 1, ',': 1, 'talking': 1, 'students': 1, 'language': 1, 'careers': 1, 'come': 1, 'go': 1, 'activities': 1, '🌏': 1, '[url]': 1})\n"
     ]
    }
   ],
   "source": [
    "def remove_list(fql, to_remove):\n",
    "    filtered = Counter(fql)\n",
    "    for r in to_remove:\n",
    "        filtered.pop(r,None)        \n",
    "    return filtered\n",
    "\n",
    "filtered = remove_list(tokens_fql, stoplist)\n",
    "print(filtered)"
   ]
  },
  {
   "cell_type": "markdown",
   "metadata": {},
   "source": [
    "<a id=\"wordn\"></a>\n",
    "### Word n-grams"
   ]
  },
  {
   "cell_type": "markdown",
   "metadata": {},
   "source": [
    "To get some context for words, we can use sequences of words instead of single words, these are known as word n-grams. bigrams (2-grams) and trigrams (3-grams) are popular. One issue with word n-grams is their sparsity. It's a good idea to reduce the size of the vocabulary as much as possible, e.g. digits and dates could be mapped to single tokens."
   ]
  },
  {
   "cell_type": "markdown",
   "metadata": {},
   "source": [
    "Whether a token appears at the start or end of the text (or could be sentence) can be useful, so we can introduce buffer markers at the start and end to indicate this.\n",
    "\n",
    "Note also that n-grams should be created with a sliding window over the text, i.e. the first word bigram is the first and second word, the second bigram is the second and third word.\n",
    "\n",
    "The method below is a generic method for turning a list of tokens into an n-gram list, adding the buffer characters either side, and moving a sliding window of size n across the text and providing a list of n-grams."
   ]
  },
  {
   "cell_type": "code",
   "execution_count": 20,
   "metadata": {},
   "outputs": [],
   "source": [
    "def ngrams(tokens, n, sep = \"_\", buffer=\"^\"):\n",
    "    buffered = [buffer] * (n-1) + tokens + [buffer] * (n-1) #add buffer either side to denote start and end\n",
    "    return [sep.join(buffered[i:i+n]) for i in range(len(buffered)-n+1)] #list comprehension creating merged string of n chars, with a window of n through string"
   ]
  },
  {
   "cell_type": "code",
   "execution_count": 21,
   "metadata": {},
   "outputs": [],
   "source": [
    "word_bigrams = ngrams(lower_tokens,2)"
   ]
  },
  {
   "cell_type": "code",
   "execution_count": 22,
   "metadata": {},
   "outputs": [
    {
     "data": {
      "text/plain": [
       "['^_this',\n",
       " 'this_week',\n",
       " \"week_we're\",\n",
       " \"we're_at\",\n",
       " 'at_a',\n",
       " 'a_[hashtag]',\n",
       " '[hashtag]_event',\n",
       " 'event_in',\n",
       " 'in_[hashtag]',\n",
       " '[hashtag]_[mention]',\n",
       " '[mention]_,',\n",
       " ',_talking',\n",
       " 'talking_to',\n",
       " 'to_students',\n",
       " 'students_about',\n",
       " 'about_[hashtag]',\n",
       " '[hashtag]_and',\n",
       " 'and_language',\n",
       " 'language_careers',\n",
       " 'careers_!',\n",
       " '!_come',\n",
       " 'come_have',\n",
       " 'have_a',\n",
       " 'a_go',\n",
       " 'go_at',\n",
       " 'at_some',\n",
       " 'some_of',\n",
       " 'of_our',\n",
       " 'our_activities',\n",
       " 'activities_!',\n",
       " '!_🌏',\n",
       " '🌏_[hashtag]',\n",
       " '[hashtag]_[hashtag]',\n",
       " '[hashtag]_[mention]',\n",
       " '[mention]_[url]',\n",
       " '[url]_^']"
      ]
     },
     "execution_count": 22,
     "metadata": {},
     "output_type": "execute_result"
    }
   ],
   "source": [
    "word_bigrams"
   ]
  },
  {
   "cell_type": "code",
   "execution_count": 23,
   "metadata": {},
   "outputs": [
    {
     "data": {
      "text/plain": [
       "[('[hashtag]_[mention]', 2),\n",
       " ('^_this', 1),\n",
       " ('this_week', 1),\n",
       " (\"week_we're\", 1),\n",
       " (\"we're_at\", 1),\n",
       " ('at_a', 1),\n",
       " ('a_[hashtag]', 1),\n",
       " ('[hashtag]_event', 1),\n",
       " ('event_in', 1),\n",
       " ('in_[hashtag]', 1),\n",
       " ('[mention]_,', 1),\n",
       " (',_talking', 1),\n",
       " ('talking_to', 1),\n",
       " ('to_students', 1),\n",
       " ('students_about', 1),\n",
       " ('about_[hashtag]', 1),\n",
       " ('[hashtag]_and', 1),\n",
       " ('and_language', 1),\n",
       " ('language_careers', 1),\n",
       " ('careers_!', 1),\n",
       " ('!_come', 1),\n",
       " ('come_have', 1),\n",
       " ('have_a', 1),\n",
       " ('a_go', 1),\n",
       " ('go_at', 1),\n",
       " ('at_some', 1),\n",
       " ('some_of', 1),\n",
       " ('of_our', 1),\n",
       " ('our_activities', 1),\n",
       " ('activities_!', 1),\n",
       " ('!_🌏', 1),\n",
       " ('🌏_[hashtag]', 1),\n",
       " ('[hashtag]_[hashtag]', 1),\n",
       " ('[mention]_[url]', 1),\n",
       " ('[url]_^', 1)]"
      ]
     },
     "execution_count": 23,
     "metadata": {},
     "output_type": "execute_result"
    }
   ],
   "source": [
    "word_bigrams_fql = Counter(word_bigrams)\n",
    "word_bigrams_fql.most_common()"
   ]
  },
  {
   "cell_type": "markdown",
   "metadata": {},
   "source": [
    "**Task:** Produce a frequency list of word trigrams."
   ]
  },
  {
   "cell_type": "code",
   "execution_count": null,
   "metadata": {},
   "outputs": [],
   "source": []
  },
  {
   "cell_type": "markdown",
   "metadata": {},
   "source": [
    "<a id=\"chars\"></a>\n",
    "## Characters"
   ]
  },
  {
   "cell_type": "markdown",
   "metadata": {},
   "source": [
    "Just looking at characters as features is a simple (yet often powerful) way of processing text."
   ]
  },
  {
   "cell_type": "code",
   "execution_count": 24,
   "metadata": {},
   "outputs": [
    {
     "name": "stdout",
     "output_type": "stream",
     "text": [
      "This week we’re at a #careers event in #Blackpool @Pleasure_Beach, talking to students about #languages and language careers! Come have a go at some of our activities! 🌏#LoveLanguages #LoveLancaster @Lancaster_CI https://t.co/vQQWdrUuqh\n"
     ]
    }
   ],
   "source": [
    "print(tweet)"
   ]
  },
  {
   "cell_type": "code",
   "execution_count": 25,
   "metadata": {},
   "outputs": [
    {
     "name": "stdout",
     "output_type": "stream",
     "text": [
      "This week we're at a [hashtag] event in [hashtag] [mention], talking to students about [hashtag] and language careers! Come have a go at some of our activities! 🌏[hashtag] [hashtag] [mention] [url]\n"
     ]
    }
   ],
   "source": [
    "print(p_tweet)"
   ]
  },
  {
   "cell_type": "markdown",
   "metadata": {},
   "source": [
    "We probably don't want the artificial hashtag, mention, and url markers, we could keep these as is, replace with single chars, or just remove them. Below we just remove them. We often have different pre-processing for different features."
   ]
  },
  {
   "cell_type": "code",
   "execution_count": 26,
   "metadata": {},
   "outputs": [],
   "source": [
    "def preprocess_remove(text):\n",
    "    r_text = hashtag_re.sub(\"\",text)\n",
    "    r_text = mention_re.sub(\"\",r_text)\n",
    "    r_text = url_re.sub(\"\",r_text)\n",
    "    r_text = ftfy.fix_text(r_text)\n",
    "    return r_text"
   ]
  },
  {
   "cell_type": "code",
   "execution_count": 27,
   "metadata": {},
   "outputs": [
    {
     "name": "stdout",
     "output_type": "stream",
     "text": [
      "This week we're at a  event in  , talking to students about  and language careers! Come have a go at some of our activities! 🌏   \n"
     ]
    }
   ],
   "source": [
    "r_tweet = preprocess_remove(tweet)\n",
    "print(r_tweet)"
   ]
  },
  {
   "cell_type": "markdown",
   "metadata": {},
   "source": [
    "Note, extra spaces are included now, how could you preprocess the text further to reduce multiple spaces to a single space?"
   ]
  },
  {
   "cell_type": "markdown",
   "metadata": {},
   "source": [
    "In Python a string is just a sequence (list) of characters, so we can just iterate through the characters as below:"
   ]
  },
  {
   "cell_type": "code",
   "execution_count": 28,
   "metadata": {},
   "outputs": [
    {
     "name": "stdout",
     "output_type": "stream",
     "text": [
      "T\n",
      "h\n",
      "i\n",
      "s\n",
      " \n",
      "w\n",
      "e\n",
      "e\n",
      "k\n",
      " \n",
      "w\n",
      "e\n",
      "'\n",
      "r\n",
      "e\n",
      " \n",
      "a\n",
      "t\n",
      " \n",
      "a\n",
      " \n",
      " \n",
      "e\n",
      "v\n",
      "e\n",
      "n\n",
      "t\n",
      " \n",
      "i\n",
      "n\n",
      " \n",
      " \n",
      ",\n",
      " \n",
      "t\n",
      "a\n",
      "l\n",
      "k\n",
      "i\n",
      "n\n",
      "g\n",
      " \n",
      "t\n",
      "o\n",
      " \n",
      "s\n",
      "t\n",
      "u\n",
      "d\n",
      "e\n",
      "n\n",
      "t\n",
      "s\n",
      " \n",
      "a\n",
      "b\n",
      "o\n",
      "u\n",
      "t\n",
      " \n",
      " \n",
      "a\n",
      "n\n",
      "d\n",
      " \n",
      "l\n",
      "a\n",
      "n\n",
      "g\n",
      "u\n",
      "a\n",
      "g\n",
      "e\n",
      " \n",
      "c\n",
      "a\n",
      "r\n",
      "e\n",
      "e\n",
      "r\n",
      "s\n",
      "!\n",
      " \n",
      "C\n",
      "o\n",
      "m\n",
      "e\n",
      " \n",
      "h\n",
      "a\n",
      "v\n",
      "e\n",
      " \n",
      "a\n",
      " \n",
      "g\n",
      "o\n",
      " \n",
      "a\n",
      "t\n",
      " \n",
      "s\n",
      "o\n",
      "m\n",
      "e\n",
      " \n",
      "o\n",
      "f\n",
      " \n",
      "o\n",
      "u\n",
      "r\n",
      " \n",
      "a\n",
      "c\n",
      "t\n",
      "i\n",
      "v\n",
      "i\n",
      "t\n",
      "i\n",
      "e\n",
      "s\n",
      "!\n",
      " \n",
      "🌏\n",
      " \n",
      " \n",
      " \n"
     ]
    }
   ],
   "source": [
    "for char in r_tweet:\n",
    "    print(char)"
   ]
  },
  {
   "cell_type": "markdown",
   "metadata": {},
   "source": [
    "We can make thus count the frequency of each character easily:"
   ]
  },
  {
   "cell_type": "code",
   "execution_count": 29,
   "metadata": {},
   "outputs": [
    {
     "data": {
      "text/plain": [
       "[(' ', 30),\n",
       " ('e', 14),\n",
       " ('a', 12),\n",
       " ('t', 10),\n",
       " ('o', 7),\n",
       " ('i', 6),\n",
       " ('s', 6),\n",
       " ('n', 6),\n",
       " ('r', 4),\n",
       " ('g', 4),\n",
       " ('u', 4),\n",
       " ('v', 3),\n",
       " ('h', 2),\n",
       " ('w', 2),\n",
       " ('k', 2),\n",
       " ('l', 2),\n",
       " ('d', 2),\n",
       " ('c', 2),\n",
       " ('!', 2),\n",
       " ('m', 2),\n",
       " ('T', 1),\n",
       " (\"'\", 1),\n",
       " (',', 1),\n",
       " ('b', 1),\n",
       " ('C', 1),\n",
       " ('f', 1),\n",
       " ('🌏', 1)]"
      ]
     },
     "execution_count": 29,
     "metadata": {},
     "output_type": "execute_result"
    }
   ],
   "source": [
    "char_fql = Counter(r_tweet)\n",
    "char_fql.most_common()"
   ]
  },
  {
   "cell_type": "markdown",
   "metadata": {},
   "source": [
    "This appears to work well, **but this should be used with caution**:"
   ]
  },
  {
   "cell_type": "code",
   "execution_count": 30,
   "metadata": {},
   "outputs": [
    {
     "name": "stdout",
     "output_type": "stream",
     "text": [
      "Remember the spicy jalapeño\n"
     ]
    }
   ],
   "source": [
    "test = \"Remember the spicy jalapen\\u0303o\"\n",
    "print(test)"
   ]
  },
  {
   "cell_type": "code",
   "execution_count": 31,
   "metadata": {},
   "outputs": [
    {
     "name": "stdout",
     "output_type": "stream",
     "text": [
      "0 R\n",
      "1 e\n",
      "2 m\n",
      "3 e\n",
      "4 m\n",
      "5 b\n",
      "6 e\n",
      "7 r\n",
      "8  \n",
      "9 t\n",
      "10 h\n",
      "11 e\n",
      "12  \n",
      "13 s\n",
      "14 p\n",
      "15 i\n",
      "16 c\n",
      "17 y\n",
      "18  \n",
      "19 j\n",
      "20 a\n",
      "21 l\n",
      "22 a\n",
      "23 p\n",
      "24 e\n",
      "25 n\n",
      "26 ̃\n",
      "27 o\n"
     ]
    }
   ],
   "source": [
    "for i, char in enumerate(test):\n",
    "    print(i,char)"
   ]
  },
  {
   "cell_type": "markdown",
   "metadata": {},
   "source": [
    "Notice the  ̃ separated from the n because it is a separate codepoint (combining)."
   ]
  },
  {
   "cell_type": "markdown",
   "metadata": {},
   "source": [
    "This gets worse if we view the characters as a list:"
   ]
  },
  {
   "cell_type": "code",
   "execution_count": 32,
   "metadata": {},
   "outputs": [
    {
     "name": "stdout",
     "output_type": "stream",
     "text": [
      "['R', 'e', 'm', 'e', 'm', 'b', 'e', 'r', ' ', 't', 'h', 'e', ' ', 's', 'p', 'i', 'c', 'y', ' ', 'j', 'a', 'l', 'a', 'p', 'e', 'n', '̃', 'o']\n"
     ]
    }
   ],
   "source": [
    "print(list(test))"
   ]
  },
  {
   "cell_type": "markdown",
   "metadata": {},
   "source": [
    "See the  ̃ over the single quote mark. Nasty! 🤢\n",
    "\n",
    "The combining codepoint combines with whatever the character before is, and in this case it's displayed as the quote mark."
   ]
  },
  {
   "cell_type": "markdown",
   "metadata": {},
   "source": [
    "We need to be careful how we define \"character\". In Python a 'character' is a single Unicode codepoint. When in reality, we should be looking for \"graphemes\", i.e. displayed single characters (which may be a cluster of codepoints): https://unicode.org/reports/tr29/#Grapheme_Cluster_Boundaries"
   ]
  },
  {
   "cell_type": "markdown",
   "metadata": {},
   "source": [
    "We can use regular expressions to find these graphemes, but Python's default regular expression library (re), whilst being Unicode aware, does not deal with Unicode particularly well. The [regex library](https://pypi.org/project/regex/) has better support, providing the use of unicode categories: https://www.regular-expressions.info/unicode.html, including `\\X` to match single graphemes."
   ]
  },
  {
   "cell_type": "code",
   "execution_count": 33,
   "metadata": {},
   "outputs": [],
   "source": [
    "import regex\n",
    "#!{sys.executable} -m pip install regex\n",
    "char_regex = regex.compile(r'\\X')"
   ]
  },
  {
   "cell_type": "code",
   "execution_count": 34,
   "metadata": {},
   "outputs": [
    {
     "name": "stdout",
     "output_type": "stream",
     "text": [
      "['R', 'e', 'm', 'e', 'm', 'b', 'e', 'r', ' ', 't', 'h', 'e', ' ', 's', 'p', 'i', 'c', 'y', ' ', 'j', 'a', 'l', 'a', 'p', 'e', 'ñ', 'o']\n"
     ]
    }
   ],
   "source": [
    "chars = char_regex.findall(test)\n",
    "print(chars)"
   ]
  },
  {
   "cell_type": "markdown",
   "metadata": {},
   "source": [
    "This nicely separates ñ as single \"character\". We can put this into a frequency list:"
   ]
  },
  {
   "cell_type": "code",
   "execution_count": 35,
   "metadata": {},
   "outputs": [
    {
     "data": {
      "text/plain": [
       "[('e', 5),\n",
       " (' ', 3),\n",
       " ('m', 2),\n",
       " ('p', 2),\n",
       " ('a', 2),\n",
       " ('R', 1),\n",
       " ('b', 1),\n",
       " ('r', 1),\n",
       " ('t', 1),\n",
       " ('h', 1),\n",
       " ('s', 1),\n",
       " ('i', 1),\n",
       " ('c', 1),\n",
       " ('y', 1),\n",
       " ('j', 1),\n",
       " ('l', 1),\n",
       " ('ñ', 1),\n",
       " ('o', 1)]"
      ]
     },
     "execution_count": 35,
     "metadata": {},
     "output_type": "execute_result"
    }
   ],
   "source": [
    "char_fql = Counter(chars)\n",
    "char_fql.most_common()"
   ]
  },
  {
   "cell_type": "markdown",
   "metadata": {},
   "source": [
    "Even more \"fun\" can be had with emojis, which can contain numerous codepoints, particularly joined with zero-width-joiners: https://unicode.org/emoji/charts/emoji-zwj-sequences.html."
   ]
  },
  {
   "cell_type": "code",
   "execution_count": 64,
   "metadata": {},
   "outputs": [],
   "source": [
    "emoji_test = \"This is an emoji: \\U0001F468\\u200D\\U0001F469\\u200D\\U0001F467\\u200D\\U0001F466\""
   ]
  },
  {
   "cell_type": "code",
   "execution_count": 65,
   "metadata": {},
   "outputs": [
    {
     "name": "stdout",
     "output_type": "stream",
     "text": [
      "This is an emoji: 👨‍👩‍👧‍👦\n"
     ]
    }
   ],
   "source": [
    "print(emoji_test)"
   ]
  },
  {
   "cell_type": "code",
   "execution_count": 66,
   "metadata": {},
   "outputs": [],
   "source": [
    "test_matches = char_regex.findall(emoji_test)"
   ]
  },
  {
   "cell_type": "code",
   "execution_count": 67,
   "metadata": {},
   "outputs": [
    {
     "name": "stdout",
     "output_type": "stream",
     "text": [
      "T\n",
      "h\n",
      "i\n",
      "s\n",
      " \n",
      "i\n",
      "s\n",
      " \n",
      "a\n",
      "n\n",
      " \n",
      "e\n",
      "m\n",
      "o\n",
      "j\n",
      "i\n",
      ":\n",
      " \n",
      "👨‍👩‍👧‍👦\n"
     ]
    }
   ],
   "source": [
    "for match in test_matches:\n",
    "    print(match)"
   ]
  },
  {
   "cell_type": "markdown",
   "metadata": {},
   "source": [
    "(You must have the latest version (2019.2.18) of the regex library for this to work, there was a bug I actually found whilst preparing this lab, which has now been fixed: https://bitbucket.org/mrabarnett/mrab-regex/issues/312/x-not-matching-graphemes-with-zero-width.)"
   ]
  },
  {
   "cell_type": "markdown",
   "metadata": {},
   "source": [
    "Another library, [grapheme](https://pypi.org/project/grapheme/), also provides funtionality to deal with these graphemes like characters."
   ]
  },
  {
   "cell_type": "code",
   "execution_count": 68,
   "metadata": {},
   "outputs": [],
   "source": [
    "import grapheme"
   ]
  },
  {
   "cell_type": "code",
   "execution_count": 69,
   "metadata": {},
   "outputs": [],
   "source": [
    "graphemes = list(grapheme.graphemes(emoji_test))"
   ]
  },
  {
   "cell_type": "code",
   "execution_count": 70,
   "metadata": {},
   "outputs": [
    {
     "name": "stdout",
     "output_type": "stream",
     "text": [
      "T\n",
      "h\n",
      "i\n",
      "s\n",
      " \n",
      "i\n",
      "s\n",
      " \n",
      "a\n",
      "n\n",
      " \n",
      "e\n",
      "m\n",
      "o\n",
      "j\n",
      "i\n",
      ":\n",
      " \n",
      "👨‍👩‍👧‍👦\n"
     ]
    }
   ],
   "source": [
    "for g in graphemes:\n",
    "    print(g)"
   ]
  },
  {
   "cell_type": "code",
   "execution_count": 43,
   "metadata": {},
   "outputs": [
    {
     "data": {
      "text/plain": [
       "[(' ', 4),\n",
       " ('i', 3),\n",
       " ('s', 2),\n",
       " ('T', 1),\n",
       " ('h', 1),\n",
       " ('a', 1),\n",
       " ('n', 1),\n",
       " ('e', 1),\n",
       " ('m', 1),\n",
       " ('o', 1),\n",
       " ('j', 1),\n",
       " (':', 1),\n",
       " ('👨\\u200d👩\\u200d👧\\u200d👦', 1)]"
      ]
     },
     "execution_count": 43,
     "metadata": {},
     "output_type": "execute_result"
    }
   ],
   "source": [
    "char_fql = Counter(graphemes)\n",
    "char_fql.most_common()"
   ]
  },
  {
   "cell_type": "markdown",
   "metadata": {},
   "source": [
    "Note, when composite graphemes are printed in a list/tuple, they're expanded for some reason (if you know why, please tell me!). As can be seen, this is just a display issue:"
   ]
  },
  {
   "cell_type": "code",
   "execution_count": 71,
   "metadata": {},
   "outputs": [
    {
     "name": "stdout",
     "output_type": "stream",
     "text": [
      " \t4\n",
      "i\t3\n",
      "s\t2\n",
      "T\t1\n",
      "h\t1\n",
      "a\t1\n",
      "n\t1\n",
      "e\t1\n",
      "m\t1\n",
      "o\t1\n",
      "j\t1\n",
      ":\t1\n",
      "👨‍👩‍👧‍👦\t1\n"
     ]
    }
   ],
   "source": [
    "for char in char_fql.most_common():\n",
    "    print(\"{}\\t{}\".format(char[0], char[1]))"
   ]
  },
  {
   "cell_type": "markdown",
   "metadata": {},
   "source": [
    "<a id=\"charn\"></a>\n",
    "### Character n-grams\n",
    "\n",
    "We can also look at sequences of characters, though be aware that these will overlap with words and other features (double counting).\n",
    "\n",
    "You have everything you need to do this (remember the n-grams function is generic).\n",
    "\n",
    "**Task:** Produce character trigrams for the tweet. You don't need a separator for chars, so the first trigram should be '^^T'"
   ]
  },
  {
   "cell_type": "code",
   "execution_count": null,
   "metadata": {},
   "outputs": [],
   "source": []
  },
  {
   "cell_type": "markdown",
   "metadata": {},
   "source": [
    "<a id=\"ann\"></a>\n",
    "## Annotation"
   ]
  },
  {
   "cell_type": "markdown",
   "metadata": {},
   "source": [
    "As discussed in the lecture, various levels of annotation are available to add on top of the tokens. These are extra levels of information that can be used as features for various NLP tasks. Lemmatisation is one option available and straightforward to [implement with nltk](http://www.nltk.org/book/ch03.html#lemmatization).\n",
    "\n",
    "Part-of-speech (POS) tags are probably the most used form of annotation, certainly for classification tasks. NLTK provides a POS tagger using the standard [Penn Treebank POS tagset](https://www.anc.org/penn.html). Tokenised text can be POS tagged easily:"
   ]
  },
  {
   "cell_type": "code",
   "execution_count": 80,
   "metadata": {},
   "outputs": [
    {
     "name": "stdout",
     "output_type": "stream",
     "text": [
      "[nltk_data] Downloading package punkt to /home/jay/nltk_data...\n",
      "[nltk_data]   Package punkt is already up-to-date!\n",
      "[nltk_data] Downloading package maxent_treebank_pos_tagger to\n",
      "[nltk_data]     /home/jay/nltk_data...\n",
      "[nltk_data]   Package maxent_treebank_pos_tagger is already up-to-\n",
      "[nltk_data]       date!\n"
     ]
    },
    {
     "data": {
      "text/plain": [
       "[('This', 'DT'),\n",
       " ('week', 'NN'),\n",
       " (\"we're\", 'NN'),\n",
       " ('at', 'IN'),\n",
       " ('a', 'DT'),\n",
       " ('[hashtag]', 'JJ'),\n",
       " ('event', 'NN'),\n",
       " ('in', 'IN'),\n",
       " ('[hashtag]', 'NNP'),\n",
       " ('[mention]', 'NNP'),\n",
       " (',', ','),\n",
       " ('talking', 'VBG'),\n",
       " ('to', 'TO'),\n",
       " ('students', 'NNS'),\n",
       " ('about', 'IN'),\n",
       " ('[hashtag]', 'NN'),\n",
       " ('and', 'CC'),\n",
       " ('language', 'NN'),\n",
       " ('careers', 'NNS'),\n",
       " ('!', '.'),\n",
       " ('Come', 'NNP'),\n",
       " ('have', 'VBP'),\n",
       " ('a', 'DT'),\n",
       " ('go', 'NN'),\n",
       " ('at', 'IN'),\n",
       " ('some', 'DT'),\n",
       " ('of', 'IN'),\n",
       " ('our', 'PRP$'),\n",
       " ('activities', 'NNS'),\n",
       " ('!', '.'),\n",
       " ('🌏', 'NN'),\n",
       " ('[hashtag]', 'NNP'),\n",
       " ('[hashtag]', 'NNP'),\n",
       " ('[mention]', 'NNP'),\n",
       " ('[url]', 'NN')]"
      ]
     },
     "execution_count": 80,
     "metadata": {},
     "output_type": "execute_result"
    }
   ],
   "source": [
    "nltk.download('punkt')\n",
    "nltk.download('maxent_treebank_pos_tagger')\n",
    "pos_tagged = nltk.pos_tag(tokens)\n",
    "pos_tagged"
   ]
  },
  {
   "cell_type": "markdown",
   "metadata": {},
   "source": [
    "What do you think of the accuracy of the POS tags on this small sample? You can see a description of each POS tag with the below."
   ]
  },
  {
   "cell_type": "markdown",
   "metadata": {},
   "source": [
    "Add notes here:"
   ]
  },
  {
   "cell_type": "code",
   "execution_count": 81,
   "metadata": {},
   "outputs": [
    {
     "name": "stdout",
     "output_type": "stream",
     "text": [
      "[nltk_data] Downloading package tagsets to /home/jay/nltk_data...\n",
      "[nltk_data]   Package tagsets is already up-to-date!\n",
      "$: dollar\n",
      "    $ -$ --$ A$ C$ HK$ M$ NZ$ S$ U.S.$ US$\n",
      "'': closing quotation mark\n",
      "    ' ''\n",
      "(: opening parenthesis\n",
      "    ( [ {\n",
      "): closing parenthesis\n",
      "    ) ] }\n",
      ",: comma\n",
      "    ,\n",
      "--: dash\n",
      "    --\n",
      ".: sentence terminator\n",
      "    . ! ?\n",
      ":: colon or ellipsis\n",
      "    : ; ...\n",
      "CC: conjunction, coordinating\n",
      "    & 'n and both but either et for less minus neither nor or plus so\n",
      "    therefore times v. versus vs. whether yet\n",
      "CD: numeral, cardinal\n",
      "    mid-1890 nine-thirty forty-two one-tenth ten million 0.5 one forty-\n",
      "    seven 1987 twenty '79 zero two 78-degrees eighty-four IX '60s .025\n",
      "    fifteen 271,124 dozen quintillion DM2,000 ...\n",
      "DT: determiner\n",
      "    all an another any both del each either every half la many much nary\n",
      "    neither no some such that the them these this those\n",
      "EX: existential there\n",
      "    there\n",
      "FW: foreign word\n",
      "    gemeinschaft hund ich jeux habeas Haementeria Herr K'ang-si vous\n",
      "    lutihaw alai je jour objets salutaris fille quibusdam pas trop Monte\n",
      "    terram fiche oui corporis ...\n",
      "IN: preposition or conjunction, subordinating\n",
      "    astride among uppon whether out inside pro despite on by throughout\n",
      "    below within for towards near behind atop around if like until below\n",
      "    next into if beside ...\n",
      "JJ: adjective or numeral, ordinal\n",
      "    third ill-mannered pre-war regrettable oiled calamitous first separable\n",
      "    ectoplasmic battery-powered participatory fourth still-to-be-named\n",
      "    multilingual multi-disciplinary ...\n",
      "JJR: adjective, comparative\n",
      "    bleaker braver breezier briefer brighter brisker broader bumper busier\n",
      "    calmer cheaper choosier cleaner clearer closer colder commoner costlier\n",
      "    cozier creamier crunchier cuter ...\n",
      "JJS: adjective, superlative\n",
      "    calmest cheapest choicest classiest cleanest clearest closest commonest\n",
      "    corniest costliest crassest creepiest crudest cutest darkest deadliest\n",
      "    dearest deepest densest dinkiest ...\n",
      "LS: list item marker\n",
      "    A A. B B. C C. D E F First G H I J K One SP-44001 SP-44002 SP-44005\n",
      "    SP-44007 Second Third Three Two * a b c d first five four one six three\n",
      "    two\n",
      "MD: modal auxiliary\n",
      "    can cannot could couldn't dare may might must need ought shall should\n",
      "    shouldn't will would\n",
      "NN: noun, common, singular or mass\n",
      "    common-carrier cabbage knuckle-duster Casino afghan shed thermostat\n",
      "    investment slide humour falloff slick wind hyena override subhumanity\n",
      "    machinist ...\n",
      "NNP: noun, proper, singular\n",
      "    Motown Venneboerger Czestochwa Ranzer Conchita Trumplane Christos\n",
      "    Oceanside Escobar Kreisler Sawyer Cougar Yvette Ervin ODI Darryl CTCA\n",
      "    Shannon A.K.C. Meltex Liverpool ...\n",
      "NNPS: noun, proper, plural\n",
      "    Americans Americas Amharas Amityvilles Amusements Anarcho-Syndicalists\n",
      "    Andalusians Andes Andruses Angels Animals Anthony Antilles Antiques\n",
      "    Apache Apaches Apocrypha ...\n",
      "NNS: noun, common, plural\n",
      "    undergraduates scotches bric-a-brac products bodyguards facets coasts\n",
      "    divestitures storehouses designs clubs fragrances averages\n",
      "    subjectivists apprehensions muses factory-jobs ...\n",
      "PDT: pre-determiner\n",
      "    all both half many quite such sure this\n",
      "POS: genitive marker\n",
      "    ' 's\n",
      "PRP: pronoun, personal\n",
      "    hers herself him himself hisself it itself me myself one oneself ours\n",
      "    ourselves ownself self she thee theirs them themselves they thou thy us\n",
      "PRP$: pronoun, possessive\n",
      "    her his mine my our ours their thy your\n",
      "RB: adverb\n",
      "    occasionally unabatingly maddeningly adventurously professedly\n",
      "    stirringly prominently technologically magisterially predominately\n",
      "    swiftly fiscally pitilessly ...\n",
      "RBR: adverb, comparative\n",
      "    further gloomier grander graver greater grimmer harder harsher\n",
      "    healthier heavier higher however larger later leaner lengthier less-\n",
      "    perfectly lesser lonelier longer louder lower more ...\n",
      "RBS: adverb, superlative\n",
      "    best biggest bluntest earliest farthest first furthest hardest\n",
      "    heartiest highest largest least less most nearest second tightest worst\n",
      "RP: particle\n",
      "    aboard about across along apart around aside at away back before behind\n",
      "    by crop down ever fast for forth from go high i.e. in into just later\n",
      "    low more off on open out over per pie raising start teeth that through\n",
      "    under unto up up-pp upon whole with you\n",
      "SYM: symbol\n",
      "    % & ' '' ''. ) ). * + ,. < = > @ A[fj] U.S U.S.S.R * ** ***\n",
      "TO: \"to\" as preposition or infinitive marker\n",
      "    to\n",
      "UH: interjection\n",
      "    Goodbye Goody Gosh Wow Jeepers Jee-sus Hubba Hey Kee-reist Oops amen\n",
      "    huh howdy uh dammit whammo shucks heck anyways whodunnit honey golly\n",
      "    man baby diddle hush sonuvabitch ...\n",
      "VB: verb, base form\n",
      "    ask assemble assess assign assume atone attention avoid bake balkanize\n",
      "    bank begin behold believe bend benefit bevel beware bless boil bomb\n",
      "    boost brace break bring broil brush build ...\n",
      "VBD: verb, past tense\n",
      "    dipped pleaded swiped regummed soaked tidied convened halted registered\n",
      "    cushioned exacted snubbed strode aimed adopted belied figgered\n",
      "    speculated wore appreciated contemplated ...\n",
      "VBG: verb, present participle or gerund\n",
      "    telegraphing stirring focusing angering judging stalling lactating\n",
      "    hankerin' alleging veering capping approaching traveling besieging\n",
      "    encrypting interrupting erasing wincing ...\n",
      "VBN: verb, past participle\n",
      "    multihulled dilapidated aerosolized chaired languished panelized used\n",
      "    experimented flourished imitated reunifed factored condensed sheared\n",
      "    unsettled primed dubbed desired ...\n",
      "VBP: verb, present tense, not 3rd person singular\n",
      "    predominate wrap resort sue twist spill cure lengthen brush terminate\n",
      "    appear tend stray glisten obtain comprise detest tease attract\n",
      "    emphasize mold postpone sever return wag ...\n",
      "VBZ: verb, present tense, 3rd person singular\n",
      "    bases reconstructs marks mixes displeases seals carps weaves snatches\n",
      "    slumps stretches authorizes smolders pictures emerges stockpiles\n",
      "    seduces fizzes uses bolsters slaps speaks pleads ...\n",
      "WDT: WH-determiner\n",
      "    that what whatever which whichever\n",
      "WP: WH-pronoun\n",
      "    that what whatever whatsoever which who whom whosoever\n",
      "WP$: WH-pronoun, possessive\n",
      "    whose\n",
      "WRB: Wh-adverb\n",
      "    how however whence whenever where whereby whereever wherein whereof why\n",
      "``: opening quotation mark\n",
      "    ` ``\n"
     ]
    }
   ],
   "source": [
    "nltk.download(\"tagsets\")\n",
    "nltk.help.upenn_tagset()"
   ]
  },
  {
   "cell_type": "markdown",
   "metadata": {},
   "source": [
    "To create a POS frequency list is straightforward:"
   ]
  },
  {
   "cell_type": "code",
   "execution_count": 82,
   "metadata": {},
   "outputs": [
    {
     "data": {
      "text/plain": [
       "[('NN', 8),\n",
       " ('NNP', 6),\n",
       " ('IN', 5),\n",
       " ('DT', 4),\n",
       " ('NNS', 3),\n",
       " ('.', 2),\n",
       " ('JJ', 1),\n",
       " (',', 1),\n",
       " ('VBG', 1),\n",
       " ('TO', 1),\n",
       " ('CC', 1),\n",
       " ('VBP', 1),\n",
       " ('PRP$', 1)]"
      ]
     },
     "execution_count": 82,
     "metadata": {},
     "output_type": "execute_result"
    }
   ],
   "source": [
    "pos = [tag[1] for tag in pos_tagged]\n",
    "pos_fql = Counter(pos)\n",
    "pos_fql.most_common()"
   ]
  },
  {
   "cell_type": "markdown",
   "metadata": {},
   "source": [
    "**Task:** Try to make improvements to the POS tagging by changing the preprocessing and tokenisation. As a minimum, try using NLTK's default tokeniser."
   ]
  },
  {
   "cell_type": "code",
   "execution_count": null,
   "metadata": {},
   "outputs": [],
   "source": []
  },
  {
   "cell_type": "markdown",
   "metadata": {},
   "source": [
    "**Advanced task:** \n",
    "\n",
    "Developing a POS tagger that is capable of dealing well with the intricacies of user generated content (e.g. Twitter) text is difficult, although there have been attempts, e.g. http://www.cs.cmu.edu/~ark/TweetNLP/. One option is to post-process the POS tagged text to fix the main issues.\n",
    "\n",
    "Define a function that takes the POS tagged text and post-processes the output to add new tags for mentions, hashtags, urls, emojis, and anything else you can see to fix with simple rules."
   ]
  },
  {
   "cell_type": "markdown",
   "metadata": {},
   "source": [
    "<a id=\"other\"></a>\n",
    "## Other features"
   ]
  },
  {
   "cell_type": "markdown",
   "metadata": {},
   "source": [
    "Many other features can be calculated over the text, token stream, or other feature frequency lists. Some examples:"
   ]
  },
  {
   "cell_type": "code",
   "execution_count": 48,
   "metadata": {},
   "outputs": [
    {
     "name": "stdout",
     "output_type": "stream",
     "text": [
      "236\n",
      "35\n"
     ]
    }
   ],
   "source": [
    "length_chars = len(tweet) #length of text in chars\n",
    "length_tokens = len(tokens) #length of text in tokens\n",
    "print(length_chars)\n",
    "print(length_tokens)"
   ]
  },
  {
   "cell_type": "markdown",
   "metadata": {},
   "source": [
    "Average word length:"
   ]
  },
  {
   "cell_type": "code",
   "execution_count": 49,
   "metadata": {
    "scrolled": true
   },
   "outputs": [
    {
     "name": "stdout",
     "output_type": "stream",
     "text": [
      "4.771428571428571\n"
     ]
    }
   ],
   "source": [
    "avg_word_length = sum([len(tok) for tok in tokens])/length_tokens #make a list of lengths per token, sum and divide by number of tokens\n",
    "print(avg_word_length)"
   ]
  },
  {
   "cell_type": "markdown",
   "metadata": {},
   "source": [
    "Various vocabulary measures are available that represent how varied and large the vocabulary is of the text.\n",
    "\n",
    "We need to know the number of **word types** are present, this is the number of words, counting multiple instances (tokens) of the same word once. This is simply the size of the frequency list:"
   ]
  },
  {
   "cell_type": "code",
   "execution_count": 50,
   "metadata": {},
   "outputs": [],
   "source": [
    "length_types = len(tokens_fql)"
   ]
  },
  {
   "cell_type": "markdown",
   "metadata": {},
   "source": [
    "Type Token Ratio (TTR) is a popular vocabulary measure, simply dividing the number of types by the number of tokens."
   ]
  },
  {
   "cell_type": "code",
   "execution_count": 51,
   "metadata": {},
   "outputs": [
    {
     "name": "stdout",
     "output_type": "stream",
     "text": [
      "0.7714285714285715\n"
     ]
    }
   ],
   "source": [
    "ttr = length_types / length_tokens #type token ratio (ttr)\n",
    "print(ttr)"
   ]
  },
  {
   "cell_type": "markdown",
   "metadata": {},
   "source": [
    "TTR is not comparable over texts of very different lengths, instead use something like Moving-Average Type-Token Ratio (MATTR): https://doi.org/10.1080/09296171003643098\n",
    "\n",
    "**Advanced task**: Reading the above linked paper, implement MATTR."
   ]
  },
  {
   "cell_type": "markdown",
   "metadata": {},
   "source": [
    "Other vocabulary measures look at the number of hapaxes (words types which only appear once), below a simple hapax ratio is calculated."
   ]
  },
  {
   "cell_type": "code",
   "execution_count": 52,
   "metadata": {},
   "outputs": [
    {
     "name": "stdout",
     "output_type": "stream",
     "text": [
      "0.8148148148148148\n"
     ]
    }
   ],
   "source": [
    "hapaxes = list(tokens_fql.values()).count(1) #convert frequencies to list and count 1s.\n",
    "hapax_ratio = hapaxes / length_types\n",
    "print(hapax_ratio)"
   ]
  },
  {
   "cell_type": "markdown",
   "metadata": {},
   "source": [
    "There are many other features that could be implemented. Readability metrics could be calculated, most of which require a count of syllables. Counting syllables is actually [quite an involved task](https://stackoverflow.com/questions/405161/detecting-syllables-in-a-word/4103234), especially for user generated content, and multi-lingual data. [Big Phoney](https://github.com/repp/big-phoney) is one option that seems promising (based on some limited testing). An **Advanced Task** would be to implement one or more the readability measures (e.g. [*Flesch reading ease*](https://en.wikipedia.org/wiki/Flesch–Kincaid_readability_tests))."
   ]
  },
  {
   "cell_type": "markdown",
   "metadata": {},
   "source": [
    "Counting and splitting text into sentences is also needed for some features. This is quite simple to do with NLTK, as below. Though be aware, like other segmentation tasks, doing this accurately with user generated content is not straight-forward."
   ]
  },
  {
   "cell_type": "code",
   "execution_count": 53,
   "metadata": {},
   "outputs": [
    {
     "data": {
      "text/plain": [
       "[\"This week we're at a [hashtag] event in [hashtag] [mention], talking to students about [hashtag] and language careers!\",\n",
       " 'Come have a go at some of our activities!',\n",
       " '🌏[hashtag] [hashtag] [mention] [url]']"
      ]
     },
     "execution_count": 53,
     "metadata": {},
     "output_type": "execute_result"
    }
   ],
   "source": [
    "from nltk.tokenize import sent_tokenize\n",
    "sent_tokenize(p_tweet)"
   ]
  },
  {
   "cell_type": "code",
   "execution_count": null,
   "metadata": {},
   "outputs": [],
   "source": []
  },
  {
   "cell_type": "markdown",
   "metadata": {},
   "source": [
    "<a id=\"docs\"></a>\n",
    "## Documents"
   ]
  },
  {
   "cell_type": "markdown",
   "metadata": {},
   "source": [
    "So far we have been utilising a single line of text (Tweet) to demonstrate feature extraction. However, we will normally be dealing with larger texts consisting of lines of texts (e.g. paragraphs or Tweets), we can call these documents. We normally do not want sequence features (e.g. n-grams) to go across line boundaries within a document. Hence we process and extract features per line of text."
   ]
  },
  {
   "cell_type": "markdown",
   "metadata": {},
   "source": [
    "To make things a little easier, we create a `Document` class which holds the features of a document (and any metadata provided). Features are calculated with the `extract_featues` function, which takes in a list (iterable) of texts (which could be lines in a text, or individual tweets from a user). Currently, just tokens are counted (i.e. bow)."
   ]
  },
  {
   "cell_type": "code",
   "execution_count": 54,
   "metadata": {},
   "outputs": [],
   "source": [
    "class Document:\n",
    "    def __init__(self, meta={}):\n",
    "        self.meta = meta\n",
    "        self.tokens_fql = Counter() #empty counter, ready to be added to with Counter.update.\n",
    "        \n",
    "    def extract_features(self, texts): #document should be iterable text lines, e.g. read in from file.\n",
    "        for text in texts:\n",
    "            p_text = preprocess(text)\n",
    "            tokens = custom_tokenise(p_text.lower())\n",
    "            self.tokens_fql.update(tokens) #updating Counter counts items in list, adding to existing Counter items.        "
   ]
  },
  {
   "cell_type": "markdown",
   "metadata": {},
   "source": [
    "To utilise this, we simply create a Document, and add text to it. An example using the existing tweet we've been using is given below."
   ]
  },
  {
   "cell_type": "code",
   "execution_count": 55,
   "metadata": {},
   "outputs": [
    {
     "name": "stdout",
     "output_type": "stream",
     "text": [
      "Counter({'[hashtag]': 5, 'at': 2, 'a': 2, '[mention]': 2, '!': 2, 'this': 1, 'week': 1, \"we're\": 1, 'event': 1, 'in': 1, ',': 1, 'talking': 1, 'to': 1, 'students': 1, 'about': 1, 'and': 1, 'language': 1, 'careers': 1, 'come': 1, 'have': 1, 'go': 1, 'some': 1, 'of': 1, 'our': 1, 'activities': 1, '🌏': 1, '[url]': 1})\n"
     ]
    }
   ],
   "source": [
    "tweet_doc = Document()\n",
    "tweet_doc.extract_features([tweet])\n",
    "print(tweet_doc.tokens_fql)"
   ]
  },
  {
   "cell_type": "markdown",
   "metadata": {},
   "source": [
    "<a id=\"mps\"></a>\n",
    "## MPs Dataset\n",
    "In order to play with features a collection of Tweets from MP accounts is provided in the [mps folder](mps). These are plain text files for each user, split into Labour and Conservative. (Some MPs have [actually left the Labour party](https://www.bbc.co.uk/news/topics/ckdkngd45nlt/labour-party-resignations), could be interesting cases for study).\n",
    "\n",
    "The corpus can be read into Documents as follows."
   ]
  },
  {
   "cell_type": "code",
   "execution_count": 56,
   "metadata": {},
   "outputs": [],
   "source": [
    "from os import listdir\n",
    "from os.path import isfile, join, splitext, split\n",
    "\n",
    "\n",
    "def import_party_folder(party):\n",
    "    folder = \"mps/\" + party\n",
    "    textfiles = [join(folder, f) for f in listdir(folder) if isfile(join(folder, f)) and f.endswith(\".txt\")]\n",
    "    for tf in textfiles:\n",
    "        username = splitext(split(tf)[1])[0] #extract just username from filename.\n",
    "        print(\"Processing \" + username)\n",
    "        doc = Document({'username': username, 'party': party}) #include metadata\n",
    "        with open(tf) as f:\n",
    "            tweets = f.readlines()\n",
    "        doc.extract_features(tweets)\n",
    "        yield doc"
   ]
  },
  {
   "cell_type": "code",
   "execution_count": 57,
   "metadata": {},
   "outputs": [
    {
     "name": "stdout",
     "output_type": "stream",
     "text": [
      "Processing OwenSmith_MP\n",
      "Processing stellacreasy\n",
      "Processing YvetteCooperMP\n",
      "Processing CatSmithMP\n",
      "Processing Ed_Miliband\n",
      "Processing tom_watson\n",
      "Processing jeremycorbyn\n",
      "Processing Keir_Starmer\n",
      "Processing EmilyThornberry\n",
      "Processing DavidLammy\n",
      "Processing angelaeagle\n",
      "Processing RupaHuq\n",
      "Processing HackneyAbbott\n",
      "Processing ChukaUmunna\n",
      "Processing LindsayHoyle_MP\n",
      "Processing hilarybennmp\n",
      "Processing PhilipHammondUK\n",
      "Processing michaelgove\n",
      "Processing SamGyimah\n",
      "Processing theresa_may\n",
      "Processing andrealeadsom\n",
      "Processing BWallaceMP\n",
      "Processing DamianGreen\n",
      "Processing JustineGreening\n",
      "Processing JoJohnsonUK\n",
      "Processing AmberRuddHR\n",
      "Processing BorisJohnson\n",
      "Processing grantshapps\n",
      "Processing sajidjavid\n",
      "Processing NadineDorries\n",
      "Processing LiamFox\n",
      "Processing ZacGoldsmith\n",
      "Processing Jeremy_Hunt\n"
     ]
    }
   ],
   "source": [
    "corpus = []\n",
    "corpus.extend(import_party_folder(\"labour\"))\n",
    "corpus.extend(import_party_folder(\"conservative\"))"
   ]
  },
  {
   "cell_type": "markdown",
   "metadata": {},
   "source": [
    "We now have a **corpus** of MPs on Twitter we can use for further analysis."
   ]
  },
  {
   "cell_type": "code",
   "execution_count": 58,
   "metadata": {},
   "outputs": [
    {
     "name": "stdout",
     "output_type": "stream",
     "text": [
      "OwenSmith_MP, labour, 41747\n",
      "stellacreasy, labour, 75873\n",
      "YvetteCooperMP, labour, 42760\n",
      "CatSmithMP, labour, 45518\n",
      "Ed_Miliband, labour, 53573\n",
      "tom_watson, labour, 52955\n",
      "jeremycorbyn, labour, 68650\n",
      "Keir_Starmer, labour, 36814\n",
      "EmilyThornberry, labour, 24969\n",
      "DavidLammy, labour, 108554\n",
      "angelaeagle, labour, 18777\n",
      "RupaHuq, labour, 46770\n",
      "HackneyAbbott, labour, 24253\n",
      "ChukaUmunna, labour, 51660\n",
      "LindsayHoyle_MP, labour, 46322\n",
      "hilarybennmp, labour, 34759\n",
      "PhilipHammondUK, conservative, 38985\n",
      "michaelgove, conservative, 10403\n",
      "SamGyimah, conservative, 34720\n",
      "theresa_may, conservative, 25325\n",
      "andrealeadsom, conservative, 22230\n",
      "BWallaceMP, conservative, 36876\n",
      "DamianGreen, conservative, 18858\n",
      "JustineGreening, conservative, 28113\n",
      "JoJohnsonUK, conservative, 15362\n",
      "AmberRuddHR, conservative, 44575\n",
      "BorisJohnson, conservative, 36451\n",
      "grantshapps, conservative, 59734\n",
      "sajidjavid, conservative, 31125\n",
      "NadineDorries, conservative, 49651\n",
      "LiamFox, conservative, 25977\n",
      "ZacGoldsmith, conservative, 21340\n",
      "Jeremy_Hunt, conservative, 65074\n"
     ]
    }
   ],
   "source": [
    "for doc in corpus:\n",
    "    print(doc.meta['username'], doc.meta['party'], sum(doc.tokens_fql.values()),sep=\", \")"
   ]
  },
  {
   "cell_type": "markdown",
   "metadata": {},
   "source": [
    "<a id=\"corpus\"></a>\n",
    "## Corpus analysis\n",
    "We can compare corpora or sub-corpora to start to gain insights into language differences."
   ]
  },
  {
   "cell_type": "markdown",
   "metadata": {},
   "source": [
    "Our frequency lists (FQLs) are stored as [`Counters`](https://docs.python.org/3.7/library/collections.html#counter-objects), which can be merged easily by just adding them together."
   ]
  },
  {
   "cell_type": "code",
   "execution_count": 59,
   "metadata": {},
   "outputs": [],
   "source": [
    "def merge_fqls(docs):\n",
    "    merged = Counter()\n",
    "    for doc in docs:\n",
    "        merged += doc.tokens_fql\n",
    "    return merged"
   ]
  },
  {
   "cell_type": "markdown",
   "metadata": {},
   "source": [
    "Create a sub-corpus, one for Conservative MPs, another for Labour MPs."
   ]
  },
  {
   "cell_type": "code",
   "execution_count": 60,
   "metadata": {},
   "outputs": [],
   "source": [
    "con_fql = merge_fqls([doc for doc in corpus if doc.meta['party']==\"conservative\"])\n",
    "lab_fql = merge_fqls([doc for doc in corpus if doc.meta['party']==\"labour\"])"
   ]
  },
  {
   "cell_type": "code",
   "execution_count": 61,
   "metadata": {},
   "outputs": [
    {
     "name": "stdout",
     "output_type": "stream",
     "text": [
      "564799 773954\n"
     ]
    }
   ],
   "source": [
    "con_size = sum(con_fql.values())\n",
    "lab_size = sum(lab_fql.values())\n",
    "print(con_size,lab_size)"
   ]
  },
  {
   "cell_type": "markdown",
   "metadata": {},
   "source": [
    "We can start analysing the most frequent words:"
   ]
  },
  {
   "cell_type": "code",
   "execution_count": 62,
   "metadata": {},
   "outputs": [
    {
     "name": "stdout",
     "output_type": "stream",
     "text": [
      "[('.', 32458), ('the', 28533), ('to', 23242), ('[mention]', 22552), ('[url]', 20988), ('and', 14235), (',', 14119), ('of', 13398), ('a', 12772), ('in', 11557), ('for', 9672), ('[hashtag]', 8237), ('is', 7794), ('on', 7471), ('this', 6668), ('with', 5207), ('i', 5140), ('you', 5075), ('it', 4733), ('that', 4679)]\n",
      "[('.', 21732), ('to', 19220), ('the', 18184), ('[mention]', 18182), ('[url]', 15350), ('[hashtag]', 11167), (',', 10474), ('and', 9560), ('in', 9532), ('of', 9129), ('a', 8107), ('for', 7928), ('on', 5589), ('is', 4589), ('with', 4525), ('&', 4146), ('!', 3520), ('-', 3490), ('this', 3426), ('i', 3422)]\n"
     ]
    }
   ],
   "source": [
    "print(lab_fql.most_common(20))\n",
    "print(con_fql.most_common(20))"
   ]
  },
  {
   "cell_type": "markdown",
   "metadata": {},
   "source": [
    "And even create a basic [word cloud](https://github.com/amueller/word_cloud)."
   ]
  },
  {
   "cell_type": "code",
   "execution_count": 93,
   "metadata": {},
   "outputs": [],
   "source": [
    "from wordcloud import WordCloud\n",
    "import matplotlib.pyplot as plt\n",
    "\n",
    "def create_wordcloud(words):\n",
    "    wordcloud = WordCloud().generate_from_frequencies(words)\n",
    "    plt.imshow(wordcloud, interpolation='bilinear')\n",
    "    plt.axis(\"off\")\n",
    "    plt.show()"
   ]
  },
  {
   "cell_type": "code",
   "execution_count": 94,
   "metadata": {},
   "outputs": [
    {
     "data": {
      "image/png": "[encoded data removed]",
      "text/plain": [
       "<Figure size 432x288 with 1 Axes>"
      ]
     },
     "metadata": {
      "needs_background": "light"
     },
     "output_type": "display_data"
    }
   ],
   "source": [
    "create_wordcloud(con_fql)"
   ]
  },
  {
   "cell_type": "code",
   "execution_count": 95,
   "metadata": {},
   "outputs": [
    {
     "data": {
      "image/png": "[encoded data removed]",
      "text/plain": [
       "<Figure size 432x288 with 1 Axes>"
      ]
     },
     "metadata": {
      "needs_background": "light"
     },
     "output_type": "display_data"
    }
   ],
   "source": [
    "create_wordcloud(lab_fql)"
   ]
  },
  {
   "cell_type": "markdown",
   "metadata": {},
   "source": [
    "Not that interesting as common words dominate. How could we remove these?"
   ]
  },
  {
   "cell_type": "markdown",
   "metadata": {},
   "source": []
  },
  {
   "cell_type": "markdown",
   "metadata": {},
   "source": [
    "To normalise the frequencies, we can simply divide by the number of tokens, to gain relative frequencies."
   ]
  },
  {
   "cell_type": "code",
   "execution_count": 96,
   "metadata": {},
   "outputs": [],
   "source": [
    "def relative_freqs(fql):\n",
    "    size = sum(fql.values())\n",
    "    return {term: fql[term]/size for term in fql}"
   ]
  },
  {
   "cell_type": "code",
   "execution_count": 97,
   "metadata": {},
   "outputs": [],
   "source": [
    "con_rel = relative_freqs(con_fql)\n",
    "lab_rel = relative_freqs(lab_fql)"
   ]
  },
  {
   "cell_type": "markdown",
   "metadata": {},
   "source": [
    "To do a \"Key words\" comparison between the sub-corpora, we can utilise [*Log Ratio*](http://cass.lancs.ac.uk/log-ratio-an-informal-introduction/), which is the binary log of the relative risk (ratio between relative frequencies). Other significance tests and effect size measures can be used: http://ucrel.lancs.ac.uk/llwizard.html"
   ]
  },
  {
   "cell_type": "code",
   "execution_count": 98,
   "metadata": {},
   "outputs": [],
   "source": [
    "from math import log\n",
    "\n",
    "#Calculates log ratio for terms in corpus1, compared to corpus2.\n",
    "#we pass the corpus sizes for ease.\n",
    "#If the term is not present in corpus2, we make the frequency 0.5.\n",
    "def log_ratio(corpus1, corpus1_size, corpus2, corpus2_size):\n",
    "    return {term: log((corpus1[term]/corpus1_size)/((corpus2[term] if corpus2[term] else 0.5)/corpus2_size),2) for term in corpus1}"
   ]
  },
  {
   "cell_type": "markdown",
   "metadata": {},
   "source": [
    "Calculate the terms from Conservative MPs with the biggest log ratio compared to terms from Labour MPs:"
   ]
  },
  {
   "cell_type": "code",
   "execution_count": 99,
   "metadata": {},
   "outputs": [
    {
     "name": "stdout",
     "output_type": "stream",
     "text": [
      "[('welwyn', 9.054423130183011), ('ashford', 8.938326065260139), ('fm', 8.498904407354336), ('wgc', 8.1410108151791), ('bromsgrove', 7.604257407500565), ('counterpart', 6.978072244052896), ('orpington', 6.776438382883246), ('dit', 6.663963653624833), ('staffs', 6.663963653624833), ('farnham', 6.624435289438195), ('leonards', 6.541973129246222), ('mili', 6.498904407354337), ('exhibitors', 6.454510287995883), ('grt', 6.454510287995883), (\"miliband's\", 6.361400883604402), (\"w'\", 6.261865210053488), ('ebola', 6.209397790159351), ('putney', 6.182430742559083), ('ira', 6.154950006136976), ('southfields', 6.154950006136976)]\n"
     ]
    },
    {
     "data": {
      "image/png": "[encoded data removed]",
      "text/plain": [
       "<Figure size 432x288 with 1 Axes>"
      ]
     },
     "metadata": {
      "needs_background": "light"
     },
     "output_type": "display_data"
    }
   ],
   "source": [
    "con_lr = log_ratio(con_fql, con_size, lab_fql, lab_size)\n",
    "sorted_terms = sorted(con_lr.items(), key=lambda x: x[1], reverse=True)\n",
    "print(sorted_terms[:20])\n",
    "create_wordcloud(con_lr)"
   ]
  },
  {
   "cell_type": "markdown",
   "metadata": {},
   "source": [
    "and the other way round:"
   ]
  },
  {
   "cell_type": "code",
   "execution_count": 100,
   "metadata": {},
   "outputs": [
    {
     "name": "stdout",
     "output_type": "stream",
     "text": [
      "[('chorley', 9.627638753357989), ('walthamstow', 9.25629614570347), ('thankyou', 8.061189550288159), ('….', 7.988433207852845), ('camden', 7.3528446340617215), ('↓', 6.920529143351041), ('→', 6.849270460181221), ('deportation', 6.7353142708841345), ('tottenham', 6.4762270495670045), ('hoylel', 6.3528446340617215), (\"tories'\", 6.300377214167585), ('tbh', 6.160199556119325), ('botched', 6.100078563681755), ('deported', 6.100078563681755), ('clp', 6.004921330641414), ('islamophobia', 6.004921330641414), ('holborn', 5.903041716622202), ('murdoch', 5.8674178068914795), ('ponty', 5.793417225447703), ('pancras', 5.754943077633067)]\n"
     ]
    },
    {
     "data": {
      "image/png": "[encoded data removed]",
      "text/plain": [
       "<Figure size 432x288 with 1 Axes>"
      ]
     },
     "metadata": {
      "needs_background": "light"
     },
     "output_type": "display_data"
    }
   ],
   "source": [
    "lab_lr = log_ratio(lab_fql, lab_size, con_fql, con_size)\n",
    "sorted_terms = sorted(lab_lr.items(), key=lambda x: x[1], reverse=True)\n",
    "print(sorted_terms[:20])\n",
    "create_wordcloud(lab_lr)"
   ]
  },
  {
   "cell_type": "markdown",
   "metadata": {},
   "source": [
    "Some interesting terms appear, but with a small number of authors, some terms will be prominent from one MP, boosting the frequency in the sub-corpus."
   ]
  },
  {
   "cell_type": "markdown",
   "metadata": {},
   "source": [
    "<a id=\"tfidf\"></a>\n",
    "## TF-IDF"
   ]
  },
  {
   "cell_type": "markdown",
   "metadata": {},
   "source": [
    "As discussed in the lecture, TF-IDF is a commonly used normalisation method which considers the term frequency along with how many documents in the corpus the term appears in."
   ]
  },
  {
   "cell_type": "code",
   "execution_count": 101,
   "metadata": {},
   "outputs": [],
   "source": [
    "#doc is a Counter representing an fql from a document.\n",
    "def tf(term, doc):\n",
    "    return doc[term] / sum(doc.values()) #term freq / total terms (relative term freq)\n",
    "\n",
    "def num_containing(term, corpus):\n",
    "    return sum(1 for doc in corpus if term in doc) #counts docs in corpus containing term.\n",
    "\n",
    "#1 added to numerator and denominator is for preventing division by zero. Equivalent of an extra document containing all terms once.\n",
    "def idf(term, corpus):\n",
    "    n_t = num_containing(term,corpus)\n",
    "    return log((len(corpus)+1) / ((n_t) + 1))\n",
    "    \n",
    "def tfidf(term, doc, corpus):\n",
    "    return tf(term, doc) * idf(term, corpus)"
   ]
  },
  {
   "cell_type": "markdown",
   "metadata": {},
   "source": [
    "We can calculate the TF-IDF for every term for every MP in the corpus. By listing the terms with the highest TF-IDF, we can look at terms that are used by that MP frequently, but only used by that MP alone, or a small number of MPs."
   ]
  },
  {
   "cell_type": "code",
   "execution_count": 102,
   "metadata": {},
   "outputs": [
    {
     "name": "stdout",
     "output_type": "stream",
     "text": [
      "OwenSmith_MP labour\n",
      "\tToken: mesh, TF-IDF: 0.00268\n",
      "\tToken: ponty, TF-IDF: 0.00258\n",
      "\tToken: pontypridd, TF-IDF: 0.0019\n",
      "\tToken: folic, TF-IDF: 0.00115\n",
      "\tToken: flour, TF-IDF: 0.00109\n",
      "stellacreasy labour\n",
      "\tToken: walthamstow, TF-IDF: 0.01337\n",
      "\tToken: …., TF-IDF: 0.00554\n",
      "\tToken: …, TF-IDF: 0.00201\n",
      "\tToken: fwiw, TF-IDF: 0.00164\n",
      "\tToken: @, TF-IDF: 0.00126\n",
      "YvetteCooperMP labour\n",
      "\tToken: shd, TF-IDF: 0.00222\n",
      "\tToken: tmay, TF-IDF: 0.00186\n",
      "\tToken: wd, TF-IDF: 0.00135\n",
      "\tToken: castleford, TF-IDF: 0.00119\n",
      "\tToken: pontefract, TF-IDF: 0.00085\n",
      "CatSmithMP labour\n",
      "\tToken: fleetwood, TF-IDF: 0.00511\n",
      "\tToken: lancaster, TF-IDF: 0.00396\n",
      "\tToken: lancashire, TF-IDF: 0.00244\n",
      "\tToken: fracking, TF-IDF: 0.00124\n",
      "\tToken: ;-), TF-IDF: 0.00109\n",
      "Ed_Miliband labour\n",
      "\tToken: →, TF-IDF: 0.00194\n",
      "\tToken: download, TF-IDF: 0.00165\n",
      "\tToken: ep, TF-IDF: 0.0014\n",
      "\tToken: podcast, TF-IDF: 0.00132\n",
      "\tToken: episode, TF-IDF: 0.00119\n",
      "tom_watson labour\n",
      "\tToken: gambling, TF-IDF: 0.00138\n",
      "\tToken: sugar, TF-IDF: 0.00128\n",
      "\tToken: newsletter, TF-IDF: 0.00085\n",
      "\tToken: diabetes, TF-IDF: 0.00082\n",
      "\tToken: obesity, TF-IDF: 0.00077\n",
      "jeremycorbyn labour\n",
      "\tToken: unmistakable, TF-IDF: 0.00091\n",
      "\tToken: rigged, TF-IDF: 0.00061\n",
      "\tToken: austerity, TF-IDF: 0.00057\n",
      "\tToken: speculators, TF-IDF: 0.00054\n",
      "\tToken: tories', TF-IDF: 0.00052\n",
      "Keir_Starmer labour\n",
      "\tToken: camden, TF-IDF: 0.00639\n",
      "\tToken: pancras, TF-IDF: 0.00285\n",
      "\tToken: holborn, TF-IDF: 0.00264\n",
      "\tToken: kentish, TF-IDF: 0.00224\n",
      "\tToken: sp, TF-IDF: 0.00165\n",
      "EmilyThornberry labour\n",
      "\tToken: thankyou, TF-IDF: 0.01448\n",
      "\tToken: >>, TF-IDF: 0.00898\n",
      "\tToken: thank-you, TF-IDF: 0.00321\n",
      "\tToken: 😉, TF-IDF: 0.00123\n",
      "\tToken: yemen, TF-IDF: 0.00121\n",
      "DavidLammy labour\n",
      "\tToken: windrush, TF-IDF: 0.00183\n",
      "\tToken: deported, TF-IDF: 0.00117\n",
      "\tToken: tottenham, TF-IDF: 0.00102\n",
      "\tToken: govnt, TF-IDF: 0.00094\n",
      "\tToken: hostile, TF-IDF: 0.00093\n",
      "angelaeagle labour\n",
      "\tToken: yep, TF-IDF: 0.00293\n",
      "\tToken: wallasey, TF-IDF: 0.00211\n",
      "\tToken: 😱, TF-IDF: 0.00163\n",
      "\tToken: serfdom, TF-IDF: 0.0016\n",
      "\tToken: hmmmn, TF-IDF: 0.00151\n",
      "RupaHuq labour\n",
      "\tToken: acton, TF-IDF: 0.00664\n",
      "\tToken: ealing, TF-IDF: 0.00458\n",
      "\tToken: ⁩, TF-IDF: 0.00229\n",
      "\tToken: ⁦, TF-IDF: 0.00216\n",
      "\tToken: chiswick, TF-IDF: 0.00105\n",
      "HackneyAbbott labour\n",
      "\tToken: ↓, TF-IDF: 0.00415\n",
      "\tToken: detention, TF-IDF: 0.00186\n",
      "\tToken: hostile, TF-IDF: 0.00174\n",
      "\tToken: 'hostile, TF-IDF: 0.00168\n",
      "\tToken: environment', TF-IDF: 0.00159\n",
      "ChukaUmunna labour\n",
      "\tToken: ⁦, TF-IDF: 0.00065\n",
      "\tToken: ⁩, TF-IDF: 0.00062\n",
      "\tToken: erg, TF-IDF: 0.00061\n",
      "\tToken: column, TF-IDF: 0.00056\n",
      "\tToken: streatham, TF-IDF: 0.00054\n",
      "LindsayHoyle_MP labour\n",
      "\tToken: chorley, TF-IDF: 0.02472\n",
      "\tToken: hoylel, TF-IDF: 0.00343\n",
      "\tToken: chorley's, TF-IDF: 0.00215\n",
      "\tToken: lancashire, TF-IDF: 0.00213\n",
      "\tToken: buckshaw, TF-IDF: 0.00202\n",
      "hilarybennmp labour\n",
      "\tToken: leeds, TF-IDF: 0.00273\n",
      "\tToken: holbeck, TF-IDF: 0.00236\n",
      "\tToken: hunslet, TF-IDF: 0.00163\n",
      "\tToken: beeston, TF-IDF: 0.00126\n",
      "\tToken: doorknocking, TF-IDF: 0.00086\n",
      "PhilipHammondUK conservative\n",
      "\tToken: fm, TF-IDF: 0.00325\n",
      "\tToken: w, TF-IDF: 0.00117\n",
      "\tToken: fintech, TF-IDF: 0.00112\n",
      "\tToken: strengthening, TF-IDF: 0.00067\n",
      "\tToken: cessation, TF-IDF: 0.00065\n",
      "michaelgove conservative\n",
      "\tToken: chobham, TF-IDF: 0.00163\n",
      "\tToken: scotland's, TF-IDF: 0.00097\n",
      "\tToken: camberley, TF-IDF: 0.00082\n",
      "\tToken: totes, TF-IDF: 0.00082\n",
      "\tToken: superb, TF-IDF: 0.00075\n",
      "SamGyimah conservative\n",
      "\tToken: ✅, TF-IDF: 0.00135\n",
      "\tToken: innovation, TF-IDF: 0.00117\n",
      "\tToken: science, TF-IDF: 0.00094\n",
      "\tToken: surrey, TF-IDF: 0.00078\n",
      "\tToken: researchers, TF-IDF: 0.00071\n",
      "theresa_may conservative\n",
      "\tToken: theresa's, TF-IDF: 0.00077\n",
      "\tToken: -tm, TF-IDF: 0.00067\n",
      "\tToken: tm, TF-IDF: 0.00057\n",
      "\tToken: maidenhead, TF-IDF: 0.00051\n",
      "\tToken: 🇬🇧🇨🇳, TF-IDF: 0.00048\n",
      "andrealeadsom conservative\n",
      "\tToken: northants, TF-IDF: 0.00393\n",
      "\tToken: towcester, TF-IDF: 0.0028\n",
      "\tToken: 😊, TF-IDF: 0.0025\n",
      "\tToken: 🇬🇧, TF-IDF: 0.00176\n",
      "\tToken: ❤️, TF-IDF: 0.00142\n",
      "BWallaceMP conservative\n",
      "\tToken: lancashire, TF-IDF: 0.00207\n",
      "\tToken: wyre, TF-IDF: 0.00151\n",
      "\tToken: fracking, TF-IDF: 0.00129\n",
      "\tToken: iran, TF-IDF: 0.00109\n",
      "\tToken: lancs, TF-IDF: 0.00104\n",
      "DamianGreen conservative\n",
      "\tToken: ashford, TF-IDF: 0.02253\n",
      "\tToken: kent, TF-IDF: 0.00331\n",
      "\tToken: tenterden, TF-IDF: 0.0024\n",
      "\tToken: ashford's, TF-IDF: 0.00195\n",
      "\tToken: wye, TF-IDF: 0.0015\n",
      "JustineGreening conservative\n",
      "\tToken: putney, TF-IDF: 0.00458\n",
      "\tToken: southfields, TF-IDF: 0.00262\n",
      "\tToken: leone, TF-IDF: 0.00129\n",
      "\tToken: sierra, TF-IDF: 0.00124\n",
      "\tToken: roehampton, TF-IDF: 0.00121\n",
      "JoJohnsonUK conservative\n",
      "\tToken: orpington, TF-IDF: 0.00738\n",
      "\tToken: unis, TF-IDF: 0.00329\n",
      "\tToken: tef, TF-IDF: 0.00221\n",
      "\tToken: universities, TF-IDF: 0.00187\n",
      "\tToken: biggin, TF-IDF: 0.00174\n",
      "AmberRuddHR conservative\n",
      "\tToken: hastings, TF-IDF: 0.0095\n",
      "\tToken: rye, TF-IDF: 0.00629\n",
      "\tToken: biz, TF-IDF: 0.00223\n",
      "\tToken: leonards, TF-IDF: 0.00216\n",
      "\tToken: w', TF-IDF: 0.00178\n",
      "BorisJohnson conservative\n",
      "\tToken: fm, TF-IDF: 0.00238\n",
      "\tToken: ruislip, TF-IDF: 0.00193\n",
      "\tToken: uxbridge, TF-IDF: 0.00167\n",
      "\tToken: w, TF-IDF: 0.0011\n",
      "\tToken: hillingdon, TF-IDF: 0.001\n",
      "grantshapps conservative\n",
      "\tToken: hatfield, TF-IDF: 0.01199\n",
      "\tToken: welwyn, TF-IDF: 0.0092\n",
      "\tToken: wgc, TF-IDF: 0.00489\n",
      "\tToken: :-), TF-IDF: 0.00369\n",
      "\tToken: ;-), TF-IDF: 0.00183\n",
      "sajidjavid conservative\n",
      "\tToken: bromsgrove, TF-IDF: 0.00646\n",
      "\tToken: exhibitors, TF-IDF: 0.00172\n",
      "\tToken: bromsgrove's, TF-IDF: 0.00155\n",
      "\tToken: forums, TF-IDF: 0.00101\n",
      "\tToken: pensioners', TF-IDF: 0.00083\n",
      "NadineDorries conservative\n",
      "\tToken: bcse, TF-IDF: 0.00097\n",
      "\tToken: bedfordshire, TF-IDF: 0.00068\n",
      "\tToken: ⁩, TF-IDF: 0.00062\n",
      "\tToken: no10, TF-IDF: 0.00062\n",
      "\tToken: ⁦, TF-IDF: 0.00057\n",
      "LiamFox conservative\n",
      "\tToken: 🇬🇧, TF-IDF: 0.00396\n",
      "\tToken: 👉, TF-IDF: 0.00365\n",
      "\tToken: dit, TF-IDF: 0.00336\n",
      "\tToken: exports, TF-IDF: 0.00157\n",
      "\tToken: export, TF-IDF: 0.00144\n",
      "ZacGoldsmith conservative\n",
      "\tToken: richmond, TF-IDF: 0.00287\n",
      "\tToken: barnes, TF-IDF: 0.00251\n",
      "\tToken: kingston, TF-IDF: 0.00143\n",
      "\tToken: heathrow, TF-IDF: 0.00141\n",
      "\tToken: sheen, TF-IDF: 0.00119\n",
      "Jeremy_Hunt conservative\n",
      "\tToken: farnham, TF-IDF: 0.00157\n",
      "\tToken: staffs, TF-IDF: 0.00134\n",
      "\tToken: patient, TF-IDF: 0.00109\n",
      "\tToken: patients, TF-IDF: 0.00102\n",
      "\tToken: haslemere, TF-IDF: 0.00083\n"
     ]
    }
   ],
   "source": [
    "corpus_fqls = [doc.tokens_fql for doc in corpus]\n",
    "for doc in corpus:\n",
    "    print(doc.meta['username'], doc.meta['party'])\n",
    "    scores = {term: tfidf(term,doc.tokens_fql,corpus_fqls) for term in doc.tokens_fql}\n",
    "    sorted_terms = sorted(scores.items(), key=lambda x: x[1], reverse=True)\n",
    "    for term, score in sorted_terms[:5]:\n",
    "        print(\"\\tToken: {}, TF-IDF: {}\".format(term, round(score, 5)))"
   ]
  },
  {
   "cell_type": "markdown",
   "metadata": {},
   "source": [
    "<a id=\"ex\"></a>\n",
    "## Exercise\n",
    "Use the MPs data you already have to conduct some further feature extraction and analysis. Please write code to answer the following questions:\n",
    "\n",
    "1. Which MP in the dataset has the highest average word length?\n",
    "2. What are the 5 **key part-of-speech tags** used by Labour MPs more than Conservative MPs?\n",
    "3. **Advanced:** What hashtags does Jeremy Corbyn use frequetly, which aren't used widely by the rest of the Labour party MPs in the dataset (TF-IDF)?\n",
    "4. **Advanced:** If you want to go further, devise your own research question, either using the MP data provided, [collecting more MPs](mp_accounts), or on different data.\n",
    "\n",
    "You may need to pre-process and tokenise the text differently. I suggest re-using the code above, including adapting the Document class, adding/editing preprocessing, tokenisation, and feature extraction.\n",
    "\n",
    "If you prefer, you can create a new notebook for the exercise work. The methods and imports above are provided in a Python file too: [features.py](features.py), to read this in use `%run features.py`"
   ]
  },
  {
   "cell_type": "code",
   "execution_count": 223,
   "metadata": {},
   "outputs": [
    {
     "data": {
      "text/plain": [
       "[('DavidLammy', 2.3685723234519225),\n",
       " ('stellacreasy', 3.1243657163945016),\n",
       " ('jeremycorbyn', 3.632017479970867),\n",
       " ('grantshapps', 4.1512204104864905),\n",
       " (<__main__.Document at 0x7fc8a987dd68>, 4.570150905123398),\n",
       " ('Ed_Miliband', 4.61284602318332),\n",
       " ('ChukaUmunna', 4.63054587688734),\n",
       " ('tom_watson', 4.649570389953734),\n",
       " ('NadineDorries', 4.74661134720348),\n",
       " ('RupaHuq', 5.073765234124439),\n",
       " ('LindsayHoyle_MP', 5.127218168472864),\n",
       " ('CatSmithMP', 5.16505558240696),\n",
       " ('AmberRuddHR', 5.399977565900168),\n",
       " ('YvetteCooperMP', 5.595650140318054),\n",
       " ('OwenSmith_MP', 5.630009341988646),\n",
       " ('PhilipHammondUK', 6.02472745927921),\n",
       " ('Keir_Starmer', 6.25354484706905),\n",
       " ('BWallaceMP', 6.310039049788481),\n",
       " ('BorisJohnson', 6.5417135332364),\n",
       " ('hilarybennmp', 6.653816277798556),\n",
       " ('SamGyimah', 6.891589861751152),\n",
       " ('sajidjavid', 7.559196787148594),\n",
       " ('JustineGreening', 8.128161348842173),\n",
       " ('LiamFox', 8.302575355121839),\n",
       " ('theresa_may', 8.92161895360316),\n",
       " ('EmilyThornberry', 9.080980415715487),\n",
       " ('HackneyAbbott', 9.391786583103121),\n",
       " ('andrealeadsom', 10.040575798470535),\n",
       " ('ZacGoldsmith', 10.101686972820993),\n",
       " ('angelaeagle', 11.134739308728763),\n",
       " ('DamianGreen', 11.447025135221127),\n",
       " ('JoJohnsonUK', 13.704400468688974),\n",
       " ('michaelgove', 18.871479380947804)]"
      ]
     },
     "execution_count": 223,
     "metadata": {},
     "output_type": "execute_result"
    }
   ],
   "source": [
    "#Code for 1 here.\n",
    "#Which MP in the dataset has the highest average word length?\n",
    "\n",
    "'''\n",
    "tokens_fql = Counter(lower_tokens)\n",
    "\n",
    "tally = 0\n",
    "for word in tokens_fql:\n",
    "    tally += len(word) * tokens_fql[word]\n",
    "    #print(tally)\n",
    "final = tally/sum(tokens_fql.values())\n",
    "        \n",
    "print(tally)\n",
    "tokens_fql\n",
    "final\n",
    "tokens_fql\n",
    "sum(tokens_fql.values())\n",
    "'''        \n",
    "    \n",
    "\n",
    "TotalLengthOfEachWord = 0 \n",
    "AverageWordLengthOfMP = []\n",
    "# Go through each document\n",
    "for document in corpus:\n",
    "    TotalLengthOfEachWord = 0 \n",
    "    # extract each word\n",
    "    for word in document.tokens_fql:\n",
    "        #Calc the cummulative total length of each word, needed to times the length of word by how many times it occured\n",
    "        TotalLengthOfEachWord += (len(word) * doc.tokens_fql[word])\n",
    "        #print('len of ',word, ' : ', len(word))\n",
    "    #calc the average length by dividing by no of words\n",
    "    averageLengthOfEachWord = TotalLengthOfEachWord/sum(document.tokens_fql.values())\n",
    "    #Store result\n",
    "    AverageWordLengthOfMP.append((document.meta['username'],averageLengthOfEachWord))\n",
    "\n",
    "AverageWordLengthOfMP = sorted(AverageWordLengthOfMP, key=lambda x: x[1])\n",
    "AverageWordLengthOfMP\n",
    "\n"
   ]
  },
  {
   "cell_type": "code",
   "execution_count": 206,
   "metadata": {},
   "outputs": [],
   "source": [
    "#Code for 2 here.\n"
   ]
  },
  {
   "cell_type": "code",
   "execution_count": 184,
   "metadata": {},
   "outputs": [],
   "source": [
    "#Code for 3 here (advanced)."
   ]
  },
  {
   "cell_type": "code",
   "execution_count": null,
   "metadata": {},
   "outputs": [],
   "source": [
    "#Code for 4 here (advanced)."
   ]
  },
  {
   "cell_type": "markdown",
   "metadata": {},
   "source": [
    "### Answers:\n",
    "\n",
    "1. \n",
    "2. \n",
    "3. \n",
    "4. Question: Answer"
   ]
  }
 ],
 "metadata": {
  "kernelspec": {
   "display_name": "Python 3",
   "language": "python",
   "name": "python3"
  },
  "language_info": {
   "codemirror_mode": {
    "name": "ipython",
    "version": 3
   },
   "file_extension": ".py",
   "mimetype": "text/x-python",
   "name": "python",
   "nbconvert_exporter": "python",
   "pygments_lexer": "ipython3",
   "version": "3.7.2"
  }
 },
 "nbformat": 4,
 "nbformat_minor": 2
}
