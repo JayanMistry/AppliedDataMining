{
 "cells": [
  {
   "cell_type": "markdown",
   "metadata": {},
   "source": [
    "# Import libraries, create document class to hold info"
   ]
  },
  {
   "cell_type": "code",
   "execution_count": 27,
   "metadata": {},
   "outputs": [],
   "source": [
    "#  /Data/celebs-usa/female contains 381 texts by females\n",
    "#  /Data/celebs-usa/male contains 912 texts by males\n",
    "#  /Data/celebs-other-json contains text by\n",
    "\n",
    "# Identify birth year as that is a constant, these tweets are from 2011-2018, age range constantly changes but birth year stays constant\n",
    "# using birth year, predict age 10-15, 15-20, 20-25, 25-30, 30-35, 35-40, 45-55,55+  \n",
    "#{'25-34', '35-44', '45-54', '55-64', '65+'}\n",
    "\n",
    "from os import listdir, makedirs\n",
    "from os.path import isfile, join, splitext, split\n",
    "import json\n",
    "from collections import Counter\n",
    "import ftfy\n",
    "import re\n",
    "import nltk\n",
    "import copy\n",
    "from collections import Counter\n",
    "import seaborn as sns\n",
    "import pandas as pd\n",
    "import numpy as np\n",
    "import ndjson\n",
    "import pickle\n",
    "import os\n",
    "import jsonlines\n",
    "from sklearn.base import BaseEstimator, TransformerMixin\n",
    "\n",
    "        \n",
    "hashtag_re = re.compile(r\"#\\w+\")\n",
    "mention_re = re.compile(r\"@\\w+\")\n",
    "url_re = re.compile(r\"(?:https?://)?(?:[-\\w]+\\.)+[a-zA-Z]{2,9}[-\\w/#~:;.?+=&%@~]*\")\n",
    "\n",
    "def preprocess(text):\n",
    "    p_text = hashtag_re.sub(\"[hashtag]\",text)\n",
    "    p_text = mention_re.sub(\"[mention]\",p_text)\n",
    "    p_text = url_re.sub(\"[url]\",p_text)\n",
    "    p_text = ftfy.fix_text(p_text)\n",
    "    return p_text.lower()\n",
    "\n",
    "tokenise_re = re.compile(r\"(\\[[^\\]]+\\]|[-'\\w]+|[^\\s\\w\\[']+)\") #([]|words|other non-space)\n",
    "def tokenise(text):\n",
    "    return tokenise_re.findall(text)\n",
    "\n",
    "        \n",
    "class Document:\n",
    "    def __init__(self, meta={}):\n",
    "        self.meta = meta\n",
    "        self.tokens_fql = Counter() #empty Counter, ready to be added to with Counter.update.\n",
    "        self.pos_fql = Counter()\n",
    "        self.pos_list = [] #empty list for pos tags from running text.\n",
    "        self.num_tokens = 0\n",
    "        \n",
    "    def extract_features_from_text(self, text):\n",
    "        p_text = preprocess(text)\n",
    "        tokens = tokenise(p_text)\n",
    "        self.num_tokens += len(tokens)\n",
    "        self.tokens_fql.update(tokens) #updating Counter counts items in list, adding to existing Counter items.\n",
    "        pos_tagged = nltk.pos_tag(tokens)\n",
    "        pos = [tag[1] for tag in pos_tagged]\n",
    "        self.pos_fql.update(pos)\n",
    "        self.pos_list.extend(pos)\n",
    "        \n",
    "    def extract_features_from_texts(self, texts): #texts should be iterable text lines, e.g. read in from file.\n",
    "        for text in texts:\n",
    "            extract_features_from_text(text)\n",
    "            \n",
    "    def average_token_length(self):\n",
    "        sum_lengths = 0\n",
    "        for key, value in self.tokens_fql.items():\n",
    "            sum_lengths += len(key) * value\n",
    "        return sum_lengths / self.num_tokens\n",
    "    \n",
    "class DocumentProcessor(BaseEstimator, TransformerMixin):\n",
    "    def __init__(self, process_method):\n",
    "        self.process_method = process_method\n",
    "    \n",
    "    def fit(self, X, y=None): #no fitting necessary, although could use this to build a vocabulary for all documents, and then limit to set (e.g. top 1000).\n",
    "        return self\n",
    "\n",
    "    def transform(self, documents):\n",
    "        for document in documents:\n",
    "            yield self.process_method(document)\n",
    "            \n",
    "def get_tokens_fql(document):\n",
    "    return document.tokens_fql\n",
    "\n",
    "def get_pos_fql(document):\n",
    "    return document.pos_fql\n",
    "\n",
    "def get_text_stats(document):\n",
    "    ttr = len(document.tokens_fql) / document.num_tokens\n",
    "    return {'avg_token_length': document.average_token_length(), 'ttr': ttr }\n",
    "\n",
    "def read_list(file):\n",
    "    with open(file) as f:\n",
    "        items = []\n",
    "        lines = f.readlines()\n",
    "        for line in lines:\n",
    "            items.append(line.strip())\n",
    "    return items\n",
    "\n",
    "fws = read_list(\"functionwords.txt\")\n",
    "\n",
    "def get_fws_fql(document):\n",
    "    fws_fql = Counter({t: document.tokens_fql[t] for t in fws}) \n",
    "    #dict comprehension, t: fql[t] is token: freq.\n",
    "    return +fws_fql\n",
    "\n",
    "def custom_tokenise(text):\n",
    "    return tokenise_re.findall(text.lower())\n",
    "\n",
    "def preprocess(text):\n",
    "    p_text = hashtag_re.sub(\"[hashtag]\",text)\n",
    "    p_text = mention_re.sub(\"[mention]\",p_text)\n",
    "    p_text = url_re.sub(\"[url]\",p_text)\n",
    "    p_text = ftfy.fix_text(p_text)\n",
    "    return p_text\n",
    "\n",
    "def confusion_matrix_heatmap(cm, index):\n",
    "    cmdf = pd.DataFrame(cm, index = index, columns=index)\n",
    "    dims = (5, 5)\n",
    "    fig, ax = plt.subplots(figsize=dims)\n",
    "    sns.heatmap(cmdf, annot=True, cmap=\"coolwarm\", center=0)\n",
    "    ax.set_ylabel('Actual')    \n",
    "    ax.set_xlabel('Predicted')"
   ]
  },
  {
   "cell_type": "markdown",
   "metadata": {},
   "source": [
    "# Reading in Celebrity Data, converting to Document Class and saving to pickle file"
   ]
  },
  {
   "cell_type": "code",
   "execution_count": 28,
   "metadata": {},
   "outputs": [
    {
     "name": "stdout",
     "output_type": "stream",
     "text": [
      "CELEB FILE EXISTS\n"
     ]
    }
   ],
   "source": [
    "'''\n",
    "This gets the celebrity data and adds the correct gender and ages \n",
    "to each json object with text\n",
    "'''\n",
    "def getCelebData():\n",
    "    path = '/home/jay/Downloads/pan19-celebrity-profiling-training-dataset-2019-01-31/feeds.ndjson'\n",
    "    path2 = '/home/jay/Downloads/pan19-celebrity-profiling-training-dataset-2019-01-31/labels.ndjson'\n",
    "\n",
    "    # Read in the twitter text\n",
    "    data = []\n",
    "    with jsonlines.open(path) as reader:\n",
    "        for obj in reader:\n",
    "            data.append(obj)\n",
    "            if len(data) >19999:\n",
    "                break;\n",
    "    # Here the correct labels are identified and paried           \n",
    "    labels = []\n",
    "    with jsonlines.open(path2) as reader:\n",
    "        for obj in reader:\n",
    "            if obj['gender']!='nonbinary':\n",
    "                for d in data:\n",
    "                    if d['id'] == obj['id']:\n",
    "                        d['gender'] = obj['gender']\n",
    "                        d['birthyear'] = obj['birthyear']\n",
    "    return data\n",
    "\n",
    "'''\n",
    "This function returns the 5 year group a year of birth resides in, e.g. 1995 is between 1995-1999 (inclusive 5 year period)\n",
    "'''\n",
    "def getYearRange(yearOfBirth):\n",
    "    YearGroupGap = 5\n",
    "    for minYear in range(1900,2015,YearGroupGap):\n",
    "        maxYear = minYear+YearGroupGap\n",
    "        #print('min: ',minYear,'max: ',maxYear)\n",
    "        if (yearOfBirth >= minYear) and (yearOfBirth < maxYear):\n",
    "            return( str(minYear)+'-'+str(maxYear-1) )\n",
    "    raise Exception('year of Birth passed in - ' + str(yearOfBirth)+' is not in range of min and max years' ) \n",
    "    \n",
    "\n",
    "'''\n",
    "This helper function uses the Document class to return a doc\n",
    "class for each user with the correct gender, age and tweets\n",
    "'''\n",
    "def getDocument(data):\n",
    "    try:\n",
    "        gender    = data['gender']\n",
    "        birthyear = data['birthyear']\n",
    "        if data['birthyear'] != 'unknown':\n",
    "            birthYearRange = getYearRange(data['birthyear'])\n",
    "\n",
    "        doc = Document({'gender': gender, 'birthyear':birthyear, 'birthyearrange':birthYearRange}) #include metadata\n",
    "        for tweet in data['text']:\n",
    "            doc.extract_features_from_text(tweet)\n",
    "        return doc\n",
    "    except:\n",
    "        print(\"An exception occurred\")\n",
    "\n",
    "'''\n",
    "Check if the pickle file exists, if not then create it, else read in\n",
    "'''\n",
    "corpus = []\n",
    "if os.path.exists(\"/home/jay/Documents/AppliedDataMining/FinalProject/Data/CelebFile\"):\n",
    "    with open('/home/jay/Documents/AppliedDataMining/FinalProject/Data/CelebFile', 'rb') as fp:\n",
    "        corpus = pickle.load(fp)\n",
    "    print('CELEB FILE EXISTS')\n",
    "else:\n",
    "    print('CELEB FILE DOES NOT EXISTS, CREATING')\n",
    "    # Call the function to get the twitter data\n",
    "    corpus = getCelebData()\n",
    "    #For each json object, convert it to a document object\n",
    "    for i in range(len(corpus)):\n",
    "        print('Doing Obj Number: ',i)\n",
    "        corpus[i] = getDocument(corpus[i])\n",
    "    \n",
    "    with open('/home/jay/Documents/AppliedDataMining/FinalProject/Data/CelebFile', 'wb') as fp:\n",
    "        pickle.dump(corpus, fp)\n",
    "    print('CELEB FILE CREATED')"
   ]
  },
  {
   "cell_type": "markdown",
   "metadata": {},
   "source": [
    "# Exploratory Data Analysis"
   ]
  },
  {
   "cell_type": "code",
   "execution_count": 29,
   "metadata": {},
   "outputs": [
    {
     "name": "stderr",
     "output_type": "stream",
     "text": [
      "/home/jay/anaconda3/lib/python3.7/site-packages/scipy/stats/stats.py:1713: FutureWarning: Using a non-tuple sequence for multidimensional indexing is deprecated; use `arr[tuple(seq)]` instead of `arr[seq]`. In the future this will be interpreted as an array index, `arr[np.array(seq)]`, which will result either in an error or a different result.\n",
      "  return np.add.reduce(sorted[indexer] * weights, axis=axis) / sumval\n"
     ]
    },
    {
     "data": {
      "text/plain": [
       "<matplotlib.axes._subplots.AxesSubplot at 0x7f2a31770748>"
      ]
     },
     "execution_count": 29,
     "metadata": {},
     "output_type": "execute_result"
    },
    {
     "data": {
      "image/png": "[encoded data removed]",
      "text/plain": [
       "<Figure size 432x288 with 1 Axes>"
      ]
     },
     "metadata": {
      "needs_background": "light"
     },
     "output_type": "display_data"
    },
    {
     "data": {
      "image/png": "[encoded data removed]",
      "text/plain": [
       "<Figure size 720x720 with 1 Axes>"
      ]
     },
     "metadata": {
      "needs_background": "light"
     },
     "output_type": "display_data"
    },
    {
     "data": {
      "image/png": "[encoded data removed]",
      "text/plain": [
       "<Figure size 720x720 with 1 Axes>"
      ]
     },
     "metadata": {
      "needs_background": "light"
     },
     "output_type": "display_data"
    },
    {
     "data": {
      "image/png": "[encoded data removed]",
      "text/plain": [
       "<Figure size 720x720 with 1 Axes>"
      ]
     },
     "metadata": {
      "needs_background": "light"
     },
     "output_type": "display_data"
    }
   ],
   "source": [
    "corpus = [d for d in corpus if d.meta['gender'] != 'nonbinary']\n",
    "#Get all the birth years and plot a histogram\n",
    "birth_year_y = [d.meta['birthyear'] for d in corpus]\n",
    "x = pd.Series(birth_year_y, name=\"Birth Year\")\n",
    "sns.distplot(x)\n",
    "\n",
    "#Get a count of of the birth years and plot a bar chart\n",
    "df = pd.DataFrame.from_dict(Counter(birth_year_y), orient='index').reset_index()\n",
    "df.columns = ['Year','Frequency of people born']\n",
    "df = df.sort_values(by=['Year'])\n",
    "df.plot.bar(x='Year', y='Frequency of people born', rot=90,figsize=(10,10), title='The number of people born in each year')\n",
    "df\n",
    "\n",
    "#Get all the birth years and plot a histogram\n",
    "birth_year_y = [d.meta['birthyearrange'] for d in corpus]\n",
    "df = pd.DataFrame.from_dict(Counter(birth_year_y), orient='index').reset_index()\n",
    "df.columns = ['Year','Frequency of people born']\n",
    "df = df.sort_values(by=['Year'])\n",
    "df.plot.bar(x='Year', y='Frequency of people born', rot=90,figsize=(10,10), title='The number of people born in each year')\n",
    "\n",
    "#Get all the genders and plot a bar chart\n",
    "gender_y = [d.meta['gender'] for d in corpus]\n",
    "df = pd.DataFrame.from_dict(Counter(gender_y), orient='index').reset_index()\n",
    "df.columns = ['Gender','Frequency of Gender']\n",
    "df.plot.bar(x='Gender', y='Frequency of Gender', rot=90,figsize=(10,10), title='The number of people born in each year')\n"
   ]
  },
  {
   "cell_type": "markdown",
   "metadata": {},
   "source": [
    "# Get Train and Test Split"
   ]
  },
  {
   "cell_type": "code",
   "execution_count": 30,
   "metadata": {},
   "outputs": [
    {
     "name": "stdout",
     "output_type": "stream",
     "text": [
      "Counter({'male': 1000, 'female': 973})\n",
      "---------------\n",
      "Counter({1985: 115, 1981: 115, 1986: 114, 1987: 102, 1984: 100, 1980: 92, 1989: 90, 1975: 87, 1988: 86, 1971: 85, 1982: 84, 1983: 84, 1992: 82, 1978: 80, 1979: 80, 1977: 79, 1972: 79, 1974: 78, 1970: 78, 1976: 77, 1990: 72, 1969: 71, 1973: 71, 1993: 60, 1967: 59, 1964: 59, 1991: 51, 1966: 44, 1968: 43, 1962: 43, 1965: 41, 1963: 41, 1995: 38, 1961: 34, 1996: 32, 1959: 31, 1956: 31, 1960: 29, 1952: 27, 1957: 26, 1994: 23, 1949: 23, 1954: 22, 1955: 21, 1958: 21, 1950: 21, 1951: 18, 1947: 16, 1997: 15, 1946: 15, 1953: 15, 1998: 13, 1942: 12, 1945: 12, 1948: 12, 1999: 11, 2000: 9, 1944: 8, 1941: 6, 1943: 6, 1940: 5, 2002: 2, 2004: 1, 2001: 1, 2003: 1})\n"
     ]
    }
   ],
   "source": [
    "from sklearn.model_selection import train_test_split\n",
    "\n",
    "##################THIS NEEDS TO BE DEALT WITh\n",
    "#Undersample men \n",
    "femaleCorpus = [d for d in corpus if d.meta['gender'] == 'female']\n",
    "maleCorpus   = [d for d in corpus if d.meta['gender'] == 'male']\n",
    "genderCorpus = maleCorpus[:1000] + femaleCorpus\n",
    "##################THIS NEEDS TO BE DEALT WITh\n",
    "#Undersample men    \n",
    "\n",
    "#Getting gender Train and Test\n",
    "gender_y = [d.meta['gender'] for d in genderCorpus]\n",
    "gender_X = genderCorpus\n",
    "Gender_X_train, Gender_X_test, Gender_y_train, Gender_y_test = train_test_split(gender_X,gender_y, test_size=0.3, random_state = 0)\n",
    "genderCorpus = [d for d in corpus if d.meta['gender'] != 'nonbinary']\n",
    "\n",
    "#Getting Birth_year_range Train and Test\n",
    "birth_year_y = [d.meta['birthyearrange'] for d in corpus]\n",
    "birth_year_y = [d.meta['birthyear'] for d in corpus]\n",
    "birth_year_X = corpus\n",
    "Birth_X_train, Birth_X_test, Birth_y_train, Birth_y_test = train_test_split(birth_year_X,birth_year_y, test_size=0.3, random_state = 0)\n",
    "genderCorpus = [d for d in corpus if d.meta['gender'] != 'nonbinary']\n",
    "\n",
    "\n",
    "GenderCount = Counter(gender_y)\n",
    "BirthYearCount = Counter(birth_year_y)\n",
    "print(GenderCount)\n",
    "print('---------------')\n",
    "print(BirthYearCount)"
   ]
  },
  {
   "cell_type": "markdown",
   "metadata": {},
   "source": [
    "# Model Selection, GridSearch to identify best classifier and best params"
   ]
  },
  {
   "cell_type": "code",
   "execution_count": 157,
   "metadata": {},
   "outputs": [
    {
     "data": {
      "text/plain": [
       "'\\nmodel = Pipeline([\\n    (\\'union\\', FeatureUnion(\\n        transformer_list = [\\n            (\\'word\\', Pipeline([\\n                (\\'processor\\', DocumentProcessor(process_method = get_pos_fql)),\\n                (\\'vectorizer\\', DictVectorizer()),\\n            ])),\\n        ],\\n    )),\\n    (\\'clf\\', None), # to be set by grid search.\\n])\\n\\nparam_grid={ \\'clf\\': [LogisticRegression(solver=\\'liblinear\\', random_state=0)\\n                     ,MultinomialNB(alpha=1.0, class_prior=None, fit_prior=True),\\n                     RandomForestClassifier(),\\n                    MLPClassifier(max_iter=400)\\n                    ],\\n    \\n            \\'union__word__processor__process_method\\': [get_tokens_fql, get_fws_fql, get_pos_fql, get_text_stats],}\\n\\n\\nsearch = GridSearchCV(model, cv = StratifiedKFold(n_splits=5, random_state=0), \\n                      return_train_score = False, \\n                      scoring = [\\'accuracy\\', \\'precision_weighted\\', \\'recall_weighted\\', \\'f1_weighted\\'],\\n                      refit = \\'f1_weighted\\',\\n                      param_grid = param_grid\\n                     )\\n\\n\\n\\nprint(\\'Fitting Clf\\')\\nsearch.fit(Gender_X_train, Gender_y_train)\\nprint(\\'Getting Predictions\\')\\npredictions = search.predict(Gender_X_test)\\n\\nprint(\"Accuracy: \", accuracy_score(Gender_y_test, predictions))\\nprint(classification_report(Gender_y_test, predictions))\\nprint(confusion_matrix(Gender_y_test, predictions))\\n\\nconfusion_matrix_heatmap(confusion_matrix(Gender_y_test,predictions), [\\'M\\',\\'F\\'])\\n'"
      ]
     },
     "execution_count": 157,
     "metadata": {},
     "output_type": "execute_result"
    }
   ],
   "source": [
    "from sklearn.neural_network import MLPClassifier\n",
    "from sklearn.linear_model import LogisticRegression\n",
    "from sklearn.feature_selection import SelectKBest, chi2\n",
    "from sklearn.feature_extraction.text import CountVectorizer\n",
    "from sklearn.pipeline import Pipeline, FeatureUnion\n",
    "from sklearn.feature_extraction import DictVectorizer\n",
    "from sklearn.metrics import accuracy_score, classification_report, confusion_matrix\n",
    "import matplotlib.pyplot as plt\n",
    "from sklearn.model_selection import GridSearchCV\n",
    "from sklearn.model_selection import cross_validate, StratifiedKFold\n",
    "from sklearn.naive_bayes import MultinomialNB\n",
    "from sklearn.svm import SVR\n",
    "from sklearn.tree import DecisionTreeRegressor\n",
    "from sklearn.ensemble import AdaBoostRegressor, AdaBoostClassifier\n",
    "from sklearn.metrics import mean_squared_error\n",
    "from sklearn.metrics import mean_squared_error\n",
    "import math\n",
    "from sklearn.ensemble import RandomForestClassifier\n",
    "from sklearn import linear_model\n",
    "'''\n",
    "model = Pipeline([\n",
    "    ('union', FeatureUnion(\n",
    "        transformer_list = [\n",
    "            ('word', Pipeline([\n",
    "                ('processor', DocumentProcessor(process_method = get_pos_fql)),\n",
    "                ('vectorizer', DictVectorizer()),\n",
    "            ])),\n",
    "        ],\n",
    "    )),\n",
    "    ('clf', None), # to be set by grid search.\n",
    "])\n",
    "\n",
    "param_grid={ 'clf': [LogisticRegression(solver='liblinear', random_state=0)\n",
    "                     ,MultinomialNB(alpha=1.0, class_prior=None, fit_prior=True),\n",
    "                     RandomForestClassifier(),\n",
    "                    MLPClassifier(max_iter=400)\n",
    "                    ],\n",
    "    \n",
    "            'union__word__processor__process_method': [get_tokens_fql, get_fws_fql, get_pos_fql, get_text_stats],}\n",
    "\n",
    "\n",
    "search = GridSearchCV(model, cv = StratifiedKFold(n_splits=5, random_state=0), \n",
    "                      return_train_score = False, \n",
    "                      scoring = ['accuracy', 'precision_weighted', 'recall_weighted', 'f1_weighted'],\n",
    "                      refit = 'f1_weighted',\n",
    "                      param_grid = param_grid\n",
    "                     )\n",
    "\n",
    "\n",
    "\n",
    "print('Fitting Clf')\n",
    "search.fit(Gender_X_train, Gender_y_train)\n",
    "print('Getting Predictions')\n",
    "predictions = search.predict(Gender_X_test)\n",
    "\n",
    "print(\"Accuracy: \", accuracy_score(Gender_y_test, predictions))\n",
    "print(classification_report(Gender_y_test, predictions))\n",
    "print(confusion_matrix(Gender_y_test, predictions))\n",
    "\n",
    "confusion_matrix_heatmap(confusion_matrix(Gender_y_test,predictions), ['M','F'])\n",
    "'''"
   ]
  },
  {
   "cell_type": "markdown",
   "metadata": {},
   "source": [
    "# Predicting Birth Year"
   ]
  },
  {
   "cell_type": "code",
   "execution_count": null,
   "metadata": {},
   "outputs": [
    {
     "name": "stdout",
     "output_type": "stream",
     "text": [
      "Fitting Clf\n"
     ]
    }
   ],
   "source": [
    "clf = SVR(gamma='scale', C=1.0, epsilon=0.2)\n",
    "clf = DecisionTreeRegressor()\n",
    "regr = linear_model.LinearRegression()\n",
    "reg = linear_model.BayesianRidge()\n",
    "\n",
    "AdaBoostRegress = AdaBoostRegressor(clf,\n",
    "                          n_estimators=50, random_state=0)\n",
    "\n",
    "\n",
    "\n",
    "BirthYearPipeline = Pipeline([\n",
    "    ('processor', DocumentProcessor(process_method = get_tokens_fql)),\n",
    "    ('vectorizer', DictVectorizer()),\n",
    "    #('clf', AdaBoostRegress),\n",
    "    ('clf', regr),\n",
    "])\n",
    "\n",
    "print('Fitting Clf')\n",
    "BirthYearPipeline.fit(Birth_X_train, Birth_y_train)\n",
    "print('Saving Model')\n",
    "filename = 'BirthYearRegression_AdaBoost50.sav'\n",
    "pickle.dump(BirthYearPipeline, open(filename, 'wb'))\n",
    "BirthYearPipeline = pickle.load(open(filename, 'rb'))\n",
    "print('Getting Predictions')\n",
    "predictions = BirthYearPipeline.predict(Birth_X_test)\n",
    "predictions = [round(x) for x in predictions]"
   ]
  },
  {
   "cell_type": "markdown",
   "metadata": {},
   "source": [
    "# Evaluating Birth Year Classifier"
   ]
  },
  {
   "cell_type": "code",
   "execution_count": 162,
   "metadata": {},
   "outputs": [
    {
     "name": "stdout",
     "output_type": "stream",
     "text": [
      "Accuracy:  0.035555555555555556\n",
      "              precision    recall  f1-score   support\n",
      "\n",
      "        1940       0.00      0.00      0.00         1\n",
      "        1941       0.00      0.00      0.00         3\n",
      "        1942       0.00      0.00      0.00         5\n",
      "        1943       0.00      0.00      0.00         2\n",
      "        1944       0.00      0.00      0.00         1\n",
      "        1945       0.00      0.00      0.00         4\n",
      "        1946       0.00      0.00      0.00         2\n",
      "        1947       0.00      0.00      0.00         5\n",
      "        1948       0.00      0.00      0.00         2\n",
      "        1949       0.00      0.00      0.00         6\n",
      "        1950       0.00      0.00      0.00         7\n",
      "        1951       0.00      0.00      0.00         5\n",
      "        1952       0.00      0.00      0.00         8\n",
      "        1953       0.00      0.00      0.00         6\n",
      "        1954       0.00      0.00      0.00         5\n",
      "        1955       0.00      0.00      0.00         3\n",
      "        1956       0.00      0.00      0.00         9\n",
      "        1957       0.00      0.00      0.00         7\n",
      "        1958       0.00      0.00      0.00         6\n",
      "        1959       0.00      0.00      0.00        10\n",
      "        1960       0.00      0.00      0.00        11\n",
      "        1961       0.00      0.00      0.00        12\n",
      "        1962       0.00      0.00      0.00        19\n",
      "        1963       0.00      0.00      0.00        10\n",
      "        1964       0.00      0.00      0.00        21\n",
      "        1965       0.00      0.00      0.00        10\n",
      "        1966       0.00      0.00      0.00        13\n",
      "        1967       0.00      0.00      0.00        14\n",
      "        1968       0.00      0.00      0.00        10\n",
      "        1969       0.00      0.00      0.00        27\n",
      "        1970       0.00      0.00      0.00        22\n",
      "        1971       0.00      0.00      0.00        30\n",
      "        1972       0.00      0.00      0.00        19\n",
      "        1973       0.00      0.00      0.00        20\n",
      "        1974       0.00      0.00      0.00        25\n",
      "        1975       0.05      0.04      0.04        28\n",
      "        1976       0.03      0.90      0.07        29\n",
      "        1977       0.02      0.12      0.04        17\n",
      "        1978       0.04      0.07      0.05        14\n",
      "        1979       0.00      0.00      0.00        27\n",
      "        1980       0.50      0.03      0.06        30\n",
      "        1981       0.00      0.00      0.00        41\n",
      "        1982       0.00      0.00      0.00        23\n",
      "        1983       1.00      0.05      0.09        22\n",
      "        1984       0.00      0.00      0.00        31\n",
      "        1985       0.00      0.00      0.00        32\n",
      "        1986       0.00      0.00      0.00        28\n",
      "        1987       0.00      0.00      0.00        30\n",
      "        1988       0.00      0.00      0.00        28\n",
      "        1989       0.00      0.00      0.00        34\n",
      "        1990       0.00      0.00      0.00        24\n",
      "        1991       0.00      0.00      0.00        16\n",
      "        1992       0.00      0.00      0.00        20\n",
      "        1993       0.00      0.00      0.00        19\n",
      "        1994       0.00      0.00      0.00         8\n",
      "        1995       0.00      0.00      0.00        14\n",
      "        1996       0.00      0.00      0.00         9\n",
      "        1997       0.00      0.00      0.00         6\n",
      "        1998       0.00      0.00      0.00         4\n",
      "        1999       0.00      0.00      0.00         4\n",
      "        2000       0.00      0.00      0.00         1\n",
      "        2003       0.00      0.00      0.00         1\n",
      "\n",
      "   micro avg       0.04      0.04      0.04       900\n",
      "   macro avg       0.03      0.02      0.01       900\n",
      "weighted avg       0.04      0.04      0.01       900\n",
      "\n",
      "[[0 0 0 ... 0 0 0]\n",
      " [0 0 0 ... 0 0 0]\n",
      " [0 0 0 ... 0 0 0]\n",
      " ...\n",
      " [0 0 0 ... 0 0 0]\n",
      " [0 0 0 ... 0 0 0]\n",
      " [0 0 0 ... 0 0 0]]\n"
     ]
    },
    {
     "name": "stderr",
     "output_type": "stream",
     "text": [
      "/home/jay/anaconda3/lib/python3.7/site-packages/sklearn/metrics/classification.py:1143: UndefinedMetricWarning: Precision and F-score are ill-defined and being set to 0.0 in labels with no predicted samples.\n",
      "  'precision', 'predicted', average, warn_for)\n",
      "/home/jay/anaconda3/lib/python3.7/site-packages/sklearn/metrics/classification.py:1143: UndefinedMetricWarning: Precision and F-score are ill-defined and being set to 0.0 in labels with no predicted samples.\n",
      "  'precision', 'predicted', average, warn_for)\n",
      "/home/jay/anaconda3/lib/python3.7/site-packages/sklearn/metrics/classification.py:1143: UndefinedMetricWarning: Precision and F-score are ill-defined and being set to 0.0 in labels with no predicted samples.\n",
      "  'precision', 'predicted', average, warn_for)\n"
     ]
    },
    {
     "ename": "TypeError",
     "evalue": "confusion_matrix_heatmap() missing 1 required positional argument: 'index'",
     "output_type": "error",
     "traceback": [
      "\u001b[0;31m---------------------------------------------------------------------------\u001b[0m",
      "\u001b[0;31mTypeError\u001b[0m                                 Traceback (most recent call last)",
      "\u001b[0;32m<ipython-input-162-66bc017075b8>\u001b[0m in \u001b[0;36m<module>\u001b[0;34m()\u001b[0m\n\u001b[1;32m      8\u001b[0m \u001b[0;31m#labels = list(set(Birth_y_test+predictions))\u001b[0m\u001b[0;34m\u001b[0m\u001b[0;34m\u001b[0m\u001b[0;34m\u001b[0m\u001b[0m\n\u001b[1;32m      9\u001b[0m \u001b[0;34m\u001b[0m\u001b[0m\n\u001b[0;32m---> 10\u001b[0;31m \u001b[0mconfusion_matrix_heatmap\u001b[0m\u001b[0;34m(\u001b[0m\u001b[0mconfusion_matrix\u001b[0m\u001b[0;34m(\u001b[0m\u001b[0mBirth_y_test\u001b[0m\u001b[0;34m,\u001b[0m\u001b[0mpredictions\u001b[0m\u001b[0;34m)\u001b[0m  \u001b[0;34m)\u001b[0m\u001b[0;34m\u001b[0m\u001b[0;34m\u001b[0m\u001b[0m\n\u001b[0m\u001b[1;32m     11\u001b[0m \u001b[0;34m\u001b[0m\u001b[0m\n\u001b[1;32m     12\u001b[0m \u001b[0mmath\u001b[0m\u001b[0;34m.\u001b[0m\u001b[0msqrt\u001b[0m\u001b[0;34m(\u001b[0m\u001b[0mmean_squared_error\u001b[0m\u001b[0;34m(\u001b[0m\u001b[0mpredictions\u001b[0m\u001b[0;34m,\u001b[0m\u001b[0mBirth_y_test\u001b[0m\u001b[0;34m)\u001b[0m\u001b[0;34m)\u001b[0m\u001b[0;34m\u001b[0m\u001b[0;34m\u001b[0m\u001b[0m\n",
      "\u001b[0;31mTypeError\u001b[0m: confusion_matrix_heatmap() missing 1 required positional argument: 'index'"
     ]
    },
    {
     "data": {
      "image/png": "[encoded data removed]",
      "text/plain": [
       "<Figure size 432x288 with 1 Axes>"
      ]
     },
     "metadata": {
      "needs_background": "light"
     },
     "output_type": "display_data"
    }
   ],
   "source": [
    "print(\"Accuracy: \", accuracy_score(Birth_y_test, predictions))\n",
    "print(classification_report(Birth_y_test, predictions))\n",
    "print(confusion_matrix(Birth_y_test, predictions))\n",
    "\n",
    "res = pd.DataFrame( data = {'Predictions': predictions, 'Actual': Birth_y_test} )\n",
    "res[:100].plot()\n",
    "\n",
    "#labels = list(set(Birth_y_test+predictions))\n",
    "\n",
    "confusion_matrix_heatmap(confusion_matrix(Birth_y_test,predictions)  )\n",
    "\n",
    "print('RMSE: ', math.sqrt(mean_squared_error(predictions,Birth_y_test)))\n"
   ]
  },
  {
   "cell_type": "markdown",
   "metadata": {},
   "source": [
    "# Predicting Gender"
   ]
  },
  {
   "cell_type": "code",
   "execution_count": 133,
   "metadata": {},
   "outputs": [
    {
     "name": "stdout",
     "output_type": "stream",
     "text": [
      "Fitting Clf\n",
      "Iteration 1, loss = 6.86093969\n",
      "Iteration 2, loss = 1.19792073\n",
      "Iteration 3, loss = 0.64932642\n",
      "Iteration 4, loss = 0.61258035\n",
      "Iteration 5, loss = 0.52083931\n",
      "Iteration 6, loss = 0.45547066\n",
      "Iteration 7, loss = 0.41647084\n",
      "Iteration 8, loss = 0.38662373\n",
      "Iteration 9, loss = 0.36077146\n",
      "Iteration 10, loss = 0.34787061\n",
      "Getting Predictions\n"
     ]
    },
    {
     "name": "stderr",
     "output_type": "stream",
     "text": [
      "/home/jay/anaconda3/lib/python3.7/site-packages/sklearn/neural_network/multilayer_perceptron.py:562: ConvergenceWarning: Stochastic Optimizer: Maximum iterations (10) reached and the optimization hasn't converged yet.\n",
      "  % self.max_iter, ConvergenceWarning)\n"
     ]
    },
    {
     "name": "stdout",
     "output_type": "stream",
     "text": [
      "Got Predictions\n"
     ]
    }
   ],
   "source": [
    "\n",
    "clf = RandomForestClassifier()\n",
    "\n",
    "AdaBoostClf = AdaBoostClassifier(clf, n_estimators=2, random_state=0)\n",
    "\n",
    "GenderPipeline = Pipeline([\n",
    "    ('processor', DocumentProcessor(process_method = get_tokens_fql)),\n",
    "    ('vectorizer', DictVectorizer()),\n",
    "    ('clf', MLPClassifier(random_state=0, verbose=1, max_iter=10)),\n",
    "])\n",
    "\n",
    "\n",
    "\n",
    "print('Fitting Clf')\n",
    "GenderPipeline.fit(Gender_X_train, Gender_y_train)\n",
    "print('Getting Predictions')\n",
    "predictions = GenderPipeline.predict(Gender_X_test)\n",
    "print('Got Predictions')"
   ]
  },
  {
   "cell_type": "markdown",
   "metadata": {},
   "source": [
    "# Evaluating Gender Classifier"
   ]
  },
  {
   "cell_type": "code",
   "execution_count": 155,
   "metadata": {},
   "outputs": [
    {
     "name": "stdout",
     "output_type": "stream",
     "text": [
      "Accuracy:  0.8040540540540541\n",
      "              precision    recall  f1-score   support\n",
      "\n",
      "      female       0.74      0.90      0.81       283\n",
      "        male       0.88      0.72      0.79       309\n",
      "\n",
      "   micro avg       0.80      0.80      0.80       592\n",
      "   macro avg       0.81      0.81      0.80       592\n",
      "weighted avg       0.82      0.80      0.80       592\n",
      "\n",
      "[[254  29]\n",
      " [ 87 222]]\n"
     ]
    },
    {
     "name": "stderr",
     "output_type": "stream",
     "text": [
      "/home/jay/anaconda3/lib/python3.7/site-packages/sklearn/utils/validation.py:563: FutureWarning: Beginning in version 0.22, arrays of bytes/strings will be converted to decimal numbers if dtype='numeric'. It is recommended that you convert the array to a float dtype before using it in scikit-learn, for example by using your_array = your_array.astype(np.float64).\n",
      "  FutureWarning)\n",
      "/home/jay/anaconda3/lib/python3.7/site-packages/sklearn/utils/validation.py:563: FutureWarning: Beginning in version 0.22, arrays of bytes/strings will be converted to decimal numbers if dtype='numeric'. It is recommended that you convert the array to a float dtype before using it in scikit-learn, for example by using your_array = your_array.astype(np.float64).\n",
      "  FutureWarning)\n"
     ]
    },
    {
     "ename": "TypeError",
     "evalue": "ufunc 'subtract' did not contain a loop with signature matching types dtype('<U6') dtype('<U6') dtype('<U6')",
     "output_type": "error",
     "traceback": [
      "\u001b[0;31m---------------------------------------------------------------------------\u001b[0m",
      "\u001b[0;31mTypeError\u001b[0m                                 Traceback (most recent call last)",
      "\u001b[0;32m<ipython-input-155-a6780cb08a37>\u001b[0m in \u001b[0;36m<module>\u001b[0;34m()\u001b[0m\n\u001b[1;32m     13\u001b[0m \u001b[0mres\u001b[0m\u001b[0;34m[\u001b[0m\u001b[0;34m:\u001b[0m\u001b[0;36m20\u001b[0m\u001b[0;34m]\u001b[0m\u001b[0;34m.\u001b[0m\u001b[0mplot\u001b[0m\u001b[0;34m(\u001b[0m\u001b[0;34m)\u001b[0m\u001b[0;34m\u001b[0m\u001b[0;34m\u001b[0m\u001b[0m\n\u001b[1;32m     14\u001b[0m \u001b[0;34m\u001b[0m\u001b[0m\n\u001b[0;32m---> 15\u001b[0;31m \u001b[0mmath\u001b[0m\u001b[0;34m.\u001b[0m\u001b[0msqrt\u001b[0m\u001b[0;34m(\u001b[0m\u001b[0mmean_squared_error\u001b[0m\u001b[0;34m(\u001b[0m\u001b[0mpredictions\u001b[0m\u001b[0;34m,\u001b[0m\u001b[0mGender_y_test\u001b[0m\u001b[0;34m)\u001b[0m\u001b[0;34m)\u001b[0m\u001b[0;34m\u001b[0m\u001b[0;34m\u001b[0m\u001b[0m\n\u001b[0m",
      "\u001b[0;32m~/anaconda3/lib/python3.7/site-packages/sklearn/metrics/regression.py\u001b[0m in \u001b[0;36mmean_squared_error\u001b[0;34m(y_true, y_pred, sample_weight, multioutput)\u001b[0m\n\u001b[1;32m    239\u001b[0m         y_true, y_pred, multioutput)\n\u001b[1;32m    240\u001b[0m     \u001b[0mcheck_consistent_length\u001b[0m\u001b[0;34m(\u001b[0m\u001b[0my_true\u001b[0m\u001b[0;34m,\u001b[0m \u001b[0my_pred\u001b[0m\u001b[0;34m,\u001b[0m \u001b[0msample_weight\u001b[0m\u001b[0;34m)\u001b[0m\u001b[0;34m\u001b[0m\u001b[0;34m\u001b[0m\u001b[0m\n\u001b[0;32m--> 241\u001b[0;31m     output_errors = np.average((y_true - y_pred) ** 2, axis=0,\n\u001b[0m\u001b[1;32m    242\u001b[0m                                weights=sample_weight)\n\u001b[1;32m    243\u001b[0m     \u001b[0;32mif\u001b[0m \u001b[0misinstance\u001b[0m\u001b[0;34m(\u001b[0m\u001b[0mmultioutput\u001b[0m\u001b[0;34m,\u001b[0m \u001b[0mstring_types\u001b[0m\u001b[0;34m)\u001b[0m\u001b[0;34m:\u001b[0m\u001b[0;34m\u001b[0m\u001b[0;34m\u001b[0m\u001b[0m\n",
      "\u001b[0;31mTypeError\u001b[0m: ufunc 'subtract' did not contain a loop with signature matching types dtype('<U6') dtype('<U6') dtype('<U6')"
     ]
    },
    {
     "data": {
      "image/png": "[encoded data removed]",
      "text/plain": [
       "<Figure size 360x360 with 2 Axes>"
      ]
     },
     "metadata": {
      "needs_background": "light"
     },
     "output_type": "display_data"
    },
    {
     "data": {
      "image/png": "[encoded data removed]",
      "text/plain": [
       "<Figure size 432x288 with 1 Axes>"
      ]
     },
     "metadata": {
      "needs_background": "light"
     },
     "output_type": "display_data"
    }
   ],
   "source": [
    "print(\"Accuracy: \", accuracy_score(Gender_y_test, predictions))\n",
    "print(classification_report(Gender_y_test, predictions))\n",
    "print(confusion_matrix(Gender_y_test, predictions))\n",
    "\n",
    "#confusion_matrix_heatmap(confusion_matrix(Gender_y_test, predictions), GenderPipeline.classes_)\n",
    "confusion_matrix_heatmap(confusion_matrix(Gender_y_test, predictions), ['Male', 'Female'])\n",
    "\n",
    "\n",
    "res = pd.DataFrame( data = {'Predictions': predictions, 'Actual': Gender_y_test} )\n",
    "\n",
    "res = res.replace(['male', 'female'], [1, 0])\n",
    "\n",
    "res[:20].plot()\n",
    "\n",
    "math.sqrt(mean_squared_error(predictions,Gender_y_test))"
   ]
  },
  {
   "cell_type": "markdown",
   "metadata": {},
   "source": [
    "# Inferrering Birth Year from Gender and Text"
   ]
  },
  {
   "cell_type": "code",
   "execution_count": 161,
   "metadata": {},
   "outputs": [
    {
     "data": {
      "text/plain": [
       "12.583543044610114"
      ]
     },
     "execution_count": 161,
     "metadata": {},
     "output_type": "execute_result"
    }
   ],
   "source": [
    "math.sqrt(mean_squared_error(predictions,Birth_y_test))"
   ]
  },
  {
   "cell_type": "markdown",
   "metadata": {},
   "source": [
    "# Evaluating Birth Year from Gender Classifier"
   ]
  },
  {
   "cell_type": "code",
   "execution_count": 124,
   "metadata": {},
   "outputs": [],
   "source": []
  },
  {
   "cell_type": "code",
   "execution_count": 138,
   "metadata": {},
   "outputs": [
    {
     "name": "stdout",
     "output_type": "stream",
     "text": [
      "Predicted Birth-Year for:  alishapatel28_tweets.json is:  [1991.]\n",
      "Predicted Age for  alishapatel28_tweets.json is:  [27.]\n",
      "Predicted Gender for:  alishapatel28_tweets.json is:  ['female']\n"
     ]
    }
   ],
   "source": [
    "#Testing\n",
    "path = 'alishapatel28_tweets.json'\n",
    "#path = 'ashnapatel_tweets.json'\n",
    "    \n",
    "def getTestData():\n",
    "    # Read in the twitter text\n",
    "    data = []\n",
    "    with open(path) as json_file:  \n",
    "        data = json.load(json_file)\n",
    "\n",
    "    return data\n",
    "\n",
    "def getTestDocument(data):\n",
    "    try:\n",
    "        doc = Document({}) #include metadata\n",
    "        for tweet in data:\n",
    "            doc.extract_features_from_text(tweet['full_text'])\n",
    "            #print(tweet['full_text'])\n",
    "        return doc\n",
    "    except:\n",
    "        print(\"An exception occurred\")\n",
    "\n",
    "TestCorpus = getTestData()\n",
    "\n",
    "TestCorpus = getTestDocument(TestCorpus)\n",
    "      \n",
    "PredictedBirthYear = BirthYearPipeline.predict([TestCorpus])\n",
    "PredictedGender = GenderPipeline.predict([TestCorpus])     \n",
    "print('Predicted Birth-Year for: ', path, 'is: ', PredictedBirthYear)\n",
    "print('Predicted Age for ', path, 'is: ', 2018 - PredictedBirthYear )\n",
    "print('Predicted Gender for: ', path, 'is: ', PredictedGender)\n",
    "\n"
   ]
  },
  {
   "cell_type": "code",
   "execution_count": 142,
   "metadata": {},
   "outputs": [
    {
     "ename": "AttributeError",
     "evalue": "'Counter' object has no attribute 'classes_'",
     "output_type": "error",
     "traceback": [
      "\u001b[0;31m---------------------------------------------------------------------------\u001b[0m",
      "\u001b[0;31mAttributeError\u001b[0m                            Traceback (most recent call last)",
      "\u001b[0;32m<ipython-input-142-de0cf67d394c>\u001b[0m in \u001b[0;36m<module>\u001b[0;34m()\u001b[0m\n\u001b[0;32m----> 1\u001b[0;31m \u001b[0mGenderCount\u001b[0m\u001b[0;34m.\u001b[0m\u001b[0mclasses_\u001b[0m\u001b[0;34m\u001b[0m\u001b[0;34m\u001b[0m\u001b[0m\n\u001b[0m",
      "\u001b[0;31mAttributeError\u001b[0m: 'Counter' object has no attribute 'classes_'"
     ]
    }
   ],
   "source": []
  }
 ],
 "metadata": {
  "kernelspec": {
   "display_name": "Python 3",
   "language": "python",
   "name": "python3"
  },
  "language_info": {
   "codemirror_mode": {
    "name": "ipython",
    "version": 3
   },
   "file_extension": ".py",
   "mimetype": "text/x-python",
   "name": "python",
   "nbconvert_exporter": "python",
   "pygments_lexer": "ipython3",
   "version": "3.7.2"
  }
 },
 "nbformat": 4,
 "nbformat_minor": 2
}
