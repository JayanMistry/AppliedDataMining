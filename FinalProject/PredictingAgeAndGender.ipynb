{
 "cells": [
  {
   "cell_type": "markdown",
   "metadata": {},
   "source": [
    "# Import libraries, create document class to hold info"
   ]
  },
  {
   "cell_type": "code",
   "execution_count": 1,
   "metadata": {},
   "outputs": [],
   "source": [
    "#  /Data/celebs-usa/female contains 381 texts by females\n",
    "#  /Data/celebs-usa/male contains 912 texts by males\n",
    "#  /Data/celebs-other-json contains text by\n",
    "\n",
    "# Identify birth year as that is a constant, these tweets are from 2011-2018, age range constantly changes but birth year stays constant\n",
    "# using birth year, predict age 10-15, 15-20, 20-25, 25-30, 30-35, 35-40, 45-55,55+  \n",
    "#{'25-34', '35-44', '45-54', '55-64', '65+'}\n",
    "\n",
    "from os import listdir, makedirs\n",
    "from os.path import isfile, join, splitext, split\n",
    "import json\n",
    "from collections import Counter\n",
    "import ftfy\n",
    "import re\n",
    "import nltk\n",
    "import copy\n",
    "from collections import Counter\n",
    "import seaborn as sns\n",
    "import pandas as pd\n",
    "import numpy as np\n",
    "import ndjson\n",
    "import pickle\n",
    "import os\n",
    "import jsonlines\n",
    "\n",
    "        \n",
    "hashtag_re = re.compile(r\"#\\w+\")\n",
    "mention_re = re.compile(r\"@\\w+\")\n",
    "url_re = re.compile(r\"(?:https?://)?(?:[-\\w]+\\.)+[a-zA-Z]{2,9}[-\\w/#~:;.?+=&%@~]*\")\n",
    "\n",
    "def preprocess(text):\n",
    "    p_text = hashtag_re.sub(\"[hashtag]\",text)\n",
    "    p_text = mention_re.sub(\"[mention]\",p_text)\n",
    "    p_text = url_re.sub(\"[url]\",p_text)\n",
    "    p_text = ftfy.fix_text(p_text)\n",
    "    return p_text.lower()\n",
    "\n",
    "tokenise_re = re.compile(r\"(\\[[^\\]]+\\]|[-'\\w]+|[^\\s\\w\\[']+)\") #([]|words|other non-space)\n",
    "def tokenise(text):\n",
    "    return tokenise_re.findall(text)\n",
    "\n",
    "        \n",
    "class Document:\n",
    "    def __init__(self, meta={}):\n",
    "        self.meta = meta\n",
    "        self.tokens_fql = Counter() #empty Counter, ready to be added to with Counter.update.\n",
    "        self.pos_fql = Counter()\n",
    "        self.pos_list = [] #empty list for pos tags from running text.\n",
    "        self.num_tokens = 0\n",
    "        \n",
    "    def extract_features_from_text(self, text):\n",
    "        p_text = preprocess(text)\n",
    "        tokens = tokenise(p_text)\n",
    "        self.num_tokens += len(tokens)\n",
    "        self.tokens_fql.update(tokens) #updating Counter counts items in list, adding to existing Counter items.\n",
    "        pos_tagged = nltk.pos_tag(tokens)\n",
    "        pos = [tag[1] for tag in pos_tagged]\n",
    "        self.pos_fql.update(pos)\n",
    "        self.pos_list.extend(pos)\n",
    "        \n",
    "    def extract_features_from_texts(self, texts): #texts should be iterable text lines, e.g. read in from file.\n",
    "        for text in texts:\n",
    "            extract_features_from_text(text)\n",
    "            \n",
    "    def average_token_length(self):\n",
    "        sum_lengths = 0\n",
    "        for key, value in self.tokens_fql.items():\n",
    "            sum_lengths += len(key) * value\n",
    "        return sum_lengths / self.num_tokens"
   ]
  },
  {
   "cell_type": "markdown",
   "metadata": {},
   "source": [
    "# Reading in Celebrity Data, converting to Document Class and saving to pickle file"
   ]
  },
  {
   "cell_type": "code",
   "execution_count": 3,
   "metadata": {},
   "outputs": [
    {
     "name": "stdout",
     "output_type": "stream",
     "text": [
      "CELEB FILE EXISTS\n"
     ]
    }
   ],
   "source": [
    "'''\n",
    "This gets the celebrity data and adds the correct gender and ages \n",
    "to each json object with text\n",
    "'''\n",
    "def getCelebData():\n",
    "    path = '/home/jay/Downloads/pan19-celebrity-profiling-training-dataset-2019-01-31/feeds.ndjson'\n",
    "    path2 = '/home/jay/Downloads/pan19-celebrity-profiling-training-dataset-2019-01-31/labels.ndjson'\n",
    "\n",
    "    # Read in the twitter text\n",
    "    data = []\n",
    "    with jsonlines.open(path) as reader:\n",
    "        for obj in reader:\n",
    "            obj['test']='lol'\n",
    "            data.append(obj)\n",
    "            if len(data) >2999:\n",
    "                break;\n",
    "    # Here the correct labels are identified and paried           \n",
    "    labels = []\n",
    "    with jsonlines.open(path2) as reader:\n",
    "        for obj in reader:\n",
    "            for d in data:\n",
    "                if d['id'] == obj['id']:\n",
    "                    d['gender'] = obj['gender']\n",
    "                    d['birthyear'] = obj['birthyear']\n",
    "    return data\n",
    "\n",
    "'''\n",
    "This function returns the 5 year group a year of birth resides in, e.g. 1995 is between 1995-1999 (inclusive 5 year period)\n",
    "'''\n",
    "def getYearRange(yearOfBirth):\n",
    "    YearGroupGap = 5\n",
    "    for minYear in range(1900,2015,YearGroupGap):\n",
    "        maxYear = minYear+YearGroupGap\n",
    "        #print('min: ',minYear,'max: ',maxYear)\n",
    "        if (yearOfBirth >= minYear) and (yearOfBirth < maxYear):\n",
    "            return( str(minYear)+'-'+str(maxYear-1) )\n",
    "    raise Exception('year of Birth passed in - ' + str(yearOfBirth)+' is not in range of min and max years' ) \n",
    "    \n",
    "\n",
    "'''\n",
    "This helper function uses the Document class to return a doc\n",
    "class for each user with the correct gender, age and tweets\n",
    "'''\n",
    "def getDocument(data):\n",
    "    gender    = data['gender']\n",
    "    birthyear = data['birthyear']\n",
    "    if data['birthyear'] != 'unknown':\n",
    "        birthYearRange = getYearRange(data['birthyear'])\n",
    "\n",
    "    doc = Document({'gender': gender, 'birthyear':birthyear, 'birthyearrange':birthYearRange}) #include metadata\n",
    "    for tweet in data['text']:\n",
    "        doc.extract_features_from_text(tweet)\n",
    "    return doc\n",
    "\n",
    "'''\n",
    "Check if the pickle file exists, if not then create it, else read in\n",
    "'''\n",
    "corpus = []\n",
    "if os.path.exists(\"/home/jay/Documents/AppliedDataMining/FinalProject/Data/CelebFile\"):\n",
    "    with open('/home/jay/Documents/AppliedDataMining/FinalProject/Data/CelebFile', 'rb') as fp:\n",
    "        corpus = pickle.load(fp)\n",
    "    print('CELEB FILE EXISTS')\n",
    "else:\n",
    "    print('CELEB FILE DOES NOT EXISTS, CREATING')\n",
    "    # Call the function to get the twitter data\n",
    "    corpus = getCelebData()\n",
    "    #For each json object, convert it to a document object\n",
    "    for i in range(len(corpus)):\n",
    "        print('Doing Obj Number: ',i)\n",
    "        corpus[i] = getDocument(corpus[i])\n",
    "    \n",
    "    with open('/home/jay/Documents/AppliedDataMining/FinalProject/Data/CelebFile', 'wb') as fp:\n",
    "        pickle.dump(corpus, fp)\n",
    "    print('CELEB FILE CREATED')"
   ]
  },
  {
   "cell_type": "markdown",
   "metadata": {},
   "source": [
    "# Exploratory Data Analysis"
   ]
  },
  {
   "cell_type": "code",
   "execution_count": 4,
   "metadata": {},
   "outputs": [
    {
     "name": "stdout",
     "output_type": "stream",
     "text": [
      "got here\n"
     ]
    },
    {
     "name": "stderr",
     "output_type": "stream",
     "text": [
      "/home/jay/anaconda3/lib/python3.7/site-packages/scipy/stats/stats.py:1713: FutureWarning: Using a non-tuple sequence for multidimensional indexing is deprecated; use `arr[tuple(seq)]` instead of `arr[seq]`. In the future this will be interpreted as an array index, `arr[np.array(seq)]`, which will result either in an error or a different result.\n",
      "  return np.add.reduce(sorted[indexer] * weights, axis=axis) / sumval\n"
     ]
    },
    {
     "ename": "KeyError",
     "evalue": "'birth_year_range'",
     "output_type": "error",
     "traceback": [
      "\u001b[0;31m---------------------------------------------------------------------------\u001b[0m",
      "\u001b[0;31mKeyError\u001b[0m                                  Traceback (most recent call last)",
      "\u001b[0;32m<ipython-input-4-4af3e3e1cdf1>\u001b[0m in \u001b[0;36m<module>\u001b[0;34m()\u001b[0m\n\u001b[1;32m     21\u001b[0m \u001b[0;34m\u001b[0m\u001b[0m\n\u001b[1;32m     22\u001b[0m \u001b[0;31m#Get all the birth years and plot a histogram\u001b[0m\u001b[0;34m\u001b[0m\u001b[0;34m\u001b[0m\u001b[0;34m\u001b[0m\u001b[0m\n\u001b[0;32m---> 23\u001b[0;31m \u001b[0mbirth_year_range_y\u001b[0m \u001b[0;34m=\u001b[0m \u001b[0;34m[\u001b[0m\u001b[0md\u001b[0m\u001b[0;34m.\u001b[0m\u001b[0mmeta\u001b[0m\u001b[0;34m[\u001b[0m\u001b[0;34m'birth_year_range'\u001b[0m\u001b[0;34m]\u001b[0m \u001b[0;32mfor\u001b[0m \u001b[0md\u001b[0m \u001b[0;32min\u001b[0m \u001b[0mcorpus\u001b[0m\u001b[0;34m]\u001b[0m\u001b[0;34m\u001b[0m\u001b[0;34m\u001b[0m\u001b[0m\n\u001b[0m\u001b[1;32m     24\u001b[0m \u001b[0mx\u001b[0m \u001b[0;34m=\u001b[0m \u001b[0mpd\u001b[0m\u001b[0;34m.\u001b[0m\u001b[0mSeries\u001b[0m\u001b[0;34m(\u001b[0m\u001b[0mbirth_year_range_y\u001b[0m\u001b[0;34m,\u001b[0m \u001b[0mname\u001b[0m\u001b[0;34m=\u001b[0m\u001b[0;34m\"Birth Year Range\"\u001b[0m\u001b[0;34m)\u001b[0m\u001b[0;34m\u001b[0m\u001b[0;34m\u001b[0m\u001b[0m\n\u001b[1;32m     25\u001b[0m \u001b[0msns\u001b[0m\u001b[0;34m.\u001b[0m\u001b[0mdistplot\u001b[0m\u001b[0;34m(\u001b[0m\u001b[0mx\u001b[0m\u001b[0;34m)\u001b[0m\u001b[0;34m\u001b[0m\u001b[0;34m\u001b[0m\u001b[0m\n",
      "\u001b[0;32m<ipython-input-4-4af3e3e1cdf1>\u001b[0m in \u001b[0;36m<listcomp>\u001b[0;34m(.0)\u001b[0m\n\u001b[1;32m     21\u001b[0m \u001b[0;34m\u001b[0m\u001b[0m\n\u001b[1;32m     22\u001b[0m \u001b[0;31m#Get all the birth years and plot a histogram\u001b[0m\u001b[0;34m\u001b[0m\u001b[0;34m\u001b[0m\u001b[0;34m\u001b[0m\u001b[0m\n\u001b[0;32m---> 23\u001b[0;31m \u001b[0mbirth_year_range_y\u001b[0m \u001b[0;34m=\u001b[0m \u001b[0;34m[\u001b[0m\u001b[0md\u001b[0m\u001b[0;34m.\u001b[0m\u001b[0mmeta\u001b[0m\u001b[0;34m[\u001b[0m\u001b[0;34m'birth_year_range'\u001b[0m\u001b[0;34m]\u001b[0m \u001b[0;32mfor\u001b[0m \u001b[0md\u001b[0m \u001b[0;32min\u001b[0m \u001b[0mcorpus\u001b[0m\u001b[0;34m]\u001b[0m\u001b[0;34m\u001b[0m\u001b[0;34m\u001b[0m\u001b[0m\n\u001b[0m\u001b[1;32m     24\u001b[0m \u001b[0mx\u001b[0m \u001b[0;34m=\u001b[0m \u001b[0mpd\u001b[0m\u001b[0;34m.\u001b[0m\u001b[0mSeries\u001b[0m\u001b[0;34m(\u001b[0m\u001b[0mbirth_year_range_y\u001b[0m\u001b[0;34m,\u001b[0m \u001b[0mname\u001b[0m\u001b[0;34m=\u001b[0m\u001b[0;34m\"Birth Year Range\"\u001b[0m\u001b[0;34m)\u001b[0m\u001b[0;34m\u001b[0m\u001b[0;34m\u001b[0m\u001b[0m\n\u001b[1;32m     25\u001b[0m \u001b[0msns\u001b[0m\u001b[0;34m.\u001b[0m\u001b[0mdistplot\u001b[0m\u001b[0;34m(\u001b[0m\u001b[0mx\u001b[0m\u001b[0;34m)\u001b[0m\u001b[0;34m\u001b[0m\u001b[0;34m\u001b[0m\u001b[0m\n",
      "\u001b[0;31mKeyError\u001b[0m: 'birth_year_range'"
     ]
    },
    {
     "data": {
      "image/png": "[encoded data removed]",
      "text/plain": [
       "<Figure size 432x288 with 1 Axes>"
      ]
     },
     "metadata": {
      "needs_background": "light"
     },
     "output_type": "display_data"
    },
    {
     "data": {
      "image/png": "[encoded data removed]",
      "text/plain": [
       "<Figure size 720x720 with 1 Axes>"
      ]
     },
     "metadata": {
      "needs_background": "light"
     },
     "output_type": "display_data"
    }
   ],
   "source": [
    "birthCorpus = copy.deepcopy(corpus)\n",
    "\n",
    "for doc in birthCorpus:\n",
    "    if doc.meta['birthyear'] != 'unknown':\n",
    "        birthYearRange = getYearRange(doc.meta['birthyear'])\n",
    "        doc.meta['birth_year_range'] = birthYearRange\n",
    "#############Eventually remove above after next data read (this will be done when data read in)\n",
    "print('got here')\n",
    "\n",
    "#Get all the birth years and plot a histogram\n",
    "birth_year_y = [d.meta['birthyear'] for d in corpus]\n",
    "x = pd.Series(birth_year_y, name=\"Birth Year\")\n",
    "sns.distplot(x)\n",
    "\n",
    "#Get a count of of the birth years and plot a bar chart\n",
    "df = pd.DataFrame.from_dict(Counter(birth_year_y), orient='index').reset_index()\n",
    "df.columns = ['Year','Frequency of people born']\n",
    "df = df.sort_values(by=['Year'])\n",
    "df.plot.bar(x='Year', y='Frequency of people born', rot=90,figsize=(10,10), title='The number of people born in each year')\n",
    "df\n",
    "\n",
    "#Get all the birth years and plot a histogram\n",
    "birth_year_range_y = [d.meta['birth_year_range'] for d in corpus]\n",
    "x = pd.Series(birth_year_range_y, name=\"Birth Year Range\")\n",
    "sns.distplot(x)\n",
    "\n",
    "#Get all the genders and plot a bar chart\n",
    "gender_y = [d.meta['gender'] for d in corpus]\n",
    "x = pd.Series(gender_y, name=\"Gender\")\n",
    "sns.distplot(x)\n",
    "\n",
    "print('d')"
   ]
  },
  {
   "cell_type": "code",
   "execution_count": null,
   "metadata": {},
   "outputs": [],
   "source": [
    "min(birth_year_y)  #1932\n",
    "max(birth_year_y)  #1993\n",
    "\n",
    "genderCorpus = [d for d in corpus if d.meta['gender'] != 'unknown']\n",
    "gender_y = [d.meta['gender'] for d in genderCorpus]\n",
    "gender_X = genderCorpus\n",
    "GenderCount = Counter(gender_y)\n",
    "\n",
    "birthCorpus = [d for d in corpus if d.meta['birthyear'] != 'unknown']\n",
    "birth_year_y = [d.meta['birthyear'] for d in birthCorpus]\n",
    "birth_year_X = corpus\n",
    "BirthYearCount = Counter(birth_year_y)\n",
    "\n",
    "print(GenderCount)\n",
    "print('---------------')\n",
    "print(BirthYearCount)\n",
    "\n",
    "\n",
    "birth_year_y = [d.meta['gender'] for d in corpus]\n",
    "print('doing')\n",
    "Counter(birth_year_y)"
   ]
  },
  {
   "cell_type": "code",
   "execution_count": null,
   "metadata": {},
   "outputs": [],
   "source": [
    "birth_year_y = [d.meta['birthyear'] for d in corpus]"
   ]
  },
  {
   "cell_type": "code",
   "execution_count": null,
   "metadata": {},
   "outputs": [],
   "source": [
    "from sklearn.model_selection import train_test_split\n",
    "\n",
    "X_train, X_test, y_train, y_test = train_test_split(X,y, test_size=0.2, random_state = 0, stratify=y)"
   ]
  },
  {
   "cell_type": "code",
   "execution_count": null,
   "metadata": {},
   "outputs": [],
   "source": []
  }
 ],
 "metadata": {
  "kernelspec": {
   "display_name": "Python 3",
   "language": "python",
   "name": "python3"
  },
  "language_info": {
   "codemirror_mode": {
    "name": "ipython",
    "version": 3
   },
   "file_extension": ".py",
   "mimetype": "text/x-python",
   "name": "python",
   "nbconvert_exporter": "python",
   "pygments_lexer": "ipython3",
   "version": "3.7.2"
  }
 },
 "nbformat": 4,
 "nbformat_minor": 2
}
